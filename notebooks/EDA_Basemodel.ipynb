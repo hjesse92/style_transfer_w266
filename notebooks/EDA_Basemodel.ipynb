{
  "nbformat": 4,
  "nbformat_minor": 0,
  "metadata": {
    "colab": {
      "provenance": []
    },
    "kernelspec": {
      "name": "python3",
      "display_name": "Python 3"
    },
    "language_info": {
      "name": "python"
    },
    "accelerator": "GPU",
    "gpuClass": "standard",
    "widgets": {
      "application/vnd.jupyter.widget-state+json": {
        "12c6fcf4591e4011a8156da46254585c": {
          "model_module": "@jupyter-widgets/controls",
          "model_name": "HBoxModel",
          "model_module_version": "1.5.0",
          "state": {
            "_dom_classes": [],
            "_model_module": "@jupyter-widgets/controls",
            "_model_module_version": "1.5.0",
            "_model_name": "HBoxModel",
            "_view_count": null,
            "_view_module": "@jupyter-widgets/controls",
            "_view_module_version": "1.5.0",
            "_view_name": "HBoxView",
            "box_style": "",
            "children": [
              "IPY_MODEL_3612522f7a7846a09eab8de1152822d3",
              "IPY_MODEL_d7c787db6db94a568cf730d3684fc9af",
              "IPY_MODEL_87f43fb81509401698499f24ca3cdfb6"
            ],
            "layout": "IPY_MODEL_b494d196fc0e4e368b5f7047b32d431f"
          }
        },
        "3612522f7a7846a09eab8de1152822d3": {
          "model_module": "@jupyter-widgets/controls",
          "model_name": "HTMLModel",
          "model_module_version": "1.5.0",
          "state": {
            "_dom_classes": [],
            "_model_module": "@jupyter-widgets/controls",
            "_model_module_version": "1.5.0",
            "_model_name": "HTMLModel",
            "_view_count": null,
            "_view_module": "@jupyter-widgets/controls",
            "_view_module_version": "1.5.0",
            "_view_name": "HTMLView",
            "description": "",
            "description_tooltip": null,
            "layout": "IPY_MODEL_dfff44164dfd4dbeb8f3b47144256d65",
            "placeholder": "​",
            "style": "IPY_MODEL_a9d72e9cbc5a404fa6457872b335ce64",
            "value": "Downloading (…)lve/main/config.json: 100%"
          }
        },
        "d7c787db6db94a568cf730d3684fc9af": {
          "model_module": "@jupyter-widgets/controls",
          "model_name": "FloatProgressModel",
          "model_module_version": "1.5.0",
          "state": {
            "_dom_classes": [],
            "_model_module": "@jupyter-widgets/controls",
            "_model_module_version": "1.5.0",
            "_model_name": "FloatProgressModel",
            "_view_count": null,
            "_view_module": "@jupyter-widgets/controls",
            "_view_module_version": "1.5.0",
            "_view_name": "ProgressView",
            "bar_style": "success",
            "description": "",
            "description_tooltip": null,
            "layout": "IPY_MODEL_c7bc870b41bd4dc08400be1386cc0901",
            "max": 483,
            "min": 0,
            "orientation": "horizontal",
            "style": "IPY_MODEL_77b5f26cbe584827b4e8ffcd670d8280",
            "value": 483
          }
        },
        "87f43fb81509401698499f24ca3cdfb6": {
          "model_module": "@jupyter-widgets/controls",
          "model_name": "HTMLModel",
          "model_module_version": "1.5.0",
          "state": {
            "_dom_classes": [],
            "_model_module": "@jupyter-widgets/controls",
            "_model_module_version": "1.5.0",
            "_model_name": "HTMLModel",
            "_view_count": null,
            "_view_module": "@jupyter-widgets/controls",
            "_view_module_version": "1.5.0",
            "_view_name": "HTMLView",
            "description": "",
            "description_tooltip": null,
            "layout": "IPY_MODEL_66effd72baeb42b8b6498b8bd0c4e79d",
            "placeholder": "​",
            "style": "IPY_MODEL_6b9ee9b39b6a4e62aff5dca4e0765f7e",
            "value": " 483/483 [00:00&lt;00:00, 6.64kB/s]"
          }
        },
        "b494d196fc0e4e368b5f7047b32d431f": {
          "model_module": "@jupyter-widgets/base",
          "model_name": "LayoutModel",
          "model_module_version": "1.2.0",
          "state": {
            "_model_module": "@jupyter-widgets/base",
            "_model_module_version": "1.2.0",
            "_model_name": "LayoutModel",
            "_view_count": null,
            "_view_module": "@jupyter-widgets/base",
            "_view_module_version": "1.2.0",
            "_view_name": "LayoutView",
            "align_content": null,
            "align_items": null,
            "align_self": null,
            "border": null,
            "bottom": null,
            "display": null,
            "flex": null,
            "flex_flow": null,
            "grid_area": null,
            "grid_auto_columns": null,
            "grid_auto_flow": null,
            "grid_auto_rows": null,
            "grid_column": null,
            "grid_gap": null,
            "grid_row": null,
            "grid_template_areas": null,
            "grid_template_columns": null,
            "grid_template_rows": null,
            "height": null,
            "justify_content": null,
            "justify_items": null,
            "left": null,
            "margin": null,
            "max_height": null,
            "max_width": null,
            "min_height": null,
            "min_width": null,
            "object_fit": null,
            "object_position": null,
            "order": null,
            "overflow": null,
            "overflow_x": null,
            "overflow_y": null,
            "padding": null,
            "right": null,
            "top": null,
            "visibility": null,
            "width": null
          }
        },
        "dfff44164dfd4dbeb8f3b47144256d65": {
          "model_module": "@jupyter-widgets/base",
          "model_name": "LayoutModel",
          "model_module_version": "1.2.0",
          "state": {
            "_model_module": "@jupyter-widgets/base",
            "_model_module_version": "1.2.0",
            "_model_name": "LayoutModel",
            "_view_count": null,
            "_view_module": "@jupyter-widgets/base",
            "_view_module_version": "1.2.0",
            "_view_name": "LayoutView",
            "align_content": null,
            "align_items": null,
            "align_self": null,
            "border": null,
            "bottom": null,
            "display": null,
            "flex": null,
            "flex_flow": null,
            "grid_area": null,
            "grid_auto_columns": null,
            "grid_auto_flow": null,
            "grid_auto_rows": null,
            "grid_column": null,
            "grid_gap": null,
            "grid_row": null,
            "grid_template_areas": null,
            "grid_template_columns": null,
            "grid_template_rows": null,
            "height": null,
            "justify_content": null,
            "justify_items": null,
            "left": null,
            "margin": null,
            "max_height": null,
            "max_width": null,
            "min_height": null,
            "min_width": null,
            "object_fit": null,
            "object_position": null,
            "order": null,
            "overflow": null,
            "overflow_x": null,
            "overflow_y": null,
            "padding": null,
            "right": null,
            "top": null,
            "visibility": null,
            "width": null
          }
        },
        "a9d72e9cbc5a404fa6457872b335ce64": {
          "model_module": "@jupyter-widgets/controls",
          "model_name": "DescriptionStyleModel",
          "model_module_version": "1.5.0",
          "state": {
            "_model_module": "@jupyter-widgets/controls",
            "_model_module_version": "1.5.0",
            "_model_name": "DescriptionStyleModel",
            "_view_count": null,
            "_view_module": "@jupyter-widgets/base",
            "_view_module_version": "1.2.0",
            "_view_name": "StyleView",
            "description_width": ""
          }
        },
        "c7bc870b41bd4dc08400be1386cc0901": {
          "model_module": "@jupyter-widgets/base",
          "model_name": "LayoutModel",
          "model_module_version": "1.2.0",
          "state": {
            "_model_module": "@jupyter-widgets/base",
            "_model_module_version": "1.2.0",
            "_model_name": "LayoutModel",
            "_view_count": null,
            "_view_module": "@jupyter-widgets/base",
            "_view_module_version": "1.2.0",
            "_view_name": "LayoutView",
            "align_content": null,
            "align_items": null,
            "align_self": null,
            "border": null,
            "bottom": null,
            "display": null,
            "flex": null,
            "flex_flow": null,
            "grid_area": null,
            "grid_auto_columns": null,
            "grid_auto_flow": null,
            "grid_auto_rows": null,
            "grid_column": null,
            "grid_gap": null,
            "grid_row": null,
            "grid_template_areas": null,
            "grid_template_columns": null,
            "grid_template_rows": null,
            "height": null,
            "justify_content": null,
            "justify_items": null,
            "left": null,
            "margin": null,
            "max_height": null,
            "max_width": null,
            "min_height": null,
            "min_width": null,
            "object_fit": null,
            "object_position": null,
            "order": null,
            "overflow": null,
            "overflow_x": null,
            "overflow_y": null,
            "padding": null,
            "right": null,
            "top": null,
            "visibility": null,
            "width": null
          }
        },
        "77b5f26cbe584827b4e8ffcd670d8280": {
          "model_module": "@jupyter-widgets/controls",
          "model_name": "ProgressStyleModel",
          "model_module_version": "1.5.0",
          "state": {
            "_model_module": "@jupyter-widgets/controls",
            "_model_module_version": "1.5.0",
            "_model_name": "ProgressStyleModel",
            "_view_count": null,
            "_view_module": "@jupyter-widgets/base",
            "_view_module_version": "1.2.0",
            "_view_name": "StyleView",
            "bar_color": null,
            "description_width": ""
          }
        },
        "66effd72baeb42b8b6498b8bd0c4e79d": {
          "model_module": "@jupyter-widgets/base",
          "model_name": "LayoutModel",
          "model_module_version": "1.2.0",
          "state": {
            "_model_module": "@jupyter-widgets/base",
            "_model_module_version": "1.2.0",
            "_model_name": "LayoutModel",
            "_view_count": null,
            "_view_module": "@jupyter-widgets/base",
            "_view_module_version": "1.2.0",
            "_view_name": "LayoutView",
            "align_content": null,
            "align_items": null,
            "align_self": null,
            "border": null,
            "bottom": null,
            "display": null,
            "flex": null,
            "flex_flow": null,
            "grid_area": null,
            "grid_auto_columns": null,
            "grid_auto_flow": null,
            "grid_auto_rows": null,
            "grid_column": null,
            "grid_gap": null,
            "grid_row": null,
            "grid_template_areas": null,
            "grid_template_columns": null,
            "grid_template_rows": null,
            "height": null,
            "justify_content": null,
            "justify_items": null,
            "left": null,
            "margin": null,
            "max_height": null,
            "max_width": null,
            "min_height": null,
            "min_width": null,
            "object_fit": null,
            "object_position": null,
            "order": null,
            "overflow": null,
            "overflow_x": null,
            "overflow_y": null,
            "padding": null,
            "right": null,
            "top": null,
            "visibility": null,
            "width": null
          }
        },
        "6b9ee9b39b6a4e62aff5dca4e0765f7e": {
          "model_module": "@jupyter-widgets/controls",
          "model_name": "DescriptionStyleModel",
          "model_module_version": "1.5.0",
          "state": {
            "_model_module": "@jupyter-widgets/controls",
            "_model_module_version": "1.5.0",
            "_model_name": "DescriptionStyleModel",
            "_view_count": null,
            "_view_module": "@jupyter-widgets/base",
            "_view_module_version": "1.2.0",
            "_view_name": "StyleView",
            "description_width": ""
          }
        },
        "d18de8f0f2ee4333a31ce6e0075e44f9": {
          "model_module": "@jupyter-widgets/controls",
          "model_name": "HBoxModel",
          "model_module_version": "1.5.0",
          "state": {
            "_dom_classes": [],
            "_model_module": "@jupyter-widgets/controls",
            "_model_module_version": "1.5.0",
            "_model_name": "HBoxModel",
            "_view_count": null,
            "_view_module": "@jupyter-widgets/controls",
            "_view_module_version": "1.5.0",
            "_view_name": "HBoxView",
            "box_style": "",
            "children": [
              "IPY_MODEL_7bd7f01233504affbe504e47a112512c",
              "IPY_MODEL_11cb58e38f7d4072af13c89c166ce1b2",
              "IPY_MODEL_2030d0dfb65b42b5bd1ae15bb56f3872"
            ],
            "layout": "IPY_MODEL_f51fcb67f0bb4309843d6c984b632d14"
          }
        },
        "7bd7f01233504affbe504e47a112512c": {
          "model_module": "@jupyter-widgets/controls",
          "model_name": "HTMLModel",
          "model_module_version": "1.5.0",
          "state": {
            "_dom_classes": [],
            "_model_module": "@jupyter-widgets/controls",
            "_model_module_version": "1.5.0",
            "_model_name": "HTMLModel",
            "_view_count": null,
            "_view_module": "@jupyter-widgets/controls",
            "_view_module_version": "1.5.0",
            "_view_name": "HTMLView",
            "description": "",
            "description_tooltip": null,
            "layout": "IPY_MODEL_0dfff7a247754bf09ee9134732d69a77",
            "placeholder": "​",
            "style": "IPY_MODEL_d236d58ac0b344f3bc67ba796febe03a",
            "value": "Downloading pytorch_model.bin: 100%"
          }
        },
        "11cb58e38f7d4072af13c89c166ce1b2": {
          "model_module": "@jupyter-widgets/controls",
          "model_name": "FloatProgressModel",
          "model_module_version": "1.5.0",
          "state": {
            "_dom_classes": [],
            "_model_module": "@jupyter-widgets/controls",
            "_model_module_version": "1.5.0",
            "_model_name": "FloatProgressModel",
            "_view_count": null,
            "_view_module": "@jupyter-widgets/controls",
            "_view_module_version": "1.5.0",
            "_view_name": "ProgressView",
            "bar_style": "success",
            "description": "",
            "description_tooltip": null,
            "layout": "IPY_MODEL_658198318db64ea79d29f3cf86ad48ab",
            "max": 267967963,
            "min": 0,
            "orientation": "horizontal",
            "style": "IPY_MODEL_1dc98480c01d4620a013a57ba87fe943",
            "value": 267967963
          }
        },
        "2030d0dfb65b42b5bd1ae15bb56f3872": {
          "model_module": "@jupyter-widgets/controls",
          "model_name": "HTMLModel",
          "model_module_version": "1.5.0",
          "state": {
            "_dom_classes": [],
            "_model_module": "@jupyter-widgets/controls",
            "_model_module_version": "1.5.0",
            "_model_name": "HTMLModel",
            "_view_count": null,
            "_view_module": "@jupyter-widgets/controls",
            "_view_module_version": "1.5.0",
            "_view_name": "HTMLView",
            "description": "",
            "description_tooltip": null,
            "layout": "IPY_MODEL_113a74f136c04603b91877018dfd49ed",
            "placeholder": "​",
            "style": "IPY_MODEL_b936fd916b9a494bac8c174dffcf4a12",
            "value": " 268M/268M [00:02&lt;00:00, 113MB/s]"
          }
        },
        "f51fcb67f0bb4309843d6c984b632d14": {
          "model_module": "@jupyter-widgets/base",
          "model_name": "LayoutModel",
          "model_module_version": "1.2.0",
          "state": {
            "_model_module": "@jupyter-widgets/base",
            "_model_module_version": "1.2.0",
            "_model_name": "LayoutModel",
            "_view_count": null,
            "_view_module": "@jupyter-widgets/base",
            "_view_module_version": "1.2.0",
            "_view_name": "LayoutView",
            "align_content": null,
            "align_items": null,
            "align_self": null,
            "border": null,
            "bottom": null,
            "display": null,
            "flex": null,
            "flex_flow": null,
            "grid_area": null,
            "grid_auto_columns": null,
            "grid_auto_flow": null,
            "grid_auto_rows": null,
            "grid_column": null,
            "grid_gap": null,
            "grid_row": null,
            "grid_template_areas": null,
            "grid_template_columns": null,
            "grid_template_rows": null,
            "height": null,
            "justify_content": null,
            "justify_items": null,
            "left": null,
            "margin": null,
            "max_height": null,
            "max_width": null,
            "min_height": null,
            "min_width": null,
            "object_fit": null,
            "object_position": null,
            "order": null,
            "overflow": null,
            "overflow_x": null,
            "overflow_y": null,
            "padding": null,
            "right": null,
            "top": null,
            "visibility": null,
            "width": null
          }
        },
        "0dfff7a247754bf09ee9134732d69a77": {
          "model_module": "@jupyter-widgets/base",
          "model_name": "LayoutModel",
          "model_module_version": "1.2.0",
          "state": {
            "_model_module": "@jupyter-widgets/base",
            "_model_module_version": "1.2.0",
            "_model_name": "LayoutModel",
            "_view_count": null,
            "_view_module": "@jupyter-widgets/base",
            "_view_module_version": "1.2.0",
            "_view_name": "LayoutView",
            "align_content": null,
            "align_items": null,
            "align_self": null,
            "border": null,
            "bottom": null,
            "display": null,
            "flex": null,
            "flex_flow": null,
            "grid_area": null,
            "grid_auto_columns": null,
            "grid_auto_flow": null,
            "grid_auto_rows": null,
            "grid_column": null,
            "grid_gap": null,
            "grid_row": null,
            "grid_template_areas": null,
            "grid_template_columns": null,
            "grid_template_rows": null,
            "height": null,
            "justify_content": null,
            "justify_items": null,
            "left": null,
            "margin": null,
            "max_height": null,
            "max_width": null,
            "min_height": null,
            "min_width": null,
            "object_fit": null,
            "object_position": null,
            "order": null,
            "overflow": null,
            "overflow_x": null,
            "overflow_y": null,
            "padding": null,
            "right": null,
            "top": null,
            "visibility": null,
            "width": null
          }
        },
        "d236d58ac0b344f3bc67ba796febe03a": {
          "model_module": "@jupyter-widgets/controls",
          "model_name": "DescriptionStyleModel",
          "model_module_version": "1.5.0",
          "state": {
            "_model_module": "@jupyter-widgets/controls",
            "_model_module_version": "1.5.0",
            "_model_name": "DescriptionStyleModel",
            "_view_count": null,
            "_view_module": "@jupyter-widgets/base",
            "_view_module_version": "1.2.0",
            "_view_name": "StyleView",
            "description_width": ""
          }
        },
        "658198318db64ea79d29f3cf86ad48ab": {
          "model_module": "@jupyter-widgets/base",
          "model_name": "LayoutModel",
          "model_module_version": "1.2.0",
          "state": {
            "_model_module": "@jupyter-widgets/base",
            "_model_module_version": "1.2.0",
            "_model_name": "LayoutModel",
            "_view_count": null,
            "_view_module": "@jupyter-widgets/base",
            "_view_module_version": "1.2.0",
            "_view_name": "LayoutView",
            "align_content": null,
            "align_items": null,
            "align_self": null,
            "border": null,
            "bottom": null,
            "display": null,
            "flex": null,
            "flex_flow": null,
            "grid_area": null,
            "grid_auto_columns": null,
            "grid_auto_flow": null,
            "grid_auto_rows": null,
            "grid_column": null,
            "grid_gap": null,
            "grid_row": null,
            "grid_template_areas": null,
            "grid_template_columns": null,
            "grid_template_rows": null,
            "height": null,
            "justify_content": null,
            "justify_items": null,
            "left": null,
            "margin": null,
            "max_height": null,
            "max_width": null,
            "min_height": null,
            "min_width": null,
            "object_fit": null,
            "object_position": null,
            "order": null,
            "overflow": null,
            "overflow_x": null,
            "overflow_y": null,
            "padding": null,
            "right": null,
            "top": null,
            "visibility": null,
            "width": null
          }
        },
        "1dc98480c01d4620a013a57ba87fe943": {
          "model_module": "@jupyter-widgets/controls",
          "model_name": "ProgressStyleModel",
          "model_module_version": "1.5.0",
          "state": {
            "_model_module": "@jupyter-widgets/controls",
            "_model_module_version": "1.5.0",
            "_model_name": "ProgressStyleModel",
            "_view_count": null,
            "_view_module": "@jupyter-widgets/base",
            "_view_module_version": "1.2.0",
            "_view_name": "StyleView",
            "bar_color": null,
            "description_width": ""
          }
        },
        "113a74f136c04603b91877018dfd49ed": {
          "model_module": "@jupyter-widgets/base",
          "model_name": "LayoutModel",
          "model_module_version": "1.2.0",
          "state": {
            "_model_module": "@jupyter-widgets/base",
            "_model_module_version": "1.2.0",
            "_model_name": "LayoutModel",
            "_view_count": null,
            "_view_module": "@jupyter-widgets/base",
            "_view_module_version": "1.2.0",
            "_view_name": "LayoutView",
            "align_content": null,
            "align_items": null,
            "align_self": null,
            "border": null,
            "bottom": null,
            "display": null,
            "flex": null,
            "flex_flow": null,
            "grid_area": null,
            "grid_auto_columns": null,
            "grid_auto_flow": null,
            "grid_auto_rows": null,
            "grid_column": null,
            "grid_gap": null,
            "grid_row": null,
            "grid_template_areas": null,
            "grid_template_columns": null,
            "grid_template_rows": null,
            "height": null,
            "justify_content": null,
            "justify_items": null,
            "left": null,
            "margin": null,
            "max_height": null,
            "max_width": null,
            "min_height": null,
            "min_width": null,
            "object_fit": null,
            "object_position": null,
            "order": null,
            "overflow": null,
            "overflow_x": null,
            "overflow_y": null,
            "padding": null,
            "right": null,
            "top": null,
            "visibility": null,
            "width": null
          }
        },
        "b936fd916b9a494bac8c174dffcf4a12": {
          "model_module": "@jupyter-widgets/controls",
          "model_name": "DescriptionStyleModel",
          "model_module_version": "1.5.0",
          "state": {
            "_model_module": "@jupyter-widgets/controls",
            "_model_module_version": "1.5.0",
            "_model_name": "DescriptionStyleModel",
            "_view_count": null,
            "_view_module": "@jupyter-widgets/base",
            "_view_module_version": "1.2.0",
            "_view_name": "StyleView",
            "description_width": ""
          }
        },
        "584c36041b574e49ad10caccaa9a8960": {
          "model_module": "@jupyter-widgets/controls",
          "model_name": "HBoxModel",
          "model_module_version": "1.5.0",
          "state": {
            "_dom_classes": [],
            "_model_module": "@jupyter-widgets/controls",
            "_model_module_version": "1.5.0",
            "_model_name": "HBoxModel",
            "_view_count": null,
            "_view_module": "@jupyter-widgets/controls",
            "_view_module_version": "1.5.0",
            "_view_name": "HBoxView",
            "box_style": "",
            "children": [
              "IPY_MODEL_10b08f78625b4f4ab83de6f3249961ae",
              "IPY_MODEL_47b7c53691ca4fc19e5577b246866228",
              "IPY_MODEL_a175877356a04ac2a6a014387c651b63"
            ],
            "layout": "IPY_MODEL_0b40cb80669b4b93bf68b0923d9c292e"
          }
        },
        "10b08f78625b4f4ab83de6f3249961ae": {
          "model_module": "@jupyter-widgets/controls",
          "model_name": "HTMLModel",
          "model_module_version": "1.5.0",
          "state": {
            "_dom_classes": [],
            "_model_module": "@jupyter-widgets/controls",
            "_model_module_version": "1.5.0",
            "_model_name": "HTMLModel",
            "_view_count": null,
            "_view_module": "@jupyter-widgets/controls",
            "_view_module_version": "1.5.0",
            "_view_name": "HTMLView",
            "description": "",
            "description_tooltip": null,
            "layout": "IPY_MODEL_4eeb5f366d2f4a38ad4e4c2b95a3f3de",
            "placeholder": "​",
            "style": "IPY_MODEL_594cbb2333a24c67a9f07d3d406b1c4a",
            "value": "Downloading (…)solve/main/vocab.txt: 100%"
          }
        },
        "47b7c53691ca4fc19e5577b246866228": {
          "model_module": "@jupyter-widgets/controls",
          "model_name": "FloatProgressModel",
          "model_module_version": "1.5.0",
          "state": {
            "_dom_classes": [],
            "_model_module": "@jupyter-widgets/controls",
            "_model_module_version": "1.5.0",
            "_model_name": "FloatProgressModel",
            "_view_count": null,
            "_view_module": "@jupyter-widgets/controls",
            "_view_module_version": "1.5.0",
            "_view_name": "ProgressView",
            "bar_style": "success",
            "description": "",
            "description_tooltip": null,
            "layout": "IPY_MODEL_ee79461f70d946dca3ab473cfeb22a09",
            "max": 231508,
            "min": 0,
            "orientation": "horizontal",
            "style": "IPY_MODEL_0c7be537658f4b87b7035282a2f107a9",
            "value": 231508
          }
        },
        "a175877356a04ac2a6a014387c651b63": {
          "model_module": "@jupyter-widgets/controls",
          "model_name": "HTMLModel",
          "model_module_version": "1.5.0",
          "state": {
            "_dom_classes": [],
            "_model_module": "@jupyter-widgets/controls",
            "_model_module_version": "1.5.0",
            "_model_name": "HTMLModel",
            "_view_count": null,
            "_view_module": "@jupyter-widgets/controls",
            "_view_module_version": "1.5.0",
            "_view_name": "HTMLView",
            "description": "",
            "description_tooltip": null,
            "layout": "IPY_MODEL_bdb4c70d51b04168bb5b4a8daa72486a",
            "placeholder": "​",
            "style": "IPY_MODEL_a9e8e166915f4821b51c064baf1c4d47",
            "value": " 232k/232k [00:00&lt;00:00, 349kB/s]"
          }
        },
        "0b40cb80669b4b93bf68b0923d9c292e": {
          "model_module": "@jupyter-widgets/base",
          "model_name": "LayoutModel",
          "model_module_version": "1.2.0",
          "state": {
            "_model_module": "@jupyter-widgets/base",
            "_model_module_version": "1.2.0",
            "_model_name": "LayoutModel",
            "_view_count": null,
            "_view_module": "@jupyter-widgets/base",
            "_view_module_version": "1.2.0",
            "_view_name": "LayoutView",
            "align_content": null,
            "align_items": null,
            "align_self": null,
            "border": null,
            "bottom": null,
            "display": null,
            "flex": null,
            "flex_flow": null,
            "grid_area": null,
            "grid_auto_columns": null,
            "grid_auto_flow": null,
            "grid_auto_rows": null,
            "grid_column": null,
            "grid_gap": null,
            "grid_row": null,
            "grid_template_areas": null,
            "grid_template_columns": null,
            "grid_template_rows": null,
            "height": null,
            "justify_content": null,
            "justify_items": null,
            "left": null,
            "margin": null,
            "max_height": null,
            "max_width": null,
            "min_height": null,
            "min_width": null,
            "object_fit": null,
            "object_position": null,
            "order": null,
            "overflow": null,
            "overflow_x": null,
            "overflow_y": null,
            "padding": null,
            "right": null,
            "top": null,
            "visibility": null,
            "width": null
          }
        },
        "4eeb5f366d2f4a38ad4e4c2b95a3f3de": {
          "model_module": "@jupyter-widgets/base",
          "model_name": "LayoutModel",
          "model_module_version": "1.2.0",
          "state": {
            "_model_module": "@jupyter-widgets/base",
            "_model_module_version": "1.2.0",
            "_model_name": "LayoutModel",
            "_view_count": null,
            "_view_module": "@jupyter-widgets/base",
            "_view_module_version": "1.2.0",
            "_view_name": "LayoutView",
            "align_content": null,
            "align_items": null,
            "align_self": null,
            "border": null,
            "bottom": null,
            "display": null,
            "flex": null,
            "flex_flow": null,
            "grid_area": null,
            "grid_auto_columns": null,
            "grid_auto_flow": null,
            "grid_auto_rows": null,
            "grid_column": null,
            "grid_gap": null,
            "grid_row": null,
            "grid_template_areas": null,
            "grid_template_columns": null,
            "grid_template_rows": null,
            "height": null,
            "justify_content": null,
            "justify_items": null,
            "left": null,
            "margin": null,
            "max_height": null,
            "max_width": null,
            "min_height": null,
            "min_width": null,
            "object_fit": null,
            "object_position": null,
            "order": null,
            "overflow": null,
            "overflow_x": null,
            "overflow_y": null,
            "padding": null,
            "right": null,
            "top": null,
            "visibility": null,
            "width": null
          }
        },
        "594cbb2333a24c67a9f07d3d406b1c4a": {
          "model_module": "@jupyter-widgets/controls",
          "model_name": "DescriptionStyleModel",
          "model_module_version": "1.5.0",
          "state": {
            "_model_module": "@jupyter-widgets/controls",
            "_model_module_version": "1.5.0",
            "_model_name": "DescriptionStyleModel",
            "_view_count": null,
            "_view_module": "@jupyter-widgets/base",
            "_view_module_version": "1.2.0",
            "_view_name": "StyleView",
            "description_width": ""
          }
        },
        "ee79461f70d946dca3ab473cfeb22a09": {
          "model_module": "@jupyter-widgets/base",
          "model_name": "LayoutModel",
          "model_module_version": "1.2.0",
          "state": {
            "_model_module": "@jupyter-widgets/base",
            "_model_module_version": "1.2.0",
            "_model_name": "LayoutModel",
            "_view_count": null,
            "_view_module": "@jupyter-widgets/base",
            "_view_module_version": "1.2.0",
            "_view_name": "LayoutView",
            "align_content": null,
            "align_items": null,
            "align_self": null,
            "border": null,
            "bottom": null,
            "display": null,
            "flex": null,
            "flex_flow": null,
            "grid_area": null,
            "grid_auto_columns": null,
            "grid_auto_flow": null,
            "grid_auto_rows": null,
            "grid_column": null,
            "grid_gap": null,
            "grid_row": null,
            "grid_template_areas": null,
            "grid_template_columns": null,
            "grid_template_rows": null,
            "height": null,
            "justify_content": null,
            "justify_items": null,
            "left": null,
            "margin": null,
            "max_height": null,
            "max_width": null,
            "min_height": null,
            "min_width": null,
            "object_fit": null,
            "object_position": null,
            "order": null,
            "overflow": null,
            "overflow_x": null,
            "overflow_y": null,
            "padding": null,
            "right": null,
            "top": null,
            "visibility": null,
            "width": null
          }
        },
        "0c7be537658f4b87b7035282a2f107a9": {
          "model_module": "@jupyter-widgets/controls",
          "model_name": "ProgressStyleModel",
          "model_module_version": "1.5.0",
          "state": {
            "_model_module": "@jupyter-widgets/controls",
            "_model_module_version": "1.5.0",
            "_model_name": "ProgressStyleModel",
            "_view_count": null,
            "_view_module": "@jupyter-widgets/base",
            "_view_module_version": "1.2.0",
            "_view_name": "StyleView",
            "bar_color": null,
            "description_width": ""
          }
        },
        "bdb4c70d51b04168bb5b4a8daa72486a": {
          "model_module": "@jupyter-widgets/base",
          "model_name": "LayoutModel",
          "model_module_version": "1.2.0",
          "state": {
            "_model_module": "@jupyter-widgets/base",
            "_model_module_version": "1.2.0",
            "_model_name": "LayoutModel",
            "_view_count": null,
            "_view_module": "@jupyter-widgets/base",
            "_view_module_version": "1.2.0",
            "_view_name": "LayoutView",
            "align_content": null,
            "align_items": null,
            "align_self": null,
            "border": null,
            "bottom": null,
            "display": null,
            "flex": null,
            "flex_flow": null,
            "grid_area": null,
            "grid_auto_columns": null,
            "grid_auto_flow": null,
            "grid_auto_rows": null,
            "grid_column": null,
            "grid_gap": null,
            "grid_row": null,
            "grid_template_areas": null,
            "grid_template_columns": null,
            "grid_template_rows": null,
            "height": null,
            "justify_content": null,
            "justify_items": null,
            "left": null,
            "margin": null,
            "max_height": null,
            "max_width": null,
            "min_height": null,
            "min_width": null,
            "object_fit": null,
            "object_position": null,
            "order": null,
            "overflow": null,
            "overflow_x": null,
            "overflow_y": null,
            "padding": null,
            "right": null,
            "top": null,
            "visibility": null,
            "width": null
          }
        },
        "a9e8e166915f4821b51c064baf1c4d47": {
          "model_module": "@jupyter-widgets/controls",
          "model_name": "DescriptionStyleModel",
          "model_module_version": "1.5.0",
          "state": {
            "_model_module": "@jupyter-widgets/controls",
            "_model_module_version": "1.5.0",
            "_model_name": "DescriptionStyleModel",
            "_view_count": null,
            "_view_module": "@jupyter-widgets/base",
            "_view_module_version": "1.2.0",
            "_view_name": "StyleView",
            "description_width": ""
          }
        },
        "841ed0d3fed14c868cd5f9c206b02586": {
          "model_module": "@jupyter-widgets/controls",
          "model_name": "HBoxModel",
          "model_module_version": "1.5.0",
          "state": {
            "_dom_classes": [],
            "_model_module": "@jupyter-widgets/controls",
            "_model_module_version": "1.5.0",
            "_model_name": "HBoxModel",
            "_view_count": null,
            "_view_module": "@jupyter-widgets/controls",
            "_view_module_version": "1.5.0",
            "_view_name": "HBoxView",
            "box_style": "",
            "children": [
              "IPY_MODEL_07149a36136f45348dc3e424b9ec6bfb",
              "IPY_MODEL_a74a43f05329459b9a363d22ccebf41f",
              "IPY_MODEL_1fba2721ddae485d8a0e11323e53e240"
            ],
            "layout": "IPY_MODEL_6551f433e8b44d4f87a23a09fb831968"
          }
        },
        "07149a36136f45348dc3e424b9ec6bfb": {
          "model_module": "@jupyter-widgets/controls",
          "model_name": "HTMLModel",
          "model_module_version": "1.5.0",
          "state": {
            "_dom_classes": [],
            "_model_module": "@jupyter-widgets/controls",
            "_model_module_version": "1.5.0",
            "_model_name": "HTMLModel",
            "_view_count": null,
            "_view_module": "@jupyter-widgets/controls",
            "_view_module_version": "1.5.0",
            "_view_name": "HTMLView",
            "description": "",
            "description_tooltip": null,
            "layout": "IPY_MODEL_a8e1beaf5d004959a46d9750ece416b4",
            "placeholder": "​",
            "style": "IPY_MODEL_33ccd5dcf9c84d52a7437dac152bc9f0",
            "value": "Downloading (…)okenizer_config.json: 100%"
          }
        },
        "a74a43f05329459b9a363d22ccebf41f": {
          "model_module": "@jupyter-widgets/controls",
          "model_name": "FloatProgressModel",
          "model_module_version": "1.5.0",
          "state": {
            "_dom_classes": [],
            "_model_module": "@jupyter-widgets/controls",
            "_model_module_version": "1.5.0",
            "_model_name": "FloatProgressModel",
            "_view_count": null,
            "_view_module": "@jupyter-widgets/controls",
            "_view_module_version": "1.5.0",
            "_view_name": "ProgressView",
            "bar_style": "success",
            "description": "",
            "description_tooltip": null,
            "layout": "IPY_MODEL_6594312d45084249aa1f93754d6d3c21",
            "max": 28,
            "min": 0,
            "orientation": "horizontal",
            "style": "IPY_MODEL_fdd0f660a3634a91920511a3ddebfbb2",
            "value": 28
          }
        },
        "1fba2721ddae485d8a0e11323e53e240": {
          "model_module": "@jupyter-widgets/controls",
          "model_name": "HTMLModel",
          "model_module_version": "1.5.0",
          "state": {
            "_dom_classes": [],
            "_model_module": "@jupyter-widgets/controls",
            "_model_module_version": "1.5.0",
            "_model_name": "HTMLModel",
            "_view_count": null,
            "_view_module": "@jupyter-widgets/controls",
            "_view_module_version": "1.5.0",
            "_view_name": "HTMLView",
            "description": "",
            "description_tooltip": null,
            "layout": "IPY_MODEL_8a6d766897ea4dc596fd484d6970c48d",
            "placeholder": "​",
            "style": "IPY_MODEL_da68a0c0ec3646cc9528a9105725be6b",
            "value": " 28.0/28.0 [00:00&lt;00:00, 1.33kB/s]"
          }
        },
        "6551f433e8b44d4f87a23a09fb831968": {
          "model_module": "@jupyter-widgets/base",
          "model_name": "LayoutModel",
          "model_module_version": "1.2.0",
          "state": {
            "_model_module": "@jupyter-widgets/base",
            "_model_module_version": "1.2.0",
            "_model_name": "LayoutModel",
            "_view_count": null,
            "_view_module": "@jupyter-widgets/base",
            "_view_module_version": "1.2.0",
            "_view_name": "LayoutView",
            "align_content": null,
            "align_items": null,
            "align_self": null,
            "border": null,
            "bottom": null,
            "display": null,
            "flex": null,
            "flex_flow": null,
            "grid_area": null,
            "grid_auto_columns": null,
            "grid_auto_flow": null,
            "grid_auto_rows": null,
            "grid_column": null,
            "grid_gap": null,
            "grid_row": null,
            "grid_template_areas": null,
            "grid_template_columns": null,
            "grid_template_rows": null,
            "height": null,
            "justify_content": null,
            "justify_items": null,
            "left": null,
            "margin": null,
            "max_height": null,
            "max_width": null,
            "min_height": null,
            "min_width": null,
            "object_fit": null,
            "object_position": null,
            "order": null,
            "overflow": null,
            "overflow_x": null,
            "overflow_y": null,
            "padding": null,
            "right": null,
            "top": null,
            "visibility": null,
            "width": null
          }
        },
        "a8e1beaf5d004959a46d9750ece416b4": {
          "model_module": "@jupyter-widgets/base",
          "model_name": "LayoutModel",
          "model_module_version": "1.2.0",
          "state": {
            "_model_module": "@jupyter-widgets/base",
            "_model_module_version": "1.2.0",
            "_model_name": "LayoutModel",
            "_view_count": null,
            "_view_module": "@jupyter-widgets/base",
            "_view_module_version": "1.2.0",
            "_view_name": "LayoutView",
            "align_content": null,
            "align_items": null,
            "align_self": null,
            "border": null,
            "bottom": null,
            "display": null,
            "flex": null,
            "flex_flow": null,
            "grid_area": null,
            "grid_auto_columns": null,
            "grid_auto_flow": null,
            "grid_auto_rows": null,
            "grid_column": null,
            "grid_gap": null,
            "grid_row": null,
            "grid_template_areas": null,
            "grid_template_columns": null,
            "grid_template_rows": null,
            "height": null,
            "justify_content": null,
            "justify_items": null,
            "left": null,
            "margin": null,
            "max_height": null,
            "max_width": null,
            "min_height": null,
            "min_width": null,
            "object_fit": null,
            "object_position": null,
            "order": null,
            "overflow": null,
            "overflow_x": null,
            "overflow_y": null,
            "padding": null,
            "right": null,
            "top": null,
            "visibility": null,
            "width": null
          }
        },
        "33ccd5dcf9c84d52a7437dac152bc9f0": {
          "model_module": "@jupyter-widgets/controls",
          "model_name": "DescriptionStyleModel",
          "model_module_version": "1.5.0",
          "state": {
            "_model_module": "@jupyter-widgets/controls",
            "_model_module_version": "1.5.0",
            "_model_name": "DescriptionStyleModel",
            "_view_count": null,
            "_view_module": "@jupyter-widgets/base",
            "_view_module_version": "1.2.0",
            "_view_name": "StyleView",
            "description_width": ""
          }
        },
        "6594312d45084249aa1f93754d6d3c21": {
          "model_module": "@jupyter-widgets/base",
          "model_name": "LayoutModel",
          "model_module_version": "1.2.0",
          "state": {
            "_model_module": "@jupyter-widgets/base",
            "_model_module_version": "1.2.0",
            "_model_name": "LayoutModel",
            "_view_count": null,
            "_view_module": "@jupyter-widgets/base",
            "_view_module_version": "1.2.0",
            "_view_name": "LayoutView",
            "align_content": null,
            "align_items": null,
            "align_self": null,
            "border": null,
            "bottom": null,
            "display": null,
            "flex": null,
            "flex_flow": null,
            "grid_area": null,
            "grid_auto_columns": null,
            "grid_auto_flow": null,
            "grid_auto_rows": null,
            "grid_column": null,
            "grid_gap": null,
            "grid_row": null,
            "grid_template_areas": null,
            "grid_template_columns": null,
            "grid_template_rows": null,
            "height": null,
            "justify_content": null,
            "justify_items": null,
            "left": null,
            "margin": null,
            "max_height": null,
            "max_width": null,
            "min_height": null,
            "min_width": null,
            "object_fit": null,
            "object_position": null,
            "order": null,
            "overflow": null,
            "overflow_x": null,
            "overflow_y": null,
            "padding": null,
            "right": null,
            "top": null,
            "visibility": null,
            "width": null
          }
        },
        "fdd0f660a3634a91920511a3ddebfbb2": {
          "model_module": "@jupyter-widgets/controls",
          "model_name": "ProgressStyleModel",
          "model_module_version": "1.5.0",
          "state": {
            "_model_module": "@jupyter-widgets/controls",
            "_model_module_version": "1.5.0",
            "_model_name": "ProgressStyleModel",
            "_view_count": null,
            "_view_module": "@jupyter-widgets/base",
            "_view_module_version": "1.2.0",
            "_view_name": "StyleView",
            "bar_color": null,
            "description_width": ""
          }
        },
        "8a6d766897ea4dc596fd484d6970c48d": {
          "model_module": "@jupyter-widgets/base",
          "model_name": "LayoutModel",
          "model_module_version": "1.2.0",
          "state": {
            "_model_module": "@jupyter-widgets/base",
            "_model_module_version": "1.2.0",
            "_model_name": "LayoutModel",
            "_view_count": null,
            "_view_module": "@jupyter-widgets/base",
            "_view_module_version": "1.2.0",
            "_view_name": "LayoutView",
            "align_content": null,
            "align_items": null,
            "align_self": null,
            "border": null,
            "bottom": null,
            "display": null,
            "flex": null,
            "flex_flow": null,
            "grid_area": null,
            "grid_auto_columns": null,
            "grid_auto_flow": null,
            "grid_auto_rows": null,
            "grid_column": null,
            "grid_gap": null,
            "grid_row": null,
            "grid_template_areas": null,
            "grid_template_columns": null,
            "grid_template_rows": null,
            "height": null,
            "justify_content": null,
            "justify_items": null,
            "left": null,
            "margin": null,
            "max_height": null,
            "max_width": null,
            "min_height": null,
            "min_width": null,
            "object_fit": null,
            "object_position": null,
            "order": null,
            "overflow": null,
            "overflow_x": null,
            "overflow_y": null,
            "padding": null,
            "right": null,
            "top": null,
            "visibility": null,
            "width": null
          }
        },
        "da68a0c0ec3646cc9528a9105725be6b": {
          "model_module": "@jupyter-widgets/controls",
          "model_name": "DescriptionStyleModel",
          "model_module_version": "1.5.0",
          "state": {
            "_model_module": "@jupyter-widgets/controls",
            "_model_module_version": "1.5.0",
            "_model_name": "DescriptionStyleModel",
            "_view_count": null,
            "_view_module": "@jupyter-widgets/base",
            "_view_module_version": "1.2.0",
            "_view_name": "StyleView",
            "description_width": ""
          }
        }
      }
    }
  },
  "cells": [
    {
      "cell_type": "markdown",
      "source": [
        "## 1. Set Up"
      ],
      "metadata": {
        "id": "bjhZVZlb7J6E"
      }
    },
    {
      "cell_type": "code",
      "source": [
        "!pip install -q transformers"
      ],
      "metadata": {
        "id": "eg_O2jmPm5AN"
      },
      "execution_count": 1,
      "outputs": []
    },
    {
      "cell_type": "code",
      "source": [
        "#Am I running a GPU and what type is it?\n",
        "!nvidia-smi"
      ],
      "metadata": {
        "colab": {
          "base_uri": "https://localhost:8080/"
        },
        "id": "OO91Sv-wndyr",
        "outputId": "1431e222-287d-4ad3-9c4c-9b1d4ce51e70"
      },
      "execution_count": 2,
      "outputs": [
        {
          "output_type": "stream",
          "name": "stdout",
          "text": [
            "Sun Mar 12 20:58:54 2023       \n",
            "+-----------------------------------------------------------------------------+\n",
            "| NVIDIA-SMI 525.85.12    Driver Version: 525.85.12    CUDA Version: 12.0     |\n",
            "|-------------------------------+----------------------+----------------------+\n",
            "| GPU  Name        Persistence-M| Bus-Id        Disp.A | Volatile Uncorr. ECC |\n",
            "| Fan  Temp  Perf  Pwr:Usage/Cap|         Memory-Usage | GPU-Util  Compute M. |\n",
            "|                               |                      |               MIG M. |\n",
            "|===============================+======================+======================|\n",
            "|   0  Tesla T4            Off  | 00000000:00:04.0 Off |                    0 |\n",
            "| N/A   50C    P0    26W /  70W |      0MiB / 15360MiB |      0%      Default |\n",
            "|                               |                      |                  N/A |\n",
            "+-------------------------------+----------------------+----------------------+\n",
            "                                                                               \n",
            "+-----------------------------------------------------------------------------+\n",
            "| Processes:                                                                  |\n",
            "|  GPU   GI   CI        PID   Type   Process name                  GPU Memory |\n",
            "|        ID   ID                                                   Usage      |\n",
            "|=============================================================================|\n",
            "|  No running processes found                                                 |\n",
            "+-----------------------------------------------------------------------------+\n"
          ]
        }
      ]
    },
    {
      "cell_type": "code",
      "source": [
        "import torch\n",
        "\n",
        "if torch.cuda.is_available():     \n",
        "    device = torch.device(\"cuda\")\n",
        "    print('Number of GPU(s) available:', torch.cuda.device_count())\n",
        "    print('GPU device name:', torch.cuda.get_device_name(0))\n",
        "\n",
        "else:\n",
        "    print('No GPU available')\n",
        "    device = torch.device(\"cpu\")\n",
        "     "
      ],
      "metadata": {
        "colab": {
          "base_uri": "https://localhost:8080/"
        },
        "id": "G9GzMD9Nnoqf",
        "outputId": "5c51bb2d-b88c-4aa8-95a8-1a07edd07bad"
      },
      "execution_count": 3,
      "outputs": [
        {
          "output_type": "stream",
          "name": "stdout",
          "text": [
            "Number of GPU(s) available: 1\n",
            "GPU device name: Tesla T4\n"
          ]
        }
      ]
    },
    {
      "cell_type": "code",
      "source": [
        "from logging import warning\n",
        "import torch.nn as nn\n",
        "from torch.utils.data import Dataset, DataLoader, RandomSampler, SequentialSampler, TensorDataset\n",
        "import torch.backends.cudnn as cudnn\n",
        "import torch.optim as optim\n",
        "\n",
        "from transformers import BertTokenizer, BertModel\n",
        "\n",
        "import nltk\n",
        "nltk.download('stopwords')\n",
        "from nltk.corpus import stopwords\n",
        "\n",
        "# from sklearn.utils import resample\n",
        "# from sklearn.model_selection import train_test_split\n",
        "\n",
        "import re\n",
        "import random\n",
        "import pandas as pd\n",
        "import seaborn as sns\n",
        "import numpy as np\n",
        "import matplotlib.pyplot as plt\n",
        "import pprint\n",
        "import os\n",
        "import shutil\n",
        "import time\n",
        "import datetime\n",
        "from collections import Counter\n",
        "\n",
        "import warnings\n",
        "warnings.filterwarnings('ignore')\n"
      ],
      "metadata": {
        "id": "5shury7xM1vU",
        "colab": {
          "base_uri": "https://localhost:8080/"
        },
        "outputId": "441963b9-d540-4fef-8324-f27963775399"
      },
      "execution_count": 4,
      "outputs": [
        {
          "output_type": "stream",
          "name": "stderr",
          "text": [
            "[nltk_data] Downloading package stopwords to /root/nltk_data...\n",
            "[nltk_data]   Package stopwords is already up-to-date!\n"
          ]
        }
      ]
    },
    {
      "cell_type": "code",
      "source": [
        "RANDOM_SEED = 42\n",
        "np.random.seed(RANDOM_SEED)\n",
        "torch.manual_seed(RANDOM_SEED)\n",
        "\n",
        "pd.set_option('display.max_colwidth', 100)\n",
        "sns.set(style='whitegrid')\n"
      ],
      "metadata": {
        "id": "YA7DZD5FJO7B"
      },
      "execution_count": 5,
      "outputs": []
    },
    {
      "cell_type": "code",
      "execution_count": 6,
      "metadata": {
        "colab": {
          "base_uri": "https://localhost:8080/"
        },
        "id": "vLMw7X9r-VKi",
        "outputId": "70b8a785-9625-422d-ec89-6da5e8dea79b"
      },
      "outputs": [
        {
          "output_type": "stream",
          "name": "stdout",
          "text": [
            "Drive already mounted at /content/drive; to attempt to forcibly remount, call drive.mount(\"/content/drive\", force_remount=True).\n"
          ]
        }
      ],
      "source": [
        "from google.colab import drive\n",
        "drive.mount('/content/drive')"
      ]
    },
    {
      "cell_type": "code",
      "source": [
        "cd drive/MyDrive/w266"
      ],
      "metadata": {
        "colab": {
          "base_uri": "https://localhost:8080/"
        },
        "id": "eBfstxCA-B-s",
        "outputId": "8fd6e1b1-8c00-42d9-90bb-949a57721ddd"
      },
      "execution_count": 7,
      "outputs": [
        {
          "output_type": "stream",
          "name": "stdout",
          "text": [
            "/content/drive/MyDrive/w266\n"
          ]
        }
      ]
    },
    {
      "cell_type": "code",
      "source": [
        "# !git clone https://github.com/hjesse92/style_transfer_w266.git"
      ],
      "metadata": {
        "id": "B85TbtEa-JLO"
      },
      "execution_count": 8,
      "outputs": []
    },
    {
      "cell_type": "code",
      "source": [
        "cd style_transfer_w266/"
      ],
      "metadata": {
        "colab": {
          "base_uri": "https://localhost:8080/"
        },
        "id": "35KinDJj_-si",
        "outputId": "831d3053-452b-4abf-96ea-100219eb2af2"
      },
      "execution_count": 9,
      "outputs": [
        {
          "output_type": "stream",
          "name": "stdout",
          "text": [
            "/content/drive/MyDrive/w266/style_transfer_w266\n"
          ]
        }
      ]
    },
    {
      "cell_type": "code",
      "source": [
        "# !git checkout -b eda_basemodel\n",
        "# !git branch"
      ],
      "metadata": {
        "id": "BmXDupMi-Sir"
      },
      "execution_count": 10,
      "outputs": []
    },
    {
      "cell_type": "code",
      "source": [
        "!ls data/"
      ],
      "metadata": {
        "colab": {
          "base_uri": "https://localhost:8080/"
        },
        "id": "FJVB5Fx7I0tW",
        "outputId": "39ed84b9-ab0b-46d3-82b2-2cc00102089f"
      },
      "execution_count": 11,
      "outputs": [
        {
          "output_type": "stream",
          "name": "stdout",
          "text": [
            "jigsaw_classification_data.csv\toriginal-test.tsv\n",
            "original-dev.tsv\t\toriginal-train.tsv\n"
          ]
        }
      ]
    },
    {
      "cell_type": "markdown",
      "source": [
        "## 2. EDA"
      ],
      "metadata": {
        "id": "jmwM6fOE8O7-"
      }
    },
    {
      "cell_type": "code",
      "source": [
        "train_text_file = 'data/original-train.tsv'\n",
        "dev_text_file = 'data/original-dev.tsv'\n",
        "test_text_file = 'data/original-test.tsv'"
      ],
      "metadata": {
        "id": "ziPkEerbLK_I"
      },
      "execution_count": 12,
      "outputs": []
    },
    {
      "cell_type": "code",
      "source": [
        "def load_data(text_file):\n",
        "  \"\"\"Load data and rename column\"\"\"\n",
        "  df = pd.read_csv(text_file, sep=\"\\t\")\n",
        "  df = df.rename(columns={'offensive-text':'org', 'style-transferred-text': 'mod'})\n",
        "  \n",
        "  # Calculate text length / word counts\n",
        "  df['org_text_length'] = df['org'].apply(lambda x: len(x.split(' ')))\n",
        "  df['mod_text_length'] = df['mod'].apply(lambda x: len(x.split(' ')))\n",
        "\n",
        "  return df"
      ],
      "metadata": {
        "id": "Vc1cZf9R95Ei"
      },
      "execution_count": 13,
      "outputs": []
    },
    {
      "cell_type": "code",
      "source": [
        "def modify_text_to_print(df_original):\n",
        "  \"\"\"Modify some toxic, offensive texts in the datafram for printing out\"\"\"\n",
        "  df = df_original.copy()\n",
        "  df[\"org\"] = df[\"org\"].apply(lambda x: x.lower().replace('fuck', 'f***')\\\n",
        "                              .replace('shit', 's***')\\\n",
        "                              .replace('rape', 'r***')\\\n",
        "                              .replace('dick', 'd***')\\\n",
        "                              .replace('pussy', 'p***y'))\n",
        "\n",
        "  return df"
      ],
      "metadata": {
        "id": "X4SO7W23lk3H"
      },
      "execution_count": 14,
      "outputs": []
    },
    {
      "cell_type": "code",
      "source": [
        "train_df = load_data(train_text_file)\n",
        "dev_df = load_data(dev_text_file)\n",
        "test_df = load_data(test_text_file)\n",
        "\n",
        "print('Train data size:', train_df.shape[0])\n",
        "print('Dev data size:', dev_df.shape[0])\n",
        "print('Test data size:', test_df.shape[0])\n",
        "\n",
        "print('\\nTrain data overview:')\n",
        "modify_text_to_print(train_df[[\"org\", \"mod\"]])"
      ],
      "metadata": {
        "colab": {
          "base_uri": "https://localhost:8080/",
          "height": 510
        },
        "id": "svTmyhWDLZLd",
        "outputId": "305b9e14-5cda-4b36-b8dd-de0b585c4c83"
      },
      "execution_count": 15,
      "outputs": [
        {
          "output_type": "stream",
          "name": "stdout",
          "text": [
            "Train data size: 1584\n",
            "Dev data size: 198\n",
            "Test data size: 199\n",
            "\n",
            "Train data overview:\n"
          ]
        },
        {
          "output_type": "execute_result",
          "data": {
            "text/plain": [
              "                                                                                                      org  \\\n",
              "0                                                                      p***y nobody asked for your input.   \n",
              "1     ok, this makes no sense. this will create vigilantes. and i hope they put this savage animal dow...   \n",
              "2     so f***ing true. the amount of up and coming rappers that are shot dead or od is is so f***ing s...   \n",
              "3     go f yourself republican scum who put us here with your uneducated voting like you even care. i ...   \n",
              "4                                                            dumb f***ing take. people want to do things.   \n",
              "...                                                                                                   ...   \n",
              "1579  the view! and this crap hits my front page!? lmfao   i know it's mostly bots but still, /r/polit...   \n",
              "1580                                                                                       that’s racist.   \n",
              "1581                                                       cultural marxism isn't a thing you weird f***.   \n",
              "1582  lol, anyone that questions the democrat program is always a russian asset or nazi. this s***s ol...   \n",
              "1583               how about you guys actually read the bill, if you’re against it you’re with pedophilia   \n",
              "\n",
              "                                                                                                      mod  \n",
              "0                                                                             Nobody asked for your input  \n",
              "1     Ok, this makes no sense. This will create vigilantes. And I hope they take care of this uncontro...  \n",
              "2                     so true. the amount of up and coming rappers that are shot dead or od is is so sad.  \n",
              "3                                Republicans put us in this situation. I would want to defund the police.  \n",
              "4                                                      That's not a smart take. People want to do things.  \n",
              "...                                                                                                   ...  \n",
              "1579                                    This must be mostly bots but still, it's strange for /r/politics.  \n",
              "1580                                                                            Those actions are racist.  \n",
              "1581                                                                      Cultural Marxism isn't a thing.  \n",
              "1582  LOL, anyone that questions the Democrat program is always considered back. This is getting old, ...  \n",
              "1583                                                              I wish everyone actually read the bill.  \n",
              "\n",
              "[1584 rows x 2 columns]"
            ],
            "text/html": [
              "\n",
              "  <div id=\"df-daa1ac20-f053-46d5-964e-59999ee863ff\">\n",
              "    <div class=\"colab-df-container\">\n",
              "      <div>\n",
              "<style scoped>\n",
              "    .dataframe tbody tr th:only-of-type {\n",
              "        vertical-align: middle;\n",
              "    }\n",
              "\n",
              "    .dataframe tbody tr th {\n",
              "        vertical-align: top;\n",
              "    }\n",
              "\n",
              "    .dataframe thead th {\n",
              "        text-align: right;\n",
              "    }\n",
              "</style>\n",
              "<table border=\"1\" class=\"dataframe\">\n",
              "  <thead>\n",
              "    <tr style=\"text-align: right;\">\n",
              "      <th></th>\n",
              "      <th>org</th>\n",
              "      <th>mod</th>\n",
              "    </tr>\n",
              "  </thead>\n",
              "  <tbody>\n",
              "    <tr>\n",
              "      <th>0</th>\n",
              "      <td>p***y nobody asked for your input.</td>\n",
              "      <td>Nobody asked for your input</td>\n",
              "    </tr>\n",
              "    <tr>\n",
              "      <th>1</th>\n",
              "      <td>ok, this makes no sense. this will create vigilantes. and i hope they put this savage animal dow...</td>\n",
              "      <td>Ok, this makes no sense. This will create vigilantes. And I hope they take care of this uncontro...</td>\n",
              "    </tr>\n",
              "    <tr>\n",
              "      <th>2</th>\n",
              "      <td>so f***ing true. the amount of up and coming rappers that are shot dead or od is is so f***ing s...</td>\n",
              "      <td>so true. the amount of up and coming rappers that are shot dead or od is is so sad.</td>\n",
              "    </tr>\n",
              "    <tr>\n",
              "      <th>3</th>\n",
              "      <td>go f yourself republican scum who put us here with your uneducated voting like you even care. i ...</td>\n",
              "      <td>Republicans put us in this situation. I would want to defund the police.</td>\n",
              "    </tr>\n",
              "    <tr>\n",
              "      <th>4</th>\n",
              "      <td>dumb f***ing take. people want to do things.</td>\n",
              "      <td>That's not a smart take. People want to do things.</td>\n",
              "    </tr>\n",
              "    <tr>\n",
              "      <th>...</th>\n",
              "      <td>...</td>\n",
              "      <td>...</td>\n",
              "    </tr>\n",
              "    <tr>\n",
              "      <th>1579</th>\n",
              "      <td>the view! and this crap hits my front page!? lmfao   i know it's mostly bots but still, /r/polit...</td>\n",
              "      <td>This must be mostly bots but still, it's strange for /r/politics.</td>\n",
              "    </tr>\n",
              "    <tr>\n",
              "      <th>1580</th>\n",
              "      <td>that’s racist.</td>\n",
              "      <td>Those actions are racist.</td>\n",
              "    </tr>\n",
              "    <tr>\n",
              "      <th>1581</th>\n",
              "      <td>cultural marxism isn't a thing you weird f***.</td>\n",
              "      <td>Cultural Marxism isn't a thing.</td>\n",
              "    </tr>\n",
              "    <tr>\n",
              "      <th>1582</th>\n",
              "      <td>lol, anyone that questions the democrat program is always a russian asset or nazi. this s***s ol...</td>\n",
              "      <td>LOL, anyone that questions the Democrat program is always considered back. This is getting old, ...</td>\n",
              "    </tr>\n",
              "    <tr>\n",
              "      <th>1583</th>\n",
              "      <td>how about you guys actually read the bill, if you’re against it you’re with pedophilia</td>\n",
              "      <td>I wish everyone actually read the bill.</td>\n",
              "    </tr>\n",
              "  </tbody>\n",
              "</table>\n",
              "<p>1584 rows × 2 columns</p>\n",
              "</div>\n",
              "      <button class=\"colab-df-convert\" onclick=\"convertToInteractive('df-daa1ac20-f053-46d5-964e-59999ee863ff')\"\n",
              "              title=\"Convert this dataframe to an interactive table.\"\n",
              "              style=\"display:none;\">\n",
              "        \n",
              "  <svg xmlns=\"http://www.w3.org/2000/svg\" height=\"24px\"viewBox=\"0 0 24 24\"\n",
              "       width=\"24px\">\n",
              "    <path d=\"M0 0h24v24H0V0z\" fill=\"none\"/>\n",
              "    <path d=\"M18.56 5.44l.94 2.06.94-2.06 2.06-.94-2.06-.94-.94-2.06-.94 2.06-2.06.94zm-11 1L8.5 8.5l.94-2.06 2.06-.94-2.06-.94L8.5 2.5l-.94 2.06-2.06.94zm10 10l.94 2.06.94-2.06 2.06-.94-2.06-.94-.94-2.06-.94 2.06-2.06.94z\"/><path d=\"M17.41 7.96l-1.37-1.37c-.4-.4-.92-.59-1.43-.59-.52 0-1.04.2-1.43.59L10.3 9.45l-7.72 7.72c-.78.78-.78 2.05 0 2.83L4 21.41c.39.39.9.59 1.41.59.51 0 1.02-.2 1.41-.59l7.78-7.78 2.81-2.81c.8-.78.8-2.07 0-2.86zM5.41 20L4 18.59l7.72-7.72 1.47 1.35L5.41 20z\"/>\n",
              "  </svg>\n",
              "      </button>\n",
              "      \n",
              "  <style>\n",
              "    .colab-df-container {\n",
              "      display:flex;\n",
              "      flex-wrap:wrap;\n",
              "      gap: 12px;\n",
              "    }\n",
              "\n",
              "    .colab-df-convert {\n",
              "      background-color: #E8F0FE;\n",
              "      border: none;\n",
              "      border-radius: 50%;\n",
              "      cursor: pointer;\n",
              "      display: none;\n",
              "      fill: #1967D2;\n",
              "      height: 32px;\n",
              "      padding: 0 0 0 0;\n",
              "      width: 32px;\n",
              "    }\n",
              "\n",
              "    .colab-df-convert:hover {\n",
              "      background-color: #E2EBFA;\n",
              "      box-shadow: 0px 1px 2px rgba(60, 64, 67, 0.3), 0px 1px 3px 1px rgba(60, 64, 67, 0.15);\n",
              "      fill: #174EA6;\n",
              "    }\n",
              "\n",
              "    [theme=dark] .colab-df-convert {\n",
              "      background-color: #3B4455;\n",
              "      fill: #D2E3FC;\n",
              "    }\n",
              "\n",
              "    [theme=dark] .colab-df-convert:hover {\n",
              "      background-color: #434B5C;\n",
              "      box-shadow: 0px 1px 3px 1px rgba(0, 0, 0, 0.15);\n",
              "      filter: drop-shadow(0px 1px 2px rgba(0, 0, 0, 0.3));\n",
              "      fill: #FFFFFF;\n",
              "    }\n",
              "  </style>\n",
              "\n",
              "      <script>\n",
              "        const buttonEl =\n",
              "          document.querySelector('#df-daa1ac20-f053-46d5-964e-59999ee863ff button.colab-df-convert');\n",
              "        buttonEl.style.display =\n",
              "          google.colab.kernel.accessAllowed ? 'block' : 'none';\n",
              "\n",
              "        async function convertToInteractive(key) {\n",
              "          const element = document.querySelector('#df-daa1ac20-f053-46d5-964e-59999ee863ff');\n",
              "          const dataTable =\n",
              "            await google.colab.kernel.invokeFunction('convertToInteractive',\n",
              "                                                     [key], {});\n",
              "          if (!dataTable) return;\n",
              "\n",
              "          const docLinkHtml = 'Like what you see? Visit the ' +\n",
              "            '<a target=\"_blank\" href=https://colab.research.google.com/notebooks/data_table.ipynb>data table notebook</a>'\n",
              "            + ' to learn more about interactive tables.';\n",
              "          element.innerHTML = '';\n",
              "          dataTable['output_type'] = 'display_data';\n",
              "          await google.colab.output.renderOutput(dataTable, element);\n",
              "          const docLink = document.createElement('div');\n",
              "          docLink.innerHTML = docLinkHtml;\n",
              "          element.appendChild(docLink);\n",
              "        }\n",
              "      </script>\n",
              "    </div>\n",
              "  </div>\n",
              "  "
            ]
          },
          "metadata": {},
          "execution_count": 15
        }
      ]
    },
    {
      "cell_type": "code",
      "source": [
        "### Plot the word-count distribution for the original texts and the modified texts.\n",
        "fig, ax = plt.subplots(figsize=(10, 6))\n",
        "sns.set_style('white')\n",
        "sns.set(font_scale=1.5)\n",
        "\n",
        "# calculate the bin size based on the range of the data\n",
        "bins = range(min(train_df['org_text_length'].min(), train_df['mod_text_length'].min()), \n",
        "             max(train_df['org_text_length'].max(), train_df['mod_text_length'].max()) + 2, 2)\n",
        "\n",
        "# plot the histograms with the same bin size\n",
        "sns.histplot(data=train_df, x='org_text_length', label='Original Texts', bins=bins, color='#4285F4', alpha=0.8)\n",
        "sns.histplot(data=train_df, x='mod_text_length', label='Modified Texts', bins=bins, color='#FDB515', alpha=0.8)\n",
        "\n",
        "# set the axis labels and title\n",
        "ax.set(xlabel='Text Length', ylabel='Count')\n",
        "ax.set_title('Word Count Distribution', fontsize=18)\n",
        "\n",
        "# set the legend and adjust its position\n",
        "plt.legend(fontsize=14)\n",
        "plt.legend(loc='upper right')\n",
        "\n",
        "# set the ticks fontsize\n",
        "ax.tick_params(axis='both', which='major', labelsize=14)"
      ],
      "metadata": {
        "colab": {
          "base_uri": "https://localhost:8080/",
          "height": 418
        },
        "id": "Ug3U__7wchd4",
        "outputId": "856803f0-9593-459c-f260-e3dafd32b173"
      },
      "execution_count": 16,
      "outputs": [
        {
          "output_type": "display_data",
          "data": {
            "text/plain": [
              "<Figure size 720x432 with 1 Axes>"
            ],
            "image/png": "[encoded data removed]"
          },
          "metadata": {}
        }
      ]
    },
    {
      "cell_type": "code",
      "source": [
        "### Find out what words appear the most in the original texts and the modified text without including the stopwords\n",
        "\n",
        "# create a list of stopwords\n",
        "stop_words = set(stopwords.words('english')) | {\"i'm\", \"you’re\", \"that's\"}\n",
        "\n",
        "# create a list of all words in the 'org' column, removing stopwords\n",
        "org_words = ' '.join(train_df['org']).lower().split()\n",
        "org_words = [word.strip(\".,?!:\").replace('fuck', 'f***').replace('shit', 's***') for word in org_words if word not in stop_words]\n",
        "# org_words = [word.lower() for word in train_df['org'].str.split() if word.lower() not in stop_words]\n",
        "\n",
        "# create a list of all words in the 'mod' column, removing stopwords\n",
        "mod_words = ' '.join(train_df['mod']).lower().split()\n",
        "mod_words = [word.strip(\".,?!:\") for word in mod_words if word not in stop_words]\n",
        "# mod_words = [word.lower() for word in train_df['mod'].str.split() if word.lower() not in stop_words]\n",
        "\n",
        "# count the frequency of each word in the 'org' column\n",
        "org_word_counts = Counter(org_words)\n",
        "\n",
        "# count the frequency of each word in the 'mod' column\n",
        "mod_word_counts = Counter(mod_words)\n",
        "\n",
        "# create a pandas dataframe of the top 20 most common words in each column\n",
        "top_org_words = pd.DataFrame(org_word_counts.most_common(20), columns=['word', 'count'])\n",
        "top_mod_words = pd.DataFrame(mod_word_counts.most_common(20), columns=['word', 'count'])\n",
        "\n",
        "# print the top 20 most common words in each column\n",
        "print(\"Top 20 most frequent words in the Original Texts:\")\n",
        "print(top_org_words)\n",
        "print(\"\\nTop 20 most frequent words in the Modified Texts:\")\n",
        "print(top_mod_words)"
      ],
      "metadata": {
        "colab": {
          "base_uri": "https://localhost:8080/"
        },
        "id": "h2kwg6-Tdggo",
        "outputId": "83ff5910-c9ce-45ba-b744-e9166963f139"
      },
      "execution_count": 17,
      "outputs": [
        {
          "output_type": "stream",
          "name": "stdout",
          "text": [
            "Top 20 most frequent words in the Original Texts:\n",
            "       word  count\n",
            "0      f***    170\n",
            "1      s***    158\n",
            "2   f***ing    138\n",
            "3      like    119\n",
            "4    people     90\n",
            "5    stupid     84\n",
            "6       get     78\n",
            "7      dumb     57\n",
            "8      even     52\n",
            "9      know     52\n",
            "10    think     52\n",
            "11      lol     51\n",
            "12    idiot     50\n",
            "13       go     48\n",
            "14      one     45\n",
            "15   really     43\n",
            "16      ass     43\n",
            "17   racist     42\n",
            "18     good     42\n",
            "19    right     38\n",
            "\n",
            "Top 20 most frequent words in the Modified Texts:\n",
            "      word  count\n",
            "0   people    129\n",
            "1     like    104\n",
            "2      get     78\n",
            "3    think     67\n",
            "4   really     58\n",
            "5     know     52\n",
            "6   person     51\n",
            "7     good     49\n",
            "8     make     48\n",
            "9     stop     47\n",
            "10    even     46\n",
            "11     one     46\n",
            "12    need     46\n",
            "13      go     45\n",
            "14     bad     44\n",
            "15      it     43\n",
            "16   would     37\n",
            "17     lol     35\n",
            "18  racist     34\n",
            "19   stuff     34\n"
          ]
        }
      ]
    },
    {
      "cell_type": "code",
      "source": [
        "# from datasets import load_dataset\n",
        "# train_ds = load_dataset(\"csv\", data_files=train_text_file, sep=\"\\t\", names=[\"org\",\"mod\"])\n",
        "# train_ds\n",
        "# print(train_ds[\"train\"][:5])"
      ],
      "metadata": {
        "id": "95U9V1u2ldRj"
      },
      "execution_count": 18,
      "outputs": []
    },
    {
      "cell_type": "markdown",
      "source": [
        "## 3. Evaluate Detoxify Dataset with Classification Model\n",
        "\n",
        "*   Using the Toxic DistilBert Classification model to evaluate the detoxify dataset\n",
        "*   Column `org` should be classified as being toxic Or having low non-toxic score\n",
        "*   Column `mod` should be classified as being non-toxic Or having high non-toxic score\n",
        "\n",
        "\n",
        "\n"
      ],
      "metadata": {
        "id": "r9wiw-jl5W1k"
      }
    },
    {
      "cell_type": "code",
      "source": [
        "# Clear out cuda\n",
        "torch.cuda.empty_cache()"
      ],
      "metadata": {
        "id": "FojNYogclm8d"
      },
      "execution_count": 19,
      "outputs": []
    },
    {
      "cell_type": "code",
      "source": [
        "import sys\n",
        "sys.path.append('./notebooks')\n",
        "from DistilBertClassification import BertClassificationML\n",
        "\n",
        "class_model = BertClassificationML()\n",
        "class_model = class_model.to(device)\n",
        "\n",
        "pretrained_weights = torch.load('models/DistilBertToxicClassification5.pth')\n",
        "class_model.load_state_dict(pretrained_weights )"
      ],
      "metadata": {
        "colab": {
          "base_uri": "https://localhost:8080/",
          "height": 170,
          "referenced_widgets": [
            "12c6fcf4591e4011a8156da46254585c",
            "3612522f7a7846a09eab8de1152822d3",
            "d7c787db6db94a568cf730d3684fc9af",
            "87f43fb81509401698499f24ca3cdfb6",
            "b494d196fc0e4e368b5f7047b32d431f",
            "dfff44164dfd4dbeb8f3b47144256d65",
            "a9d72e9cbc5a404fa6457872b335ce64",
            "c7bc870b41bd4dc08400be1386cc0901",
            "77b5f26cbe584827b4e8ffcd670d8280",
            "66effd72baeb42b8b6498b8bd0c4e79d",
            "6b9ee9b39b6a4e62aff5dca4e0765f7e",
            "d18de8f0f2ee4333a31ce6e0075e44f9",
            "7bd7f01233504affbe504e47a112512c",
            "11cb58e38f7d4072af13c89c166ce1b2",
            "2030d0dfb65b42b5bd1ae15bb56f3872",
            "f51fcb67f0bb4309843d6c984b632d14",
            "0dfff7a247754bf09ee9134732d69a77",
            "d236d58ac0b344f3bc67ba796febe03a",
            "658198318db64ea79d29f3cf86ad48ab",
            "1dc98480c01d4620a013a57ba87fe943",
            "113a74f136c04603b91877018dfd49ed",
            "b936fd916b9a494bac8c174dffcf4a12"
          ]
        },
        "id": "PKdnuqKp5WAb",
        "outputId": "0f7de010-791e-4736-e46a-940991499984"
      },
      "execution_count": 20,
      "outputs": [
        {
          "output_type": "display_data",
          "data": {
            "text/plain": [
              "Downloading (…)lve/main/config.json:   0%|          | 0.00/483 [00:00<?, ?B/s]"
            ],
            "application/vnd.jupyter.widget-view+json": {
              "version_major": 2,
              "version_minor": 0,
              "model_id": "12c6fcf4591e4011a8156da46254585c"
            }
          },
          "metadata": {}
        },
        {
          "output_type": "display_data",
          "data": {
            "text/plain": [
              "Downloading pytorch_model.bin:   0%|          | 0.00/268M [00:00<?, ?B/s]"
            ],
            "application/vnd.jupyter.widget-view+json": {
              "version_major": 2,
              "version_minor": 0,
              "model_id": "d18de8f0f2ee4333a31ce6e0075e44f9"
            }
          },
          "metadata": {}
        },
        {
          "output_type": "stream",
          "name": "stderr",
          "text": [
            "Some weights of the model checkpoint at distilbert-base-uncased were not used when initializing DistilBertModel: ['vocab_layer_norm.weight', 'vocab_layer_norm.bias', 'vocab_transform.weight', 'vocab_transform.bias', 'vocab_projector.bias', 'vocab_projector.weight']\n",
            "- This IS expected if you are initializing DistilBertModel from the checkpoint of a model trained on another task or with another architecture (e.g. initializing a BertForSequenceClassification model from a BertForPreTraining model).\n",
            "- This IS NOT expected if you are initializing DistilBertModel from the checkpoint of a model that you expect to be exactly identical (initializing a BertForSequenceClassification model from a BertForSequenceClassification model).\n"
          ]
        },
        {
          "output_type": "execute_result",
          "data": {
            "text/plain": [
              "<All keys matched successfully>"
            ]
          },
          "metadata": {},
          "execution_count": 20
        }
      ]
    },
    {
      "cell_type": "code",
      "source": [
        "# Get pair-wise toxic and non-toxic (transfered-style) data\n",
        "toxic_inputs = train_df[\"org\"]\n",
        "nontoxix_targets = train_df[\"mod\"]\n",
        "\n",
        "print('Toxic Data Dimension:', toxic_inputs.shape)\n",
        "print('NonToxic Data Dimension:', nontoxix_targets.shape)\n",
        "# print('Toxic Data Example:' , toxic_inputs[:5])\n",
        "# print('NonToxic Data Example:' , nontoxix_targets[:5])"
      ],
      "metadata": {
        "colab": {
          "base_uri": "https://localhost:8080/"
        },
        "id": "T-ZoArXKjxmu",
        "outputId": "75bcc66a-959e-4112-deab-b8672aa1b877"
      },
      "execution_count": 28,
      "outputs": [
        {
          "output_type": "stream",
          "name": "stdout",
          "text": [
            "Toxic Data Dimension: (1584,)\n",
            "NonToxic Data Dimension: (1584,)\n"
          ]
        }
      ]
    },
    {
      "cell_type": "code",
      "source": [
        "from transformers import DistilBertTokenizer\n",
        "\n",
        "# Load DistilBERT tokenizer\n",
        "bert_tokenizer = DistilBertTokenizer.from_pretrained('distilbert-base-uncased')\n",
        "\n",
        "# Max_length used from pretrained model\n",
        "max_length = 64\n",
        "\n",
        "toxic_inputs_encodings = bert_tokenizer(\n",
        "    list(toxic_inputs.values), \n",
        "    max_length=max_length,\n",
        "    truncation=True,\n",
        "    pad_to_max_length=True, \n",
        "    return_tensors='pt'\n",
        ")\n",
        "\n",
        "nontoxix_targets_encodings = bert_tokenizer(\n",
        "    list(nontoxix_targets.values), \n",
        "    max_length=max_length,\n",
        "    truncation=True,\n",
        "    pad_to_max_length=True, \n",
        "    return_tensors='pt'\n",
        ")"
      ],
      "metadata": {
        "colab": {
          "base_uri": "https://localhost:8080/",
          "height": 81,
          "referenced_widgets": [
            "584c36041b574e49ad10caccaa9a8960",
            "10b08f78625b4f4ab83de6f3249961ae",
            "47b7c53691ca4fc19e5577b246866228",
            "a175877356a04ac2a6a014387c651b63",
            "0b40cb80669b4b93bf68b0923d9c292e",
            "4eeb5f366d2f4a38ad4e4c2b95a3f3de",
            "594cbb2333a24c67a9f07d3d406b1c4a",
            "ee79461f70d946dca3ab473cfeb22a09",
            "0c7be537658f4b87b7035282a2f107a9",
            "bdb4c70d51b04168bb5b4a8daa72486a",
            "a9e8e166915f4821b51c064baf1c4d47",
            "841ed0d3fed14c868cd5f9c206b02586",
            "07149a36136f45348dc3e424b9ec6bfb",
            "a74a43f05329459b9a363d22ccebf41f",
            "1fba2721ddae485d8a0e11323e53e240",
            "6551f433e8b44d4f87a23a09fb831968",
            "a8e1beaf5d004959a46d9750ece416b4",
            "33ccd5dcf9c84d52a7437dac152bc9f0",
            "6594312d45084249aa1f93754d6d3c21",
            "fdd0f660a3634a91920511a3ddebfbb2",
            "8a6d766897ea4dc596fd484d6970c48d",
            "da68a0c0ec3646cc9528a9105725be6b"
          ]
        },
        "id": "fNyrsrxCliyJ",
        "outputId": "6b496b96-72bc-4855-8c60-fd77642601eb"
      },
      "execution_count": 22,
      "outputs": [
        {
          "output_type": "display_data",
          "data": {
            "text/plain": [
              "Downloading (…)solve/main/vocab.txt:   0%|          | 0.00/232k [00:00<?, ?B/s]"
            ],
            "application/vnd.jupyter.widget-view+json": {
              "version_major": 2,
              "version_minor": 0,
              "model_id": "584c36041b574e49ad10caccaa9a8960"
            }
          },
          "metadata": {}
        },
        {
          "output_type": "display_data",
          "data": {
            "text/plain": [
              "Downloading (…)okenizer_config.json:   0%|          | 0.00/28.0 [00:00<?, ?B/s]"
            ],
            "application/vnd.jupyter.widget-view+json": {
              "version_major": 2,
              "version_minor": 0,
              "model_id": "841ed0d3fed14c868cd5f9c206b02586"
            }
          },
          "metadata": {}
        }
      ]
    },
    {
      "cell_type": "code",
      "source": [
        "## DataLoader\n",
        "toxic_ids = toxic_inputs_encodings.input_ids.to(device, dtype = torch.long)\n",
        "toxic_mask = toxic_inputs_encodings.attention_mask.to(device, dtype = torch.long)\n",
        "toxic_labels = torch.zeros(toxic_inputs.shape[0])\n",
        "\n",
        "nontoxic_ids = nontoxix_targets_encodings.input_ids.to(device, dtype = torch.long)\n",
        "nontoxic_mask = nontoxix_targets_encodings.attention_mask.to(device, dtype = torch.long)\n",
        "nontoxic_labels = torch.ones(nontoxix_targets.shape[0])\n",
        "\n",
        "toxic_dataset = TensorDataset(toxic_ids, toxic_mask, toxic_labels)\n",
        "toxic_loader = DataLoader(toxic_dataset, batch_size=16)\n",
        "\n",
        "non_toxic_dataset = TensorDataset(nontoxic_ids, nontoxic_mask, nontoxic_labels)\n",
        "nontoxic_loader = DataLoader(non_toxic_dataset, batch_size=16)"
      ],
      "metadata": {
        "id": "zAhQV0vImNro"
      },
      "execution_count": 23,
      "outputs": []
    },
    {
      "cell_type": "code",
      "source": [
        "from DistilBertClassification import validate, compute_metrics\n",
        "\n",
        "## Get the predicted nontoxic score (or label from classification model)\n",
        "toxic_outputs, toxic_targets, toxic_loss = validate(toxic_loader, model=class_model)\n",
        "print('Evaluation metric for predicting toxic texts with DistilBERT:')\n",
        "toxic_accuracy = compute_metrics(toxic_outputs, toxic_targets)\n",
        "\n",
        "                \n",
        "nontoxic_outputs, nontoxic_targets, nontoxic_loss = validate(nontoxic_loader, model=class_model)\n",
        "print('\\nEvaluation metric for predicting non-toxic texts with DistilBERT:')\n",
        "nontoxic_accuracy = compute_metrics(nontoxic_outputs, nontoxic_targets)"
      ],
      "metadata": {
        "colab": {
          "base_uri": "https://localhost:8080/"
        },
        "id": "_9mYxLibn4Zo",
        "outputId": "d4ecd8ca-8ccc-4baa-9d63-8738b787cdde"
      },
      "execution_count": 24,
      "outputs": [
        {
          "output_type": "stream",
          "name": "stdout",
          "text": [
            "Evaluation metric for predicting toxic texts with DistilBERT:\n",
            "Accuracy 0.9312 \n",
            "\n",
            "\n",
            "Evaluation metric for predicting non-toxic texts with DistilBERT:\n",
            "Accuracy 0.6673 \n",
            "\n"
          ]
        }
      ]
    },
    {
      "cell_type": "code",
      "source": [
        "toxic_outputs[:10]"
      ],
      "metadata": {
        "colab": {
          "base_uri": "https://localhost:8080/"
        },
        "id": "kK1lf7fHqoxO",
        "outputId": "c8f13533-1248-4dcf-bdd4-295f8d6c144c"
      },
      "execution_count": 25,
      "outputs": [
        {
          "output_type": "execute_result",
          "data": {
            "text/plain": [
              "[0.005093739368021488,\n",
              " 0.082516610622406,\n",
              " 0.004506783559918404,\n",
              " 0.005552180577069521,\n",
              " 0.004357235971838236,\n",
              " 0.004404238425195217,\n",
              " 0.025709325447678566,\n",
              " 0.2963630259037018,\n",
              " 0.007761695422232151,\n",
              " 0.19437871873378754]"
            ]
          },
          "metadata": {},
          "execution_count": 25
        }
      ]
    },
    {
      "cell_type": "code",
      "source": [
        "nontoxic_outputs[:10]"
      ],
      "metadata": {
        "colab": {
          "base_uri": "https://localhost:8080/"
        },
        "id": "LqdUuirw5R7_",
        "outputId": "62497826-04de-47ed-840d-9945bc278081"
      },
      "execution_count": 26,
      "outputs": [
        {
          "output_type": "execute_result",
          "data": {
            "text/plain": [
              "[0.988577127456665,\n",
              " 0.5189485549926758,\n",
              " 0.5234686136245728,\n",
              " 0.9705581665039062,\n",
              " 0.9219313263893127,\n",
              " 0.9877291917800903,\n",
              " 0.9441197514533997,\n",
              " 0.9559696912765503,\n",
              " 0.9932378530502319,\n",
              " 0.2708016335964203]"
            ]
          },
          "metadata": {},
          "execution_count": 26
        }
      ]
    },
    {
      "cell_type": "markdown",
      "source": [],
      "metadata": {
        "id": "t3oVwnErMPII"
      }
    },
    {
      "cell_type": "code",
      "source": [
        "print('NonToxicScore for the toxic posts: {:.4f}'.format(np.mean(toxic_outputs)))\n",
        "print('NonToxicScore for the style-transfered posts: {:.4f}'.format(np.mean(nontoxic_outputs)))"
      ],
      "metadata": {
        "colab": {
          "base_uri": "https://localhost:8080/"
        },
        "id": "xqhLu0VS5tYe",
        "outputId": "55280242-7237-4374-a88b-7e57f4e4bdc2"
      },
      "execution_count": 27,
      "outputs": [
        {
          "output_type": "stream",
          "name": "stdout",
          "text": [
            "NonToxicScore for the toxic posts: 0.0917\n",
            "NonToxicScore for the style-transfered posts: 0.6637\n"
          ]
        }
      ]
    }
  ]
}