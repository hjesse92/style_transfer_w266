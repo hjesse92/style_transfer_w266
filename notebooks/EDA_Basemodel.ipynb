{
  "nbformat": 4,
  "nbformat_minor": 0,
  "metadata": {
    "colab": {
      "provenance": []
    },
    "kernelspec": {
      "name": "python3",
      "display_name": "Python 3"
    },
    "language_info": {
      "name": "python"
    },
    "widgets": {
      "application/vnd.jupyter.widget-state+json": {
        "f1b2e62377264869be7ce51916212634": {
          "model_module": "@jupyter-widgets/controls",
          "model_name": "HBoxModel",
          "model_module_version": "1.5.0",
          "state": {
            "_dom_classes": [],
            "_model_module": "@jupyter-widgets/controls",
            "_model_module_version": "1.5.0",
            "_model_name": "HBoxModel",
            "_view_count": null,
            "_view_module": "@jupyter-widgets/controls",
            "_view_module_version": "1.5.0",
            "_view_name": "HBoxView",
            "box_style": "",
            "children": [
              "IPY_MODEL_1a3f6335eeb248b894399ea537c80acf",
              "IPY_MODEL_716b0fa753cd40e49515bd367135e2f6",
              "IPY_MODEL_bfd879cd644d44c58f842efa19b02cf9"
            ],
            "layout": "IPY_MODEL_a375d5d520db4c3bab16ecbdd1830019"
          }
        },
        "1a3f6335eeb248b894399ea537c80acf": {
          "model_module": "@jupyter-widgets/controls",
          "model_name": "HTMLModel",
          "model_module_version": "1.5.0",
          "state": {
            "_dom_classes": [],
            "_model_module": "@jupyter-widgets/controls",
            "_model_module_version": "1.5.0",
            "_model_name": "HTMLModel",
            "_view_count": null,
            "_view_module": "@jupyter-widgets/controls",
            "_view_module_version": "1.5.0",
            "_view_name": "HTMLView",
            "description": "",
            "description_tooltip": null,
            "layout": "IPY_MODEL_64b182d980fc446fa65d884b709d7f29",
            "placeholder": "​",
            "style": "IPY_MODEL_48429adf178348999d0878f9461ff219",
            "value": "100%"
          }
        },
        "716b0fa753cd40e49515bd367135e2f6": {
          "model_module": "@jupyter-widgets/controls",
          "model_name": "FloatProgressModel",
          "model_module_version": "1.5.0",
          "state": {
            "_dom_classes": [],
            "_model_module": "@jupyter-widgets/controls",
            "_model_module_version": "1.5.0",
            "_model_name": "FloatProgressModel",
            "_view_count": null,
            "_view_module": "@jupyter-widgets/controls",
            "_view_module_version": "1.5.0",
            "_view_name": "ProgressView",
            "bar_style": "success",
            "description": "",
            "description_tooltip": null,
            "layout": "IPY_MODEL_ba3c2452defa4d81a859585d6b365f37",
            "max": 1,
            "min": 0,
            "orientation": "horizontal",
            "style": "IPY_MODEL_7c66538b7ca247f09609bce8dfd6dd30",
            "value": 1
          }
        },
        "bfd879cd644d44c58f842efa19b02cf9": {
          "model_module": "@jupyter-widgets/controls",
          "model_name": "HTMLModel",
          "model_module_version": "1.5.0",
          "state": {
            "_dom_classes": [],
            "_model_module": "@jupyter-widgets/controls",
            "_model_module_version": "1.5.0",
            "_model_name": "HTMLModel",
            "_view_count": null,
            "_view_module": "@jupyter-widgets/controls",
            "_view_module_version": "1.5.0",
            "_view_name": "HTMLView",
            "description": "",
            "description_tooltip": null,
            "layout": "IPY_MODEL_e12505cb82fa4b12ad4fb26bfc01be04",
            "placeholder": "​",
            "style": "IPY_MODEL_57a4035a83a044debf84125452bbbf65",
            "value": " 1/1 [00:00&lt;00:00, 21.58it/s]"
          }
        },
        "a375d5d520db4c3bab16ecbdd1830019": {
          "model_module": "@jupyter-widgets/base",
          "model_name": "LayoutModel",
          "model_module_version": "1.2.0",
          "state": {
            "_model_module": "@jupyter-widgets/base",
            "_model_module_version": "1.2.0",
            "_model_name": "LayoutModel",
            "_view_count": null,
            "_view_module": "@jupyter-widgets/base",
            "_view_module_version": "1.2.0",
            "_view_name": "LayoutView",
            "align_content": null,
            "align_items": null,
            "align_self": null,
            "border": null,
            "bottom": null,
            "display": null,
            "flex": null,
            "flex_flow": null,
            "grid_area": null,
            "grid_auto_columns": null,
            "grid_auto_flow": null,
            "grid_auto_rows": null,
            "grid_column": null,
            "grid_gap": null,
            "grid_row": null,
            "grid_template_areas": null,
            "grid_template_columns": null,
            "grid_template_rows": null,
            "height": null,
            "justify_content": null,
            "justify_items": null,
            "left": null,
            "margin": null,
            "max_height": null,
            "max_width": null,
            "min_height": null,
            "min_width": null,
            "object_fit": null,
            "object_position": null,
            "order": null,
            "overflow": null,
            "overflow_x": null,
            "overflow_y": null,
            "padding": null,
            "right": null,
            "top": null,
            "visibility": null,
            "width": null
          }
        },
        "64b182d980fc446fa65d884b709d7f29": {
          "model_module": "@jupyter-widgets/base",
          "model_name": "LayoutModel",
          "model_module_version": "1.2.0",
          "state": {
            "_model_module": "@jupyter-widgets/base",
            "_model_module_version": "1.2.0",
            "_model_name": "LayoutModel",
            "_view_count": null,
            "_view_module": "@jupyter-widgets/base",
            "_view_module_version": "1.2.0",
            "_view_name": "LayoutView",
            "align_content": null,
            "align_items": null,
            "align_self": null,
            "border": null,
            "bottom": null,
            "display": null,
            "flex": null,
            "flex_flow": null,
            "grid_area": null,
            "grid_auto_columns": null,
            "grid_auto_flow": null,
            "grid_auto_rows": null,
            "grid_column": null,
            "grid_gap": null,
            "grid_row": null,
            "grid_template_areas": null,
            "grid_template_columns": null,
            "grid_template_rows": null,
            "height": null,
            "justify_content": null,
            "justify_items": null,
            "left": null,
            "margin": null,
            "max_height": null,
            "max_width": null,
            "min_height": null,
            "min_width": null,
            "object_fit": null,
            "object_position": null,
            "order": null,
            "overflow": null,
            "overflow_x": null,
            "overflow_y": null,
            "padding": null,
            "right": null,
            "top": null,
            "visibility": null,
            "width": null
          }
        },
        "48429adf178348999d0878f9461ff219": {
          "model_module": "@jupyter-widgets/controls",
          "model_name": "DescriptionStyleModel",
          "model_module_version": "1.5.0",
          "state": {
            "_model_module": "@jupyter-widgets/controls",
            "_model_module_version": "1.5.0",
            "_model_name": "DescriptionStyleModel",
            "_view_count": null,
            "_view_module": "@jupyter-widgets/base",
            "_view_module_version": "1.2.0",
            "_view_name": "StyleView",
            "description_width": ""
          }
        },
        "ba3c2452defa4d81a859585d6b365f37": {
          "model_module": "@jupyter-widgets/base",
          "model_name": "LayoutModel",
          "model_module_version": "1.2.0",
          "state": {
            "_model_module": "@jupyter-widgets/base",
            "_model_module_version": "1.2.0",
            "_model_name": "LayoutModel",
            "_view_count": null,
            "_view_module": "@jupyter-widgets/base",
            "_view_module_version": "1.2.0",
            "_view_name": "LayoutView",
            "align_content": null,
            "align_items": null,
            "align_self": null,
            "border": null,
            "bottom": null,
            "display": null,
            "flex": null,
            "flex_flow": null,
            "grid_area": null,
            "grid_auto_columns": null,
            "grid_auto_flow": null,
            "grid_auto_rows": null,
            "grid_column": null,
            "grid_gap": null,
            "grid_row": null,
            "grid_template_areas": null,
            "grid_template_columns": null,
            "grid_template_rows": null,
            "height": null,
            "justify_content": null,
            "justify_items": null,
            "left": null,
            "margin": null,
            "max_height": null,
            "max_width": null,
            "min_height": null,
            "min_width": null,
            "object_fit": null,
            "object_position": null,
            "order": null,
            "overflow": null,
            "overflow_x": null,
            "overflow_y": null,
            "padding": null,
            "right": null,
            "top": null,
            "visibility": null,
            "width": null
          }
        },
        "7c66538b7ca247f09609bce8dfd6dd30": {
          "model_module": "@jupyter-widgets/controls",
          "model_name": "ProgressStyleModel",
          "model_module_version": "1.5.0",
          "state": {
            "_model_module": "@jupyter-widgets/controls",
            "_model_module_version": "1.5.0",
            "_model_name": "ProgressStyleModel",
            "_view_count": null,
            "_view_module": "@jupyter-widgets/base",
            "_view_module_version": "1.2.0",
            "_view_name": "StyleView",
            "bar_color": null,
            "description_width": ""
          }
        },
        "e12505cb82fa4b12ad4fb26bfc01be04": {
          "model_module": "@jupyter-widgets/base",
          "model_name": "LayoutModel",
          "model_module_version": "1.2.0",
          "state": {
            "_model_module": "@jupyter-widgets/base",
            "_model_module_version": "1.2.0",
            "_model_name": "LayoutModel",
            "_view_count": null,
            "_view_module": "@jupyter-widgets/base",
            "_view_module_version": "1.2.0",
            "_view_name": "LayoutView",
            "align_content": null,
            "align_items": null,
            "align_self": null,
            "border": null,
            "bottom": null,
            "display": null,
            "flex": null,
            "flex_flow": null,
            "grid_area": null,
            "grid_auto_columns": null,
            "grid_auto_flow": null,
            "grid_auto_rows": null,
            "grid_column": null,
            "grid_gap": null,
            "grid_row": null,
            "grid_template_areas": null,
            "grid_template_columns": null,
            "grid_template_rows": null,
            "height": null,
            "justify_content": null,
            "justify_items": null,
            "left": null,
            "margin": null,
            "max_height": null,
            "max_width": null,
            "min_height": null,
            "min_width": null,
            "object_fit": null,
            "object_position": null,
            "order": null,
            "overflow": null,
            "overflow_x": null,
            "overflow_y": null,
            "padding": null,
            "right": null,
            "top": null,
            "visibility": null,
            "width": null
          }
        },
        "57a4035a83a044debf84125452bbbf65": {
          "model_module": "@jupyter-widgets/controls",
          "model_name": "DescriptionStyleModel",
          "model_module_version": "1.5.0",
          "state": {
            "_model_module": "@jupyter-widgets/controls",
            "_model_module_version": "1.5.0",
            "_model_name": "DescriptionStyleModel",
            "_view_count": null,
            "_view_module": "@jupyter-widgets/base",
            "_view_module_version": "1.2.0",
            "_view_name": "StyleView",
            "description_width": ""
          }
        }
      }
    }
  },
  "cells": [
    {
      "cell_type": "markdown",
      "source": [
        "## 1. Set Up"
      ],
      "metadata": {
        "id": "bjhZVZlb7J6E"
      }
    },
    {
      "cell_type": "code",
      "source": [
        "!pip install -q transformers\n",
        "!pip install -q datasets\n",
        "!pip install sentencepiece"
      ],
      "metadata": {
        "colab": {
          "base_uri": "https://localhost:8080/"
        },
        "id": "eg_O2jmPm5AN",
        "outputId": "d2d23cc3-15f4-4ff9-e56c-cb52afdfb2a8"
      },
      "execution_count": 1,
      "outputs": [
        {
          "output_type": "stream",
          "name": "stdout",
          "text": [
            "\u001b[2K     \u001b[90m━━━━━━━━━━━━━━━━━━━━━━━━━━━━━━━━━━━━━━━━\u001b[0m \u001b[32m6.3/6.3 MB\u001b[0m \u001b[31m46.5 MB/s\u001b[0m eta \u001b[36m0:00:00\u001b[0m\n",
            "\u001b[2K     \u001b[90m━━━━━━━━━━━━━━━━━━━━━━━━━━━━━━━━━━━━━━\u001b[0m \u001b[32m190.3/190.3 KB\u001b[0m \u001b[31m19.7 MB/s\u001b[0m eta \u001b[36m0:00:00\u001b[0m\n",
            "\u001b[2K     \u001b[90m━━━━━━━━━━━━━━━━━━━━━━━━━━━━━━━━━━━━━━━━\u001b[0m \u001b[32m7.6/7.6 MB\u001b[0m \u001b[31m88.3 MB/s\u001b[0m eta \u001b[36m0:00:00\u001b[0m\n",
            "\u001b[2K     \u001b[90m━━━━━━━━━━━━━━━━━━━━━━━━━━━━━━━━━━━━━━━\u001b[0m \u001b[32m469.0/469.0 KB\u001b[0m \u001b[31m9.3 MB/s\u001b[0m eta \u001b[36m0:00:00\u001b[0m\n",
            "\u001b[2K     \u001b[90m━━━━━━━━━━━━━━━━━━━━━━━━━━━━━━━━━━━━━━\u001b[0m \u001b[32m110.5/110.5 KB\u001b[0m \u001b[31m11.4 MB/s\u001b[0m eta \u001b[36m0:00:00\u001b[0m\n",
            "\u001b[2K     \u001b[90m━━━━━━━━━━━━━━━━━━━━━━━━━━━━━━━━━━━━━━\u001b[0m \u001b[32m132.0/132.0 KB\u001b[0m \u001b[31m14.3 MB/s\u001b[0m eta \u001b[36m0:00:00\u001b[0m\n",
            "\u001b[2K     \u001b[90m━━━━━━━━━━━━━━━━━━━━━━━━━━━━━━━━━━━━━━\u001b[0m \u001b[32m213.0/213.0 KB\u001b[0m \u001b[31m20.9 MB/s\u001b[0m eta \u001b[36m0:00:00\u001b[0m\n",
            "\u001b[?25hLooking in indexes: https://pypi.org/simple, https://us-python.pkg.dev/colab-wheels/public/simple/\n",
            "Collecting sentencepiece\n",
            "  Downloading sentencepiece-0.1.97-cp38-cp38-manylinux_2_17_x86_64.manylinux2014_x86_64.whl (1.3 MB)\n",
            "\u001b[2K     \u001b[90m━━━━━━━━━━━━━━━━━━━━━━━━━━━━━━━━━━━━━━━━\u001b[0m \u001b[32m1.3/1.3 MB\u001b[0m \u001b[31m19.1 MB/s\u001b[0m eta \u001b[36m0:00:00\u001b[0m\n",
            "\u001b[?25hInstalling collected packages: sentencepiece\n",
            "Successfully installed sentencepiece-0.1.97\n"
          ]
        }
      ]
    },
    {
      "cell_type": "code",
      "source": [
        "#Am I running a GPU and what type is it?\n",
        "!nvidia-smi"
      ],
      "metadata": {
        "colab": {
          "base_uri": "https://localhost:8080/"
        },
        "id": "OO91Sv-wndyr",
        "outputId": "f5149fe8-1382-487e-d013-d289a999ac9a"
      },
      "execution_count": 1,
      "outputs": [
        {
          "output_type": "stream",
          "name": "stdout",
          "text": [
            "NVIDIA-SMI has failed because it couldn't communicate with the NVIDIA driver. Make sure that the latest NVIDIA driver is installed and running.\n",
            "\n"
          ]
        }
      ]
    },
    {
      "cell_type": "code",
      "source": [
        "import torch\n",
        "\n",
        "if torch.cuda.is_available():     \n",
        "    device = torch.device(\"cuda\")\n",
        "    print('Number of GPU(s) available:', torch.cuda.device_count())\n",
        "    print('GPU device name:', torch.cuda.get_device_name(0))\n",
        "\n",
        "else:\n",
        "    print('No GPU available')\n",
        "    device = torch.device(\"cpu\")\n",
        "     "
      ],
      "metadata": {
        "colab": {
          "base_uri": "https://localhost:8080/"
        },
        "id": "G9GzMD9Nnoqf",
        "outputId": "2fd93fda-d5b3-4db4-c7f9-727706f199fe"
      },
      "execution_count": 10,
      "outputs": [
        {
          "output_type": "stream",
          "name": "stdout",
          "text": [
            "No GPU available\n"
          ]
        }
      ]
    },
    {
      "cell_type": "code",
      "source": [
        "from logging import warning\n",
        "import torch.nn as nn\n",
        "from torch.utils.data import Dataset, DataLoader\n",
        "\n",
        "import random\n",
        "import tensorflow as tf\n",
        "from tensorflow import keras\n",
        "from tensorflow.keras import layers\n",
        "from tensorflow.keras.layers import TextVectorization\n",
        "\n",
        "import pandas as pd\n",
        "import seaborn as sns\n",
        "import numpy as np\n",
        "import matplotlib.pyplot as plt\n",
        "import pprint\n",
        "\n",
        "import warnings\n",
        "warnings.filterwarnings('ignore')\n"
      ],
      "metadata": {
        "id": "5shury7xM1vU"
      },
      "execution_count": 34,
      "outputs": []
    },
    {
      "cell_type": "code",
      "source": [
        "RANDOM_SEED = 42\n",
        "np.random.seed(RANDOM_SEED)\n",
        "torch.manual_seed(RANDOM_SEED)\n",
        "\n",
        "pd.set_option('display.max_colwidth', 100)\n",
        "sns.set(style='whitegrid')\n"
      ],
      "metadata": {
        "id": "YA7DZD5FJO7B"
      },
      "execution_count": 35,
      "outputs": []
    },
    {
      "cell_type": "code",
      "execution_count": 4,
      "metadata": {
        "colab": {
          "base_uri": "https://localhost:8080/"
        },
        "id": "vLMw7X9r-VKi",
        "outputId": "bab22f82-0005-46b7-b686-a19625c4139c"
      },
      "outputs": [
        {
          "output_type": "stream",
          "name": "stdout",
          "text": [
            "Mounted at /content/drive\n"
          ]
        }
      ],
      "source": [
        "from google.colab import drive\n",
        "drive.mount('/content/drive')"
      ]
    },
    {
      "cell_type": "code",
      "source": [
        "cd drive/MyDrive/w266"
      ],
      "metadata": {
        "colab": {
          "base_uri": "https://localhost:8080/"
        },
        "id": "eBfstxCA-B-s",
        "outputId": "347ba937-ebb1-4366-9938-8bdba8575512"
      },
      "execution_count": 5,
      "outputs": [
        {
          "output_type": "stream",
          "name": "stdout",
          "text": [
            "/content/drive/MyDrive/w266\n"
          ]
        }
      ]
    },
    {
      "cell_type": "code",
      "source": [
        "# !git clone https://github.com/hjesse92/style_transfer_w266.git"
      ],
      "metadata": {
        "colab": {
          "base_uri": "https://localhost:8080/"
        },
        "id": "B85TbtEa-JLO",
        "outputId": "9b2eb209-7737-4cac-98b9-5ceee204a411"
      },
      "execution_count": null,
      "outputs": [
        {
          "output_type": "stream",
          "name": "stdout",
          "text": [
            "Cloning into 'style_transfer_w266'...\n",
            "remote: Enumerating objects: 18, done.\u001b[K\n",
            "remote: Counting objects: 100% (18/18), done.\u001b[K\n",
            "remote: Compressing objects: 100% (16/16), done.\u001b[K\n",
            "remote: Total 18 (delta 2), reused 10 (delta 0), pack-reused 0\u001b[K\n",
            "Unpacking objects: 100% (18/18), 90.27 KiB | 355.00 KiB/s, done.\n"
          ]
        }
      ]
    },
    {
      "cell_type": "code",
      "source": [
        "cd style_transfer_w266/"
      ],
      "metadata": {
        "colab": {
          "base_uri": "https://localhost:8080/"
        },
        "id": "35KinDJj_-si",
        "outputId": "d91a7710-9a45-40a9-d7b8-f240c387a868"
      },
      "execution_count": 6,
      "outputs": [
        {
          "output_type": "stream",
          "name": "stdout",
          "text": [
            "/content/drive/MyDrive/w266/style_transfer_w266\n"
          ]
        }
      ]
    },
    {
      "cell_type": "code",
      "source": [
        "# !git checkout -b eda_basemodel\n",
        "!git branch"
      ],
      "metadata": {
        "colab": {
          "base_uri": "https://localhost:8080/"
        },
        "id": "BmXDupMi-Sir",
        "outputId": "a55165dc-56d2-47e8-d2db-7d77441aa0a5"
      },
      "execution_count": 7,
      "outputs": [
        {
          "output_type": "stream",
          "name": "stdout",
          "text": [
            "* \u001b[32meda_basemodel\u001b[m\n",
            "  main\u001b[m\n"
          ]
        }
      ]
    },
    {
      "cell_type": "code",
      "source": [
        "!ls data/"
      ],
      "metadata": {
        "colab": {
          "base_uri": "https://localhost:8080/"
        },
        "id": "FJVB5Fx7I0tW",
        "outputId": "fa83df7a-64a7-4ea8-9c63-462042c0aed1"
      },
      "execution_count": 8,
      "outputs": [
        {
          "output_type": "stream",
          "name": "stdout",
          "text": [
            "original-dev.tsv  original-test.tsv  original-train.tsv\n"
          ]
        }
      ]
    },
    {
      "cell_type": "markdown",
      "source": [
        "## 2. EDA"
      ],
      "metadata": {
        "id": "jmwM6fOE8O7-"
      }
    },
    {
      "cell_type": "code",
      "source": [
        "train_text_file = 'data/original-train.tsv'\n",
        "dev_text_file = 'data/original-dev.tsv'\n",
        "test_text_file = 'data/original-test.tsv'"
      ],
      "metadata": {
        "id": "ziPkEerbLK_I"
      },
      "execution_count": 9,
      "outputs": []
    },
    {
      "cell_type": "code",
      "source": [
        "def load_data(text_file):\n",
        "  \"\"\"Load data and rename column\"\"\"\n",
        "  df = pd.read_csv(text_file, sep=\"\\t\")\n",
        "  df = df.rename(columns={'offensive-text':'org', 'style-transferred-text': 'mod'})\n",
        "  \n",
        "  # Calculate text length / word counts\n",
        "  df['org_text_length'] = df['org'].apply(lambda x: len(x.split(' ')))\n",
        "  df['mod_text_length'] = df['mod'].apply(lambda x: len(x.split(' ')))\n",
        "\n",
        "  return df"
      ],
      "metadata": {
        "id": "Vc1cZf9R95Ei"
      },
      "execution_count": 63,
      "outputs": []
    },
    {
      "cell_type": "code",
      "source": [
        "def modify_text_to_print(df):\n",
        "  \"\"\"Modify some toxic, offensive texts in the datafram for printing out\"\"\"\n",
        "  df[\"org\"] = df[\"org\"].apply(lambda x: x.lower().replace('fuck', 'f***')\\\n",
        "                              .replace('shit', 's***')\\\n",
        "                              .replace('pussy', 'p***y'))\n",
        "\n",
        "  return df"
      ],
      "metadata": {
        "id": "X4SO7W23lk3H"
      },
      "execution_count": 105,
      "outputs": []
    },
    {
      "cell_type": "code",
      "source": [
        "train_df = load_data(train_text_file)\n",
        "dev_df = load_data(dev_text_file)\n",
        "test_df = load_data(test_text_file)\n",
        "\n",
        "print('Train data size:', train_df.shape[0])\n",
        "print('Dev data size:', dev_df.shape[0])\n",
        "print('Test data size:', test_df.shape[0])\n",
        "\n",
        "print('\\nTrain data overview:')\n",
        "modify_text_to_print(train_df)"
      ],
      "metadata": {
        "colab": {
          "base_uri": "https://localhost:8080/",
          "height": 628
        },
        "id": "svTmyhWDLZLd",
        "outputId": "b35288f9-2e7f-4637-a2d4-1b04c570418e"
      },
      "execution_count": 106,
      "outputs": [
        {
          "output_type": "stream",
          "name": "stdout",
          "text": [
            "Train data size: 1584\n",
            "Dev data size: 198\n",
            "Test data size: 199\n",
            "\n",
            "Train data overview:\n"
          ]
        },
        {
          "output_type": "execute_result",
          "data": {
            "text/plain": [
              "                                                                                                      org  \\\n",
              "0                                                                      p*ssy nobody asked for your input.   \n",
              "1     ok, this makes no sense. this will create vigilantes. and i hope they put this savage animal dow...   \n",
              "2     so f**king true. the amount of up and coming rappers that are shot dead or od is is so f**king s...   \n",
              "3     go f yourself republican scum who put us here with your uneducated voting like you even care. i ...   \n",
              "4                                                            dumb f**king take. people want to do things.   \n",
              "...                                                                                                   ...   \n",
              "1579  the view! and this crap hits my front page!? lmfao   i know it's mostly bots but still, /r/polit...   \n",
              "1580                                                                                       that’s racist.   \n",
              "1581                                                       cultural marxism isn't a thing you weird f**k.   \n",
              "1582  lol, anyone that questions the democrat program is always a russian asset or nazi. this sh*ts ol...   \n",
              "1583               how about you guys actually read the bill, if you’re against it you’re with pedophilia   \n",
              "\n",
              "                                                                                                      mod  \\\n",
              "0                                                                             Nobody asked for your input   \n",
              "1     Ok, this makes no sense. This will create vigilantes. And I hope they take care of this uncontro...   \n",
              "2                     so true. the amount of up and coming rappers that are shot dead or od is is so sad.   \n",
              "3                                Republicans put us in this situation. I would want to defund the police.   \n",
              "4                                                      That's not a smart take. People want to do things.   \n",
              "...                                                                                                   ...   \n",
              "1579                                    This must be mostly bots but still, it's strange for /r/politics.   \n",
              "1580                                                                            Those actions are racist.   \n",
              "1581                                                                      Cultural Marxism isn't a thing.   \n",
              "1582  LOL, anyone that questions the Democrat program is always considered back. This is getting old, ...   \n",
              "1583                                                              I wish everyone actually read the bill.   \n",
              "\n",
              "      org_text_length  mod_text_length  \n",
              "0                   6                5  \n",
              "1                  23               24  \n",
              "2                  23               19  \n",
              "3                  23               13  \n",
              "4                   8               10  \n",
              "...               ...              ...  \n",
              "1579               22               11  \n",
              "1580                2                4  \n",
              "1581                8                5  \n",
              "1582               21               19  \n",
              "1583               15                7  \n",
              "\n",
              "[1584 rows x 4 columns]"
            ],
            "text/html": [
              "\n",
              "  <div id=\"df-202c9394-cb2f-4d33-8613-f580596b6c37\">\n",
              "    <div class=\"colab-df-container\">\n",
              "      <div>\n",
              "<style scoped>\n",
              "    .dataframe tbody tr th:only-of-type {\n",
              "        vertical-align: middle;\n",
              "    }\n",
              "\n",
              "    .dataframe tbody tr th {\n",
              "        vertical-align: top;\n",
              "    }\n",
              "\n",
              "    .dataframe thead th {\n",
              "        text-align: right;\n",
              "    }\n",
              "</style>\n",
              "<table border=\"1\" class=\"dataframe\">\n",
              "  <thead>\n",
              "    <tr style=\"text-align: right;\">\n",
              "      <th></th>\n",
              "      <th>org</th>\n",
              "      <th>mod</th>\n",
              "      <th>org_text_length</th>\n",
              "      <th>mod_text_length</th>\n",
              "    </tr>\n",
              "  </thead>\n",
              "  <tbody>\n",
              "    <tr>\n",
              "      <th>0</th>\n",
              "      <td>p*ssy nobody asked for your input.</td>\n",
              "      <td>Nobody asked for your input</td>\n",
              "      <td>6</td>\n",
              "      <td>5</td>\n",
              "    </tr>\n",
              "    <tr>\n",
              "      <th>1</th>\n",
              "      <td>ok, this makes no sense. this will create vigilantes. and i hope they put this savage animal dow...</td>\n",
              "      <td>Ok, this makes no sense. This will create vigilantes. And I hope they take care of this uncontro...</td>\n",
              "      <td>23</td>\n",
              "      <td>24</td>\n",
              "    </tr>\n",
              "    <tr>\n",
              "      <th>2</th>\n",
              "      <td>so f**king true. the amount of up and coming rappers that are shot dead or od is is so f**king s...</td>\n",
              "      <td>so true. the amount of up and coming rappers that are shot dead or od is is so sad.</td>\n",
              "      <td>23</td>\n",
              "      <td>19</td>\n",
              "    </tr>\n",
              "    <tr>\n",
              "      <th>3</th>\n",
              "      <td>go f yourself republican scum who put us here with your uneducated voting like you even care. i ...</td>\n",
              "      <td>Republicans put us in this situation. I would want to defund the police.</td>\n",
              "      <td>23</td>\n",
              "      <td>13</td>\n",
              "    </tr>\n",
              "    <tr>\n",
              "      <th>4</th>\n",
              "      <td>dumb f**king take. people want to do things.</td>\n",
              "      <td>That's not a smart take. People want to do things.</td>\n",
              "      <td>8</td>\n",
              "      <td>10</td>\n",
              "    </tr>\n",
              "    <tr>\n",
              "      <th>...</th>\n",
              "      <td>...</td>\n",
              "      <td>...</td>\n",
              "      <td>...</td>\n",
              "      <td>...</td>\n",
              "    </tr>\n",
              "    <tr>\n",
              "      <th>1579</th>\n",
              "      <td>the view! and this crap hits my front page!? lmfao   i know it's mostly bots but still, /r/polit...</td>\n",
              "      <td>This must be mostly bots but still, it's strange for /r/politics.</td>\n",
              "      <td>22</td>\n",
              "      <td>11</td>\n",
              "    </tr>\n",
              "    <tr>\n",
              "      <th>1580</th>\n",
              "      <td>that’s racist.</td>\n",
              "      <td>Those actions are racist.</td>\n",
              "      <td>2</td>\n",
              "      <td>4</td>\n",
              "    </tr>\n",
              "    <tr>\n",
              "      <th>1581</th>\n",
              "      <td>cultural marxism isn't a thing you weird f**k.</td>\n",
              "      <td>Cultural Marxism isn't a thing.</td>\n",
              "      <td>8</td>\n",
              "      <td>5</td>\n",
              "    </tr>\n",
              "    <tr>\n",
              "      <th>1582</th>\n",
              "      <td>lol, anyone that questions the democrat program is always a russian asset or nazi. this sh*ts ol...</td>\n",
              "      <td>LOL, anyone that questions the Democrat program is always considered back. This is getting old, ...</td>\n",
              "      <td>21</td>\n",
              "      <td>19</td>\n",
              "    </tr>\n",
              "    <tr>\n",
              "      <th>1583</th>\n",
              "      <td>how about you guys actually read the bill, if you’re against it you’re with pedophilia</td>\n",
              "      <td>I wish everyone actually read the bill.</td>\n",
              "      <td>15</td>\n",
              "      <td>7</td>\n",
              "    </tr>\n",
              "  </tbody>\n",
              "</table>\n",
              "<p>1584 rows × 4 columns</p>\n",
              "</div>\n",
              "      <button class=\"colab-df-convert\" onclick=\"convertToInteractive('df-202c9394-cb2f-4d33-8613-f580596b6c37')\"\n",
              "              title=\"Convert this dataframe to an interactive table.\"\n",
              "              style=\"display:none;\">\n",
              "        \n",
              "  <svg xmlns=\"http://www.w3.org/2000/svg\" height=\"24px\"viewBox=\"0 0 24 24\"\n",
              "       width=\"24px\">\n",
              "    <path d=\"M0 0h24v24H0V0z\" fill=\"none\"/>\n",
              "    <path d=\"M18.56 5.44l.94 2.06.94-2.06 2.06-.94-2.06-.94-.94-2.06-.94 2.06-2.06.94zm-11 1L8.5 8.5l.94-2.06 2.06-.94-2.06-.94L8.5 2.5l-.94 2.06-2.06.94zm10 10l.94 2.06.94-2.06 2.06-.94-2.06-.94-.94-2.06-.94 2.06-2.06.94z\"/><path d=\"M17.41 7.96l-1.37-1.37c-.4-.4-.92-.59-1.43-.59-.52 0-1.04.2-1.43.59L10.3 9.45l-7.72 7.72c-.78.78-.78 2.05 0 2.83L4 21.41c.39.39.9.59 1.41.59.51 0 1.02-.2 1.41-.59l7.78-7.78 2.81-2.81c.8-.78.8-2.07 0-2.86zM5.41 20L4 18.59l7.72-7.72 1.47 1.35L5.41 20z\"/>\n",
              "  </svg>\n",
              "      </button>\n",
              "      \n",
              "  <style>\n",
              "    .colab-df-container {\n",
              "      display:flex;\n",
              "      flex-wrap:wrap;\n",
              "      gap: 12px;\n",
              "    }\n",
              "\n",
              "    .colab-df-convert {\n",
              "      background-color: #E8F0FE;\n",
              "      border: none;\n",
              "      border-radius: 50%;\n",
              "      cursor: pointer;\n",
              "      display: none;\n",
              "      fill: #1967D2;\n",
              "      height: 32px;\n",
              "      padding: 0 0 0 0;\n",
              "      width: 32px;\n",
              "    }\n",
              "\n",
              "    .colab-df-convert:hover {\n",
              "      background-color: #E2EBFA;\n",
              "      box-shadow: 0px 1px 2px rgba(60, 64, 67, 0.3), 0px 1px 3px 1px rgba(60, 64, 67, 0.15);\n",
              "      fill: #174EA6;\n",
              "    }\n",
              "\n",
              "    [theme=dark] .colab-df-convert {\n",
              "      background-color: #3B4455;\n",
              "      fill: #D2E3FC;\n",
              "    }\n",
              "\n",
              "    [theme=dark] .colab-df-convert:hover {\n",
              "      background-color: #434B5C;\n",
              "      box-shadow: 0px 1px 3px 1px rgba(0, 0, 0, 0.15);\n",
              "      filter: drop-shadow(0px 1px 2px rgba(0, 0, 0, 0.3));\n",
              "      fill: #FFFFFF;\n",
              "    }\n",
              "  </style>\n",
              "\n",
              "      <script>\n",
              "        const buttonEl =\n",
              "          document.querySelector('#df-202c9394-cb2f-4d33-8613-f580596b6c37 button.colab-df-convert');\n",
              "        buttonEl.style.display =\n",
              "          google.colab.kernel.accessAllowed ? 'block' : 'none';\n",
              "\n",
              "        async function convertToInteractive(key) {\n",
              "          const element = document.querySelector('#df-202c9394-cb2f-4d33-8613-f580596b6c37');\n",
              "          const dataTable =\n",
              "            await google.colab.kernel.invokeFunction('convertToInteractive',\n",
              "                                                     [key], {});\n",
              "          if (!dataTable) return;\n",
              "\n",
              "          const docLinkHtml = 'Like what you see? Visit the ' +\n",
              "            '<a target=\"_blank\" href=https://colab.research.google.com/notebooks/data_table.ipynb>data table notebook</a>'\n",
              "            + ' to learn more about interactive tables.';\n",
              "          element.innerHTML = '';\n",
              "          dataTable['output_type'] = 'display_data';\n",
              "          await google.colab.output.renderOutput(dataTable, element);\n",
              "          const docLink = document.createElement('div');\n",
              "          docLink.innerHTML = docLinkHtml;\n",
              "          element.appendChild(docLink);\n",
              "        }\n",
              "      </script>\n",
              "    </div>\n",
              "  </div>\n",
              "  "
            ]
          },
          "metadata": {},
          "execution_count": 106
        }
      ]
    },
    {
      "cell_type": "code",
      "source": [
        "### Plot the word-count distribution for the original texts and the modified texts.\n",
        "fig, ax = plt.subplots(figsize=(10, 6))\n",
        "sns.set_style('white')\n",
        "\n",
        "# calculate the bin size based on the range of the data\n",
        "bins = range(min(train_df['org_text_length'].min(), train_df['mod_text_length'].min()), \n",
        "             max(train_df['org_text_length'].max(), train_df['mod_text_length'].max()) + 2, 2)\n",
        "\n",
        "# plot the histograms with the same bin size\n",
        "sns.histplot(data=train_df, x='org_text_length', label='Original Texts', bins=bins, color='#4285F4', alpha=0.8)\n",
        "sns.histplot(data=train_df, x='mod_text_length', label='Modified Texts', bins=bins, color='#FDB515', alpha=0.8)\n",
        "\n",
        "# set the axis labels and title\n",
        "ax.set(xlabel='Text Length', ylabel='Count')\n",
        "ax.set_title('Word Count Distribution', fontsize=18)\n",
        "\n",
        "# set the legend and adjust its position\n",
        "plt.legend(fontsize=14)\n",
        "plt.legend(loc='upper right')\n",
        "\n",
        "# set the ticks fontsize\n",
        "ax.tick_params(axis='both', which='major', labelsize=14)"
      ],
      "metadata": {
        "colab": {
          "base_uri": "https://localhost:8080/",
          "height": 423
        },
        "id": "Ug3U__7wchd4",
        "outputId": "d22e6562-cac0-4ac9-ecff-167ac290d662"
      },
      "execution_count": 87,
      "outputs": [
        {
          "output_type": "display_data",
          "data": {
            "text/plain": [
              "<Figure size 720x432 with 1 Axes>"
            ],
            "image/png": "[encoded data removed]"
          },
          "metadata": {}
        }
      ]
    },
    {
      "cell_type": "code",
      "source": [
        "### Find out what words appear the most in the original texts and the modified text without including stopwords\n",
        "from collections import Counter\n",
        "import nltk\n",
        "# nltk.download('stopwords')\n",
        "from nltk.corpus import stopwords\n",
        "\n",
        "# create a list of stopwords\n",
        "stop_words = set(stopwords.words('english')) | {\"i'm\", \"you’re\", \"that's\"}\n",
        "# print(stop_words)\n",
        "\n",
        "# create a list of all words in the 'org' column, removing stopwords\n",
        "org_words = ' '.join(train_df['org']).lower().split()\n",
        "org_words = [word.strip(\".,?!:\").replace('fuck', 'f***').replace('shit', 's***') for word in org_words if word not in stop_words]\n",
        "# org_words = [word.lower() for word in train_df['org'].str.split() if word.lower() not in stop_words]\n",
        "\n",
        "# create a list of all words in the 'mod' column, removing stopwords\n",
        "mod_words = ' '.join(train_df['mod']).lower().split()\n",
        "mod_words = [word.strip(\".,?!:\") for word in mod_words if word not in stop_words]\n",
        "# mod_words = [word.lower() for word in train_df['mod'].str.split() if word.lower() not in stop_words]\n",
        "\n",
        "# count the frequency of each word in the 'org' column\n",
        "org_word_counts = Counter(org_words)\n",
        "\n",
        "# count the frequency of each word in the 'mod' column\n",
        "mod_word_counts = Counter(mod_words)\n",
        "\n",
        "# create a pandas dataframe of the top 20 most common words in each column\n",
        "top_org_words = pd.DataFrame(org_word_counts.most_common(20), columns=['word', 'count'])\n",
        "top_mod_words = pd.DataFrame(mod_word_counts.most_common(20), columns=['word', 'count'])\n",
        "\n",
        "# print the top 20 most common words in each column\n",
        "print(\"Top 20 most frequent words in the Original Texts:\")\n",
        "print(top_org_words)\n",
        "print(\"\\nTop 20 most frequent words in the Modified Texts:\")\n",
        "print(top_mod_words)"
      ],
      "metadata": {
        "colab": {
          "base_uri": "https://localhost:8080/"
        },
        "id": "h2kwg6-Tdggo",
        "outputId": "0aba0020-46c1-4cd5-df21-02192e263f15"
      },
      "execution_count": 110,
      "outputs": [
        {
          "output_type": "stream",
          "name": "stdout",
          "text": [
            "Top 20 most frequent words in the Original Texts:\n",
            "       word  count\n",
            "0      f**k    170\n",
            "1      sh*t    158\n",
            "2   f**king    138\n",
            "3      like    119\n",
            "4    people     90\n",
            "5    stupid     84\n",
            "6       get     78\n",
            "7      dumb     57\n",
            "8      even     52\n",
            "9      know     52\n",
            "10    think     52\n",
            "11      lol     51\n",
            "12    idiot     50\n",
            "13       go     48\n",
            "14      one     45\n",
            "15   really     43\n",
            "16      ass     43\n",
            "17   racist     42\n",
            "18     good     42\n",
            "19    right     38\n",
            "\n",
            "Top 20 most frequent words in the Modified Texts:\n",
            "      word  count\n",
            "0   people    129\n",
            "1     like    104\n",
            "2      get     78\n",
            "3    think     67\n",
            "4   really     58\n",
            "5     know     52\n",
            "6   person     51\n",
            "7     good     49\n",
            "8     make     48\n",
            "9     stop     47\n",
            "10    even     46\n",
            "11     one     46\n",
            "12    need     46\n",
            "13      go     45\n",
            "14     bad     44\n",
            "15      it     43\n",
            "16   would     37\n",
            "17     lol     35\n",
            "18  racist     34\n",
            "19   stuff     34\n"
          ]
        }
      ]
    },
    {
      "cell_type": "code",
      "source": [
        "# from datasets import load_dataset\n",
        "# train_ds = load_dataset(\"csv\", data_files=train_text_file, sep=\"\\t\", names=[\"org\",\"mod\"])\n",
        "# train_ds\n",
        "# print(train_ds[\"train\"][:5])"
      ],
      "metadata": {
        "colab": {
          "base_uri": "https://localhost:8080/",
          "height": 176,
          "referenced_widgets": [
            "f1b2e62377264869be7ce51916212634",
            "1a3f6335eeb248b894399ea537c80acf",
            "716b0fa753cd40e49515bd367135e2f6",
            "bfd879cd644d44c58f842efa19b02cf9",
            "a375d5d520db4c3bab16ecbdd1830019",
            "64b182d980fc446fa65d884b709d7f29",
            "48429adf178348999d0878f9461ff219",
            "ba3c2452defa4d81a859585d6b365f37",
            "7c66538b7ca247f09609bce8dfd6dd30",
            "e12505cb82fa4b12ad4fb26bfc01be04",
            "57a4035a83a044debf84125452bbbf65"
          ]
        },
        "id": "95U9V1u2ldRj",
        "outputId": "622462dc-69b6-4b9b-8e54-a8a02b0649bc"
      },
      "execution_count": 16,
      "outputs": [
        {
          "output_type": "stream",
          "name": "stderr",
          "text": [
            "WARNING:datasets.builder:Found cached dataset csv (/root/.cache/huggingface/datasets/csv/default-f1508b35f54b1bdb/0.0.0/6b34fb8fcf56f7c8ba51dc895bfa2bfbe43546f190a60fcf74bb5e8afdcc2317)\n"
          ]
        },
        {
          "output_type": "display_data",
          "data": {
            "text/plain": [
              "  0%|          | 0/1 [00:00<?, ?it/s]"
            ],
            "application/vnd.jupyter.widget-view+json": {
              "version_major": 2,
              "version_minor": 0,
              "model_id": "f1b2e62377264869be7ce51916212634"
            }
          },
          "metadata": {}
        },
        {
          "output_type": "execute_result",
          "data": {
            "text/plain": [
              "DatasetDict({\n",
              "    train: Dataset({\n",
              "        features: ['org', 'mod'],\n",
              "        num_rows: 1585\n",
              "    })\n",
              "})"
            ]
          },
          "metadata": {},
          "execution_count": 16
        }
      ]
    },
    {
      "cell_type": "markdown",
      "source": [],
      "metadata": {
        "id": "r9wiw-jl5W1k"
      }
    },
    {
      "cell_type": "code",
      "source": [],
      "metadata": {
        "id": "PKdnuqKp5WAb"
      },
      "execution_count": null,
      "outputs": []
    },
    {
      "cell_type": "code",
      "source": [],
      "metadata": {
        "colab": {
          "base_uri": "https://localhost:8080/"
        },
        "id": "414i-SvwD8OI",
        "outputId": "5132a336-5979-4bb7-c9a8-04fa95257117"
      },
      "execution_count": 21,
      "outputs": [
        {
          "output_type": "stream",
          "name": "stdout",
          "text": [
            "{'org': ['offensive-text', 'Pussy nobody asked for your input.', 'Ok, this makes no sense. This will create vigilantes. And I hope they put this savage animal down before he hurts anyone else.', 'so fucking true. the amount of up and coming rappers that are shot dead or od is is so fucking sad yet hillarious.', 'Go f yourself Republican scum who put us here with your uneducated voting like you even care. I do want to defund police.'], 'mod': ['style-transferred-text', 'Nobody asked for your input', 'Ok, this makes no sense. This will create vigilantes. And I hope they take care of this uncontrollable person before he hurts anyone else', 'so true. the amount of up and coming rappers that are shot dead or od is is so sad.', 'Republicans put us in this situation. I would want to defund the police.']}\n"
          ]
        }
      ]
    },
    {
      "cell_type": "markdown",
      "source": [],
      "metadata": {
        "id": "t3oVwnErMPII"
      }
    }
  ]
}