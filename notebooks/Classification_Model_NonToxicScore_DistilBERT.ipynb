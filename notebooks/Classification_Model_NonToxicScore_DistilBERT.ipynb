{
 "cells": [
  {
   "cell_type": "markdown",
   "metadata": {
    "id": "VXVKsxIGoPXd"
   },
   "source": [
    "# Building NeutralScore, a classification Model for non-toxic versus toxic detection.\n",
    "\n",
    "We'll build a classification model using Kaggle Jigsaw Toxic Classification dataset to classify if a post is non-toxic or toxic. The result of this classification model will be used as an evaluating metric for our Style Transfer model. \n",
    "\n"
   ]
  },
  {
   "cell_type": "markdown",
   "metadata": {
    "id": "L7KV6-m2HB5c"
   },
   "source": [
    "## 1. Set up"
   ]
  },
  {
   "cell_type": "code",
   "execution_count": 1,
   "metadata": {
    "colab": {
     "base_uri": "https://localhost:8080/"
    },
    "id": "6HVOMBqxoLt7",
    "outputId": "674b4fea-5151-4ce6-8913-49b226a584fe"
   },
   "outputs": [],
   "source": [
    "# !pip install -q transformers nlpaug"
   ]
  },
  {
   "cell_type": "code",
   "execution_count": 1,
   "metadata": {
    "colab": {
     "base_uri": "https://localhost:8080/"
    },
    "id": "XJdVUvjKosc4",
    "outputId": "29feb5a2-f27c-401a-afa8-8d989fef4091"
   },
   "outputs": [
    {
     "name": "stdout",
     "output_type": "stream",
     "text": [
      "Mon Mar 27 02:39:44 2023       \n",
      "+-----------------------------------------------------------------------------+\n",
      "| NVIDIA-SMI 525.85.12    Driver Version: 525.85.12    CUDA Version: 12.0     |\n",
      "|-------------------------------+----------------------+----------------------+\n",
      "| GPU  Name        Persistence-M| Bus-Id        Disp.A | Volatile Uncorr. ECC |\n",
      "| Fan  Temp  Perf  Pwr:Usage/Cap|         Memory-Usage | GPU-Util  Compute M. |\n",
      "|                               |                      |               MIG M. |\n",
      "|===============================+======================+======================|\n",
      "|   0  Tesla T4            On   | 00000000:00:1E.0 Off |                    0 |\n",
      "| N/A   49C    P8    16W /  70W |      2MiB / 15360MiB |      0%      Default |\n",
      "|                               |                      |                  N/A |\n",
      "+-------------------------------+----------------------+----------------------+\n",
      "                                                                               \n",
      "+-----------------------------------------------------------------------------+\n",
      "| Processes:                                                                  |\n",
      "|  GPU   GI   CI        PID   Type   Process name                  GPU Memory |\n",
      "|        ID   ID                                                   Usage      |\n",
      "|=============================================================================|\n",
      "|  No running processes found                                                 |\n",
      "+-----------------------------------------------------------------------------+\n"
     ]
    }
   ],
   "source": [
    "#Am I running a GPU and what type is it?\n",
    "!nvidia-smi"
   ]
  },
  {
   "cell_type": "code",
   "execution_count": 2,
   "metadata": {
    "colab": {
     "base_uri": "https://localhost:8080/"
    },
    "id": "vWHCa3ZTouYI",
    "outputId": "4e9644a5-be56-430b-fe0d-1d7b73824da5"
   },
   "outputs": [
    {
     "name": "stdout",
     "output_type": "stream",
     "text": [
      "Number of GPU(s) available: 1\n",
      "GPU device name: Tesla T4\n"
     ]
    }
   ],
   "source": [
    "import torch\n",
    "\n",
    "if torch.cuda.is_available():     \n",
    "    # device = torch.device(\"cuda\")\n",
    "    device = \"cuda\"\n",
    "    print('Number of GPU(s) available:', torch.cuda.device_count())\n",
    "    print('GPU device name:', torch.cuda.get_device_name(0))\n",
    "\n",
    "else:\n",
    "    print('No GPU available')\n",
    "    # device = torch.device(\"cpu\")\n",
    "    device = \"cpu\""
   ]
  },
  {
   "cell_type": "code",
   "execution_count": 3,
   "metadata": {
    "id": "tKRA--GDo8Hn"
   },
   "outputs": [],
   "source": [
    "from logging import warning\n",
    "import torch.nn as nn\n",
    "from torch.utils.data import Dataset, DataLoader, RandomSampler, SequentialSampler, TensorDataset\n",
    "import torch.backends.cudnn as cudnn\n",
    "import torch.optim as optim\n",
    "\n",
    "from transformers import BertTokenizer, BertModel, DistilBertTokenizer, DistilBertModel\n",
    "\n",
    "from sklearn.utils import resample\n",
    "from sklearn.model_selection import train_test_split\n",
    "\n",
    "import re\n",
    "import random\n",
    "import pandas as pd\n",
    "import seaborn as sns\n",
    "import numpy as np\n",
    "import matplotlib.pyplot as plt\n",
    "import pprint\n",
    "import os\n",
    "import shutil\n",
    "import time\n",
    "import datetime\n",
    "\n",
    "\n",
    "import warnings\n",
    "warnings.filterwarnings('ignore')\n"
   ]
  },
  {
   "cell_type": "code",
   "execution_count": 4,
   "metadata": {
    "colab": {
     "base_uri": "https://localhost:8080/"
    },
    "id": "aZyycwHlpJzN",
    "outputId": "2d0abc75-1497-4650-cfaa-0e3a1c01fdf2"
   },
   "outputs": [
    {
     "data": {
      "text/plain": [
       "<torch._C.Generator at 0x7f47402bc090>"
      ]
     },
     "execution_count": 4,
     "metadata": {},
     "output_type": "execute_result"
    }
   ],
   "source": [
    "RANDOM_SEED = 42\n",
    "np.random.seed(RANDOM_SEED)\n",
    "torch.manual_seed(RANDOM_SEED)"
   ]
  },
  {
   "cell_type": "code",
   "execution_count": 6,
   "metadata": {
    "colab": {
     "base_uri": "https://localhost:8080/"
    },
    "id": "b-6aYYXQpP0A",
    "outputId": "b031fbdf-14f1-4a17-d776-fe677bcc610e"
   },
   "outputs": [
    {
     "name": "stdout",
     "output_type": "stream",
     "text": [
      "Mounted at /content/drive\n"
     ]
    }
   ],
   "source": [
    "# from google.colab import drive\n",
    "# drive.mount('/content/drive')"
   ]
  },
  {
   "cell_type": "code",
   "execution_count": 5,
   "metadata": {
    "colab": {
     "base_uri": "https://localhost:8080/"
    },
    "id": "8ADV124LpT_Q",
    "outputId": "85e7c82d-7719-468d-d06d-294f4a540590"
   },
   "outputs": [
    {
     "name": "stdout",
     "output_type": "stream",
     "text": [
      "/home/ubuntu/style_transfer_w266\n"
     ]
    }
   ],
   "source": [
    "%cd ..\n",
    "# cd drive/MyDrive/w266/style_transfer_w266/"
   ]
  },
  {
   "cell_type": "markdown",
   "metadata": {
    "id": "otXtFIKpweWH"
   },
   "source": [
    "## 2.EDA & Data Preprocessing\n",
    "\n",
    "We could see that the jigsaw data split the toxic comments into different categories. For our model, we will include all of these categories into a toxic category:\n",
    " - toxic\n",
    " - severe_toxic\n",
    " - obscene\n",
    " - threat\n",
    " - insult\n",
    " - identity_hate\n",
    "\n",
    " Our model goal is to classify if a post is non-toxic (label = 1) versus toxic (label = 0), which could be used as a NonToxicScore metric."
   ]
  },
  {
   "cell_type": "code",
   "execution_count": 6,
   "metadata": {
    "colab": {
     "base_uri": "https://localhost:8080/",
     "height": 337
    },
    "id": "UphqS0gTpf_V",
    "outputId": "fa505c9b-1d6f-4585-9d08-8ac9c7fb516f"
   },
   "outputs": [
    {
     "data": {
      "text/html": [
       "<div>\n",
       "<style scoped>\n",
       "    .dataframe tbody tr th:only-of-type {\n",
       "        vertical-align: middle;\n",
       "    }\n",
       "\n",
       "    .dataframe tbody tr th {\n",
       "        vertical-align: top;\n",
       "    }\n",
       "\n",
       "    .dataframe thead th {\n",
       "        text-align: right;\n",
       "    }\n",
       "</style>\n",
       "<table border=\"1\" class=\"dataframe\">\n",
       "  <thead>\n",
       "    <tr style=\"text-align: right;\">\n",
       "      <th></th>\n",
       "      <th>id</th>\n",
       "      <th>comment_text</th>\n",
       "      <th>toxic</th>\n",
       "      <th>severe_toxic</th>\n",
       "      <th>obscene</th>\n",
       "      <th>threat</th>\n",
       "      <th>insult</th>\n",
       "      <th>identity_hate</th>\n",
       "    </tr>\n",
       "  </thead>\n",
       "  <tbody>\n",
       "    <tr>\n",
       "      <th>0</th>\n",
       "      <td>0000997932d777bf</td>\n",
       "      <td>Explanation\\nWhy the edits made under my usern...</td>\n",
       "      <td>0</td>\n",
       "      <td>0</td>\n",
       "      <td>0</td>\n",
       "      <td>0</td>\n",
       "      <td>0</td>\n",
       "      <td>0</td>\n",
       "    </tr>\n",
       "    <tr>\n",
       "      <th>1</th>\n",
       "      <td>000103f0d9cfb60f</td>\n",
       "      <td>D'aww! He matches this background colour I'm s...</td>\n",
       "      <td>0</td>\n",
       "      <td>0</td>\n",
       "      <td>0</td>\n",
       "      <td>0</td>\n",
       "      <td>0</td>\n",
       "      <td>0</td>\n",
       "    </tr>\n",
       "    <tr>\n",
       "      <th>2</th>\n",
       "      <td>000113f07ec002fd</td>\n",
       "      <td>Hey man, I'm really not trying to edit war. It...</td>\n",
       "      <td>0</td>\n",
       "      <td>0</td>\n",
       "      <td>0</td>\n",
       "      <td>0</td>\n",
       "      <td>0</td>\n",
       "      <td>0</td>\n",
       "    </tr>\n",
       "    <tr>\n",
       "      <th>3</th>\n",
       "      <td>0001b41b1c6bb37e</td>\n",
       "      <td>\"\\nMore\\nI can't make any real suggestions on ...</td>\n",
       "      <td>0</td>\n",
       "      <td>0</td>\n",
       "      <td>0</td>\n",
       "      <td>0</td>\n",
       "      <td>0</td>\n",
       "      <td>0</td>\n",
       "    </tr>\n",
       "    <tr>\n",
       "      <th>4</th>\n",
       "      <td>0001d958c54c6e35</td>\n",
       "      <td>You, sir, are my hero. Any chance you remember...</td>\n",
       "      <td>0</td>\n",
       "      <td>0</td>\n",
       "      <td>0</td>\n",
       "      <td>0</td>\n",
       "      <td>0</td>\n",
       "      <td>0</td>\n",
       "    </tr>\n",
       "  </tbody>\n",
       "</table>\n",
       "</div>"
      ],
      "text/plain": [
       "                 id                                       comment_text  toxic  \\\n",
       "0  0000997932d777bf  Explanation\\nWhy the edits made under my usern...      0   \n",
       "1  000103f0d9cfb60f  D'aww! He matches this background colour I'm s...      0   \n",
       "2  000113f07ec002fd  Hey man, I'm really not trying to edit war. It...      0   \n",
       "3  0001b41b1c6bb37e  \"\\nMore\\nI can't make any real suggestions on ...      0   \n",
       "4  0001d958c54c6e35  You, sir, are my hero. Any chance you remember...      0   \n",
       "\n",
       "   severe_toxic  obscene  threat  insult  identity_hate  \n",
       "0             0        0       0       0              0  \n",
       "1             0        0       0       0              0  \n",
       "2             0        0       0       0              0  \n",
       "3             0        0       0       0              0  \n",
       "4             0        0       0       0              0  "
      ]
     },
     "execution_count": 6,
     "metadata": {},
     "output_type": "execute_result"
    }
   ],
   "source": [
    "text_file = 'data/jigsaw_classification_data.csv'\n",
    "df = pd.read_csv(text_file)\n",
    "df.head()"
   ]
  },
  {
   "cell_type": "code",
   "execution_count": 7,
   "metadata": {
    "colab": {
     "base_uri": "https://localhost:8080/"
    },
    "id": "KVqtFy1WuYzD",
    "outputId": "44a34b00-6fb2-4683-f9b3-d1a65bda0463"
   },
   "outputs": [
    {
     "name": "stdout",
     "output_type": "stream",
     "text": [
      "Count of toxic:\n",
      "0    144277\n",
      "1     15294\n",
      "Name: toxic, dtype: int64\n",
      "\n",
      "Count of severe toxic:\n",
      "0    157976\n",
      "1      1595\n",
      "Name: severe_toxic, dtype: int64\n",
      "\n",
      "Count of obscene:\n",
      "0    151122\n",
      "1      8449\n",
      "Name: obscene, dtype: int64\n",
      "\n",
      "Count of threat:\n",
      "0    159093\n",
      "1       478\n",
      "Name: threat, dtype: int64\n",
      "\n",
      "Count of insult:\n",
      "0    151694\n",
      "1      7877\n",
      "Name: insult, dtype: int64\n",
      "\n",
      "Count of identity hate:\n",
      "0    158166\n",
      "1      1405\n",
      "Name: identity_hate, dtype: int64\n"
     ]
    }
   ],
   "source": [
    "# EDA\n",
    "print('Count of toxic:')\n",
    "print(df.toxic.value_counts())\n",
    "\n",
    "print('\\nCount of severe toxic:')\n",
    "print(df.severe_toxic.value_counts())\n",
    "\n",
    "print('\\nCount of obscene:')\n",
    "print(df.obscene.value_counts())\n",
    "\n",
    "print('\\nCount of threat:')\n",
    "print(df.threat.value_counts())\n",
    "\n",
    "print('\\nCount of insult:')\n",
    "print(df.insult.value_counts())\n",
    "\n",
    "print('\\nCount of identity hate:')\n",
    "print(df.identity_hate.value_counts())"
   ]
  },
  {
   "cell_type": "code",
   "execution_count": 8,
   "metadata": {
    "colab": {
     "base_uri": "https://localhost:8080/",
     "height": 337
    },
    "id": "0PoeHkp3pYkT",
    "outputId": "4d0eb2ec-2ddf-49a9-bc6c-548f567ba35b"
   },
   "outputs": [
    {
     "data": {
      "text/html": [
       "<div>\n",
       "<style scoped>\n",
       "    .dataframe tbody tr th:only-of-type {\n",
       "        vertical-align: middle;\n",
       "    }\n",
       "\n",
       "    .dataframe tbody tr th {\n",
       "        vertical-align: top;\n",
       "    }\n",
       "\n",
       "    .dataframe thead th {\n",
       "        text-align: right;\n",
       "    }\n",
       "</style>\n",
       "<table border=\"1\" class=\"dataframe\">\n",
       "  <thead>\n",
       "    <tr style=\"text-align: right;\">\n",
       "      <th></th>\n",
       "      <th>id</th>\n",
       "      <th>comment_text</th>\n",
       "      <th>toxic</th>\n",
       "      <th>severe_toxic</th>\n",
       "      <th>obscene</th>\n",
       "      <th>threat</th>\n",
       "      <th>insult</th>\n",
       "      <th>identity_hate</th>\n",
       "      <th>label</th>\n",
       "    </tr>\n",
       "  </thead>\n",
       "  <tbody>\n",
       "    <tr>\n",
       "      <th>0</th>\n",
       "      <td>0000997932d777bf</td>\n",
       "      <td>Explanation\\nWhy the edits made under my usern...</td>\n",
       "      <td>0</td>\n",
       "      <td>0</td>\n",
       "      <td>0</td>\n",
       "      <td>0</td>\n",
       "      <td>0</td>\n",
       "      <td>0</td>\n",
       "      <td>1</td>\n",
       "    </tr>\n",
       "    <tr>\n",
       "      <th>1</th>\n",
       "      <td>000103f0d9cfb60f</td>\n",
       "      <td>D'aww! He matches this background colour I'm s...</td>\n",
       "      <td>0</td>\n",
       "      <td>0</td>\n",
       "      <td>0</td>\n",
       "      <td>0</td>\n",
       "      <td>0</td>\n",
       "      <td>0</td>\n",
       "      <td>1</td>\n",
       "    </tr>\n",
       "    <tr>\n",
       "      <th>2</th>\n",
       "      <td>000113f07ec002fd</td>\n",
       "      <td>Hey man, I'm really not trying to edit war. It...</td>\n",
       "      <td>0</td>\n",
       "      <td>0</td>\n",
       "      <td>0</td>\n",
       "      <td>0</td>\n",
       "      <td>0</td>\n",
       "      <td>0</td>\n",
       "      <td>1</td>\n",
       "    </tr>\n",
       "    <tr>\n",
       "      <th>3</th>\n",
       "      <td>0001b41b1c6bb37e</td>\n",
       "      <td>\"\\nMore\\nI can't make any real suggestions on ...</td>\n",
       "      <td>0</td>\n",
       "      <td>0</td>\n",
       "      <td>0</td>\n",
       "      <td>0</td>\n",
       "      <td>0</td>\n",
       "      <td>0</td>\n",
       "      <td>1</td>\n",
       "    </tr>\n",
       "    <tr>\n",
       "      <th>4</th>\n",
       "      <td>0001d958c54c6e35</td>\n",
       "      <td>You, sir, are my hero. Any chance you remember...</td>\n",
       "      <td>0</td>\n",
       "      <td>0</td>\n",
       "      <td>0</td>\n",
       "      <td>0</td>\n",
       "      <td>0</td>\n",
       "      <td>0</td>\n",
       "      <td>1</td>\n",
       "    </tr>\n",
       "  </tbody>\n",
       "</table>\n",
       "</div>"
      ],
      "text/plain": [
       "                 id                                       comment_text  toxic  \\\n",
       "0  0000997932d777bf  Explanation\\nWhy the edits made under my usern...      0   \n",
       "1  000103f0d9cfb60f  D'aww! He matches this background colour I'm s...      0   \n",
       "2  000113f07ec002fd  Hey man, I'm really not trying to edit war. It...      0   \n",
       "3  0001b41b1c6bb37e  \"\\nMore\\nI can't make any real suggestions on ...      0   \n",
       "4  0001d958c54c6e35  You, sir, are my hero. Any chance you remember...      0   \n",
       "\n",
       "   severe_toxic  obscene  threat  insult  identity_hate  label  \n",
       "0             0        0       0       0              0      1  \n",
       "1             0        0       0       0              0      1  \n",
       "2             0        0       0       0              0      1  \n",
       "3             0        0       0       0              0      1  \n",
       "4             0        0       0       0              0      1  "
      ]
     },
     "execution_count": 8,
     "metadata": {},
     "output_type": "execute_result"
    }
   ],
   "source": [
    "# Create a label column with 0 = toxic, 1 = non-toxic\n",
    "df['label'] = (df.toxic + df.severe_toxic + df.obscene + df.threat + df.insult + df.identity_hate) == 0\n",
    "df['label'] = df['label'].astype(int)\n",
    "df.head()"
   ]
  },
  {
   "cell_type": "code",
   "execution_count": 9,
   "metadata": {
    "colab": {
     "base_uri": "https://localhost:8080/"
    },
    "id": "qcaosgqBBzuK",
    "outputId": "b86c070f-b462-486b-bbd6-ccc612dc85c1"
   },
   "outputs": [
    {
     "name": "stdout",
     "output_type": "stream",
     "text": [
      "\n",
      "Count of non_toxic labels:\n",
      "1    143346\n",
      "0     16225\n",
      "Name: label, dtype: int64\n"
     ]
    }
   ],
   "source": [
    "# Count toxic & non-toxic labels \n",
    "print('\\nCount of non_toxic labels:')\n",
    "print(df.label.value_counts())"
   ]
  },
  {
   "cell_type": "code",
   "execution_count": 12,
   "metadata": {
    "id": "TKuRH0gAgPFc"
   },
   "outputs": [],
   "source": [
    "def modify_text_to_print(df_original, column=\"comment_text\"):\n",
    "  \"\"\"Modify some toxic, offensive texts in the dataframe for printing out\"\"\"\n",
    "  df = df_original.copy()\n",
    "  df[column] = df[column].apply(lambda x: x.lower().replace('fuck', 'f***')\\\n",
    "                              .replace('shit', 's***')\\\n",
    "                              .replace('rape', 'r***')\\\n",
    "                              .replace('penis', 'p***')\\\n",
    "                              .replace('dick', 'd***'))\n",
    "\n",
    "  return df"
   ]
  },
  {
   "cell_type": "code",
   "execution_count": 15,
   "metadata": {
    "colab": {
     "base_uri": "https://localhost:8080/",
     "height": 731
    },
    "id": "YVN5Bk_qC7ap",
    "outputId": "fb7cb40b-9382-41f0-941e-f1f0edd24d21"
   },
   "outputs": [
    {
     "name": "stdout",
     "output_type": "stream",
     "text": [
      "\n",
      "Count of non_toxic labels:\n",
      "1    16225\n",
      "0    16225\n",
      "Name: label, dtype: int64\n"
     ]
    },
    {
     "data": {
      "text/html": [
       "\n",
       "  <div id=\"df-1201454c-bde0-4464-a9ce-53ee5c22e1d7\">\n",
       "    <div class=\"colab-df-container\">\n",
       "      <div>\n",
       "<style scoped>\n",
       "    .dataframe tbody tr th:only-of-type {\n",
       "        vertical-align: middle;\n",
       "    }\n",
       "\n",
       "    .dataframe tbody tr th {\n",
       "        vertical-align: top;\n",
       "    }\n",
       "\n",
       "    .dataframe thead th {\n",
       "        text-align: right;\n",
       "    }\n",
       "</style>\n",
       "<table border=\"1\" class=\"dataframe\">\n",
       "  <thead>\n",
       "    <tr style=\"text-align: right;\">\n",
       "      <th></th>\n",
       "      <th>id</th>\n",
       "      <th>comment_text</th>\n",
       "      <th>toxic</th>\n",
       "      <th>severe_toxic</th>\n",
       "      <th>obscene</th>\n",
       "      <th>threat</th>\n",
       "      <th>insult</th>\n",
       "      <th>identity_hate</th>\n",
       "      <th>label</th>\n",
       "    </tr>\n",
       "  </thead>\n",
       "  <tbody>\n",
       "    <tr>\n",
       "      <th>0</th>\n",
       "      <td>736b2e14e4601fbe</td>\n",
       "      <td>we want to keep the first sentence of the lead...</td>\n",
       "      <td>0</td>\n",
       "      <td>0</td>\n",
       "      <td>0</td>\n",
       "      <td>0</td>\n",
       "      <td>0</td>\n",
       "      <td>0</td>\n",
       "      <td>1</td>\n",
       "    </tr>\n",
       "    <tr>\n",
       "      <th>1</th>\n",
       "      <td>7822ae6443c5e793</td>\n",
       "      <td>who cares.... goethean is a capuchin monkeys a...</td>\n",
       "      <td>1</td>\n",
       "      <td>0</td>\n",
       "      <td>0</td>\n",
       "      <td>0</td>\n",
       "      <td>0</td>\n",
       "      <td>0</td>\n",
       "      <td>0</td>\n",
       "    </tr>\n",
       "    <tr>\n",
       "      <th>2</th>\n",
       "      <td>838a0ed57bc52ee3</td>\n",
       "      <td>yes i would say the book source is enough to a...</td>\n",
       "      <td>0</td>\n",
       "      <td>0</td>\n",
       "      <td>0</td>\n",
       "      <td>0</td>\n",
       "      <td>0</td>\n",
       "      <td>0</td>\n",
       "      <td>1</td>\n",
       "    </tr>\n",
       "    <tr>\n",
       "      <th>3</th>\n",
       "      <td>accede373132c680</td>\n",
       "      <td>thanks for your help.  i guess i will have to ...</td>\n",
       "      <td>0</td>\n",
       "      <td>0</td>\n",
       "      <td>0</td>\n",
       "      <td>0</td>\n",
       "      <td>0</td>\n",
       "      <td>0</td>\n",
       "      <td>1</td>\n",
       "    </tr>\n",
       "    <tr>\n",
       "      <th>4</th>\n",
       "      <td>a40a67134db4ea89</td>\n",
       "      <td>then do the same for the tiger accounts.</td>\n",
       "      <td>0</td>\n",
       "      <td>0</td>\n",
       "      <td>0</td>\n",
       "      <td>0</td>\n",
       "      <td>0</td>\n",
       "      <td>0</td>\n",
       "      <td>1</td>\n",
       "    </tr>\n",
       "    <tr>\n",
       "      <th>...</th>\n",
       "      <td>...</td>\n",
       "      <td>...</td>\n",
       "      <td>...</td>\n",
       "      <td>...</td>\n",
       "      <td>...</td>\n",
       "      <td>...</td>\n",
       "      <td>...</td>\n",
       "      <td>...</td>\n",
       "      <td>...</td>\n",
       "    </tr>\n",
       "    <tr>\n",
       "      <th>32445</th>\n",
       "      <td>c81e3c4002cad452</td>\n",
       "      <td>== f*** you \\ni hope you die motherf***er</td>\n",
       "      <td>1</td>\n",
       "      <td>1</td>\n",
       "      <td>1</td>\n",
       "      <td>1</td>\n",
       "      <td>1</td>\n",
       "      <td>0</td>\n",
       "      <td>0</td>\n",
       "    </tr>\n",
       "    <tr>\n",
       "      <th>32446</th>\n",
       "      <td>47dd1a90bb3ea130</td>\n",
       "      <td>\"\\n\\n september 2009 \\nhello, and welcome to w...</td>\n",
       "      <td>0</td>\n",
       "      <td>0</td>\n",
       "      <td>0</td>\n",
       "      <td>0</td>\n",
       "      <td>0</td>\n",
       "      <td>0</td>\n",
       "      <td>1</td>\n",
       "    </tr>\n",
       "    <tr>\n",
       "      <th>32447</th>\n",
       "      <td>0a760296d10de338</td>\n",
       "      <td>welcome!\\n\\nhello, , and welcome to wikipedia!...</td>\n",
       "      <td>0</td>\n",
       "      <td>0</td>\n",
       "      <td>0</td>\n",
       "      <td>0</td>\n",
       "      <td>0</td>\n",
       "      <td>0</td>\n",
       "      <td>1</td>\n",
       "    </tr>\n",
       "    <tr>\n",
       "      <th>32448</th>\n",
       "      <td>d264b84fa1ecc882</td>\n",
       "      <td>dear ,\\n\\nall three titles\\n utazás faremidóba...</td>\n",
       "      <td>0</td>\n",
       "      <td>0</td>\n",
       "      <td>0</td>\n",
       "      <td>0</td>\n",
       "      <td>0</td>\n",
       "      <td>0</td>\n",
       "      <td>1</td>\n",
       "    </tr>\n",
       "    <tr>\n",
       "      <th>32449</th>\n",
       "      <td>c1e23ce6af66fa0e</td>\n",
       "      <td>a butt ugly fugly muthaf***a like you should d...</td>\n",
       "      <td>1</td>\n",
       "      <td>0</td>\n",
       "      <td>1</td>\n",
       "      <td>1</td>\n",
       "      <td>1</td>\n",
       "      <td>0</td>\n",
       "      <td>0</td>\n",
       "    </tr>\n",
       "  </tbody>\n",
       "</table>\n",
       "<p>32450 rows × 9 columns</p>\n",
       "</div>\n",
       "      <button class=\"colab-df-convert\" onclick=\"convertToInteractive('df-1201454c-bde0-4464-a9ce-53ee5c22e1d7')\"\n",
       "              title=\"Convert this dataframe to an interactive table.\"\n",
       "              style=\"display:none;\">\n",
       "        \n",
       "  <svg xmlns=\"http://www.w3.org/2000/svg\" height=\"24px\"viewBox=\"0 0 24 24\"\n",
       "       width=\"24px\">\n",
       "    <path d=\"M0 0h24v24H0V0z\" fill=\"none\"/>\n",
       "    <path d=\"M18.56 5.44l.94 2.06.94-2.06 2.06-.94-2.06-.94-.94-2.06-.94 2.06-2.06.94zm-11 1L8.5 8.5l.94-2.06 2.06-.94-2.06-.94L8.5 2.5l-.94 2.06-2.06.94zm10 10l.94 2.06.94-2.06 2.06-.94-2.06-.94-.94-2.06-.94 2.06-2.06.94z\"/><path d=\"M17.41 7.96l-1.37-1.37c-.4-.4-.92-.59-1.43-.59-.52 0-1.04.2-1.43.59L10.3 9.45l-7.72 7.72c-.78.78-.78 2.05 0 2.83L4 21.41c.39.39.9.59 1.41.59.51 0 1.02-.2 1.41-.59l7.78-7.78 2.81-2.81c.8-.78.8-2.07 0-2.86zM5.41 20L4 18.59l7.72-7.72 1.47 1.35L5.41 20z\"/>\n",
       "  </svg>\n",
       "      </button>\n",
       "      \n",
       "  <style>\n",
       "    .colab-df-container {\n",
       "      display:flex;\n",
       "      flex-wrap:wrap;\n",
       "      gap: 12px;\n",
       "    }\n",
       "\n",
       "    .colab-df-convert {\n",
       "      background-color: #E8F0FE;\n",
       "      border: none;\n",
       "      border-radius: 50%;\n",
       "      cursor: pointer;\n",
       "      display: none;\n",
       "      fill: #1967D2;\n",
       "      height: 32px;\n",
       "      padding: 0 0 0 0;\n",
       "      width: 32px;\n",
       "    }\n",
       "\n",
       "    .colab-df-convert:hover {\n",
       "      background-color: #E2EBFA;\n",
       "      box-shadow: 0px 1px 2px rgba(60, 64, 67, 0.3), 0px 1px 3px 1px rgba(60, 64, 67, 0.15);\n",
       "      fill: #174EA6;\n",
       "    }\n",
       "\n",
       "    [theme=dark] .colab-df-convert {\n",
       "      background-color: #3B4455;\n",
       "      fill: #D2E3FC;\n",
       "    }\n",
       "\n",
       "    [theme=dark] .colab-df-convert:hover {\n",
       "      background-color: #434B5C;\n",
       "      box-shadow: 0px 1px 3px 1px rgba(0, 0, 0, 0.15);\n",
       "      filter: drop-shadow(0px 1px 2px rgba(0, 0, 0, 0.3));\n",
       "      fill: #FFFFFF;\n",
       "    }\n",
       "  </style>\n",
       "\n",
       "      <script>\n",
       "        const buttonEl =\n",
       "          document.querySelector('#df-1201454c-bde0-4464-a9ce-53ee5c22e1d7 button.colab-df-convert');\n",
       "        buttonEl.style.display =\n",
       "          google.colab.kernel.accessAllowed ? 'block' : 'none';\n",
       "\n",
       "        async function convertToInteractive(key) {\n",
       "          const element = document.querySelector('#df-1201454c-bde0-4464-a9ce-53ee5c22e1d7');\n",
       "          const dataTable =\n",
       "            await google.colab.kernel.invokeFunction('convertToInteractive',\n",
       "                                                     [key], {});\n",
       "          if (!dataTable) return;\n",
       "\n",
       "          const docLinkHtml = 'Like what you see? Visit the ' +\n",
       "            '<a target=\"_blank\" href=https://colab.research.google.com/notebooks/data_table.ipynb>data table notebook</a>'\n",
       "            + ' to learn more about interactive tables.';\n",
       "          element.innerHTML = '';\n",
       "          dataTable['output_type'] = 'display_data';\n",
       "          await google.colab.output.renderOutput(dataTable, element);\n",
       "          const docLink = document.createElement('div');\n",
       "          docLink.innerHTML = docLinkHtml;\n",
       "          element.appendChild(docLink);\n",
       "        }\n",
       "      </script>\n",
       "    </div>\n",
       "  </div>\n",
       "  "
      ],
      "text/plain": [
       "                     id                                       comment_text  \\\n",
       "0      736b2e14e4601fbe  we want to keep the first sentence of the lead...   \n",
       "1      7822ae6443c5e793  who cares.... goethean is a capuchin monkeys a...   \n",
       "2      838a0ed57bc52ee3  yes i would say the book source is enough to a...   \n",
       "3      accede373132c680  thanks for your help.  i guess i will have to ...   \n",
       "4      a40a67134db4ea89           then do the same for the tiger accounts.   \n",
       "...                 ...                                                ...   \n",
       "32445  c81e3c4002cad452          == f*** you \\ni hope you die motherf***er   \n",
       "32446  47dd1a90bb3ea130  \"\\n\\n september 2009 \\nhello, and welcome to w...   \n",
       "32447  0a760296d10de338  welcome!\\n\\nhello, , and welcome to wikipedia!...   \n",
       "32448  d264b84fa1ecc882  dear ,\\n\\nall three titles\\n utazás faremidóba...   \n",
       "32449  c1e23ce6af66fa0e  a butt ugly fugly muthaf***a like you should d...   \n",
       "\n",
       "       toxic  severe_toxic  obscene  threat  insult  identity_hate  label  \n",
       "0          0             0        0       0       0              0      1  \n",
       "1          1             0        0       0       0              0      0  \n",
       "2          0             0        0       0       0              0      1  \n",
       "3          0             0        0       0       0              0      1  \n",
       "4          0             0        0       0       0              0      1  \n",
       "...      ...           ...      ...     ...     ...            ...    ...  \n",
       "32445      1             1        1       1       1              0      0  \n",
       "32446      0             0        0       0       0              0      1  \n",
       "32447      0             0        0       0       0              0      1  \n",
       "32448      0             0        0       0       0              0      1  \n",
       "32449      1             0        1       1       1              0      0  \n",
       "\n",
       "[32450 rows x 9 columns]"
      ]
     },
     "execution_count": 15,
     "metadata": {},
     "output_type": "execute_result"
    }
   ],
   "source": [
    "## Perform under_sampling to create balance the dataset\n",
    "# Change majority class (non-toxic) to minority ~66%\n",
    "# Change minority class (toxic) to majority ~33%\n",
    "# Separate majority and minority classes\n",
    "df_majority = df[df[\"label\"] == 1]\n",
    "df_minority = df[df[\"label\"] == 0]\n",
    "\n",
    "# Undersample majority class\n",
    "df_majority_downsampled = resample(df_majority,\n",
    "                                   replace=False,     # sample without replacement\n",
    "                                   n_samples=round(len(df_minority)),    # change majority to minority clas\n",
    "                                   random_state=42) \n",
    "\n",
    "# Combine minority class and downsampled majority class\n",
    "df_downsampled = pd.concat([df_majority_downsampled, df_minority])\n",
    "\n",
    "# Shuffle the rows\n",
    "df_downsampled = df_downsampled.sample(frac=1, random_state=42).reset_index(drop=True)\n",
    "\n",
    "# Count toxic & non-toxic labels for downsampled dataframe\n",
    "print('\\nCount of non_toxic labels:')\n",
    "print(df_downsampled.label.value_counts())\n",
    "\n",
    "modify_text_to_print(df_downsampled)"
   ]
  },
  {
   "cell_type": "code",
   "execution_count": 14,
   "metadata": {
    "id": "UqTVBGPy0T5_"
   },
   "outputs": [],
   "source": [
    "## Data Clean Up\n",
    "def clean_up_text(x):\n",
    "  \"\"\"Remove line breaks, special characters, punctuations within each post\"\"\"\n",
    "  # Remove special characters and punctuations\n",
    "  SPECIAL_CHARS_PATTERN = re.compile(r\"(\\*)|(\\=\\=)|(\\~)|(\\=)|(\\.\\.\\.)|(\\;)|(\\:)|(\\!)|(\\?)|(\\,)|(\\\")|(\\|)|(\\()|(\\))|(\\[)|(\\])|(\\%)|(\\$)|(\\>)|(\\<)|(\\{)|(\\})\")\n",
    "  x = SPECIAL_CHARS_PATTERN.sub(\"\", x.lower())\n",
    "\n",
    "  # Remove different types of line breaks and white spaces\n",
    "  x = re.sub(r\"\\n|\\r|\\r\\n|<br\\s*/?>\", \" \", x)\n",
    "  \n",
    "  # Remove extra white spaces\n",
    "  x = re.sub(r\"\\s+\", \" \", x.strip())\n",
    "\n",
    "  return x"
   ]
  },
  {
   "cell_type": "code",
   "execution_count": 16,
   "metadata": {
    "colab": {
     "base_uri": "https://localhost:8080/",
     "height": 423
    },
    "id": "C5nSqv-wxpHc",
    "outputId": "98442953-e35b-42de-a4fd-e71067434ac8"
   },
   "outputs": [
    {
     "data": {
      "text/html": [
       "\n",
       "  <div id=\"df-645da913-fdec-42e9-84ca-0bd9155f7d99\">\n",
       "    <div class=\"colab-df-container\">\n",
       "      <div>\n",
       "<style scoped>\n",
       "    .dataframe tbody tr th:only-of-type {\n",
       "        vertical-align: middle;\n",
       "    }\n",
       "\n",
       "    .dataframe tbody tr th {\n",
       "        vertical-align: top;\n",
       "    }\n",
       "\n",
       "    .dataframe thead th {\n",
       "        text-align: right;\n",
       "    }\n",
       "</style>\n",
       "<table border=\"1\" class=\"dataframe\">\n",
       "  <thead>\n",
       "    <tr style=\"text-align: right;\">\n",
       "      <th></th>\n",
       "      <th>cleaned_text</th>\n",
       "      <th>label</th>\n",
       "    </tr>\n",
       "  </thead>\n",
       "  <tbody>\n",
       "    <tr>\n",
       "      <th>0</th>\n",
       "      <td>we want to keep the first sentence of the lead...</td>\n",
       "      <td>1</td>\n",
       "    </tr>\n",
       "    <tr>\n",
       "      <th>1</th>\n",
       "      <td>who cares. goethean is a capuchin monkeys anyway</td>\n",
       "      <td>0</td>\n",
       "    </tr>\n",
       "    <tr>\n",
       "      <th>2</th>\n",
       "      <td>yes i would say the book source is enough to a...</td>\n",
       "      <td>1</td>\n",
       "    </tr>\n",
       "    <tr>\n",
       "      <th>3</th>\n",
       "      <td>thanks for your help. i guess i will have to s...</td>\n",
       "      <td>1</td>\n",
       "    </tr>\n",
       "    <tr>\n",
       "      <th>4</th>\n",
       "      <td>then do the same for the tiger accounts.</td>\n",
       "      <td>1</td>\n",
       "    </tr>\n",
       "    <tr>\n",
       "      <th>...</th>\n",
       "      <td>...</td>\n",
       "      <td>...</td>\n",
       "    </tr>\n",
       "    <tr>\n",
       "      <th>32445</th>\n",
       "      <td>f*** you i hope you die motherf***er</td>\n",
       "      <td>0</td>\n",
       "    </tr>\n",
       "    <tr>\n",
       "      <th>32446</th>\n",
       "      <td>september 2009 hello and welcome to wikipedia ...</td>\n",
       "      <td>1</td>\n",
       "    </tr>\n",
       "    <tr>\n",
       "      <th>32447</th>\n",
       "      <td>welcome hello and welcome to wikipedia thank y...</td>\n",
       "      <td>1</td>\n",
       "    </tr>\n",
       "    <tr>\n",
       "      <th>32448</th>\n",
       "      <td>dear all three titles utazás faremidóba voyage...</td>\n",
       "      <td>1</td>\n",
       "    </tr>\n",
       "    <tr>\n",
       "      <th>32449</th>\n",
       "      <td>a butt ugly fugly muthaf***a like you should d...</td>\n",
       "      <td>0</td>\n",
       "    </tr>\n",
       "  </tbody>\n",
       "</table>\n",
       "<p>32450 rows × 2 columns</p>\n",
       "</div>\n",
       "      <button class=\"colab-df-convert\" onclick=\"convertToInteractive('df-645da913-fdec-42e9-84ca-0bd9155f7d99')\"\n",
       "              title=\"Convert this dataframe to an interactive table.\"\n",
       "              style=\"display:none;\">\n",
       "        \n",
       "  <svg xmlns=\"http://www.w3.org/2000/svg\" height=\"24px\"viewBox=\"0 0 24 24\"\n",
       "       width=\"24px\">\n",
       "    <path d=\"M0 0h24v24H0V0z\" fill=\"none\"/>\n",
       "    <path d=\"M18.56 5.44l.94 2.06.94-2.06 2.06-.94-2.06-.94-.94-2.06-.94 2.06-2.06.94zm-11 1L8.5 8.5l.94-2.06 2.06-.94-2.06-.94L8.5 2.5l-.94 2.06-2.06.94zm10 10l.94 2.06.94-2.06 2.06-.94-2.06-.94-.94-2.06-.94 2.06-2.06.94z\"/><path d=\"M17.41 7.96l-1.37-1.37c-.4-.4-.92-.59-1.43-.59-.52 0-1.04.2-1.43.59L10.3 9.45l-7.72 7.72c-.78.78-.78 2.05 0 2.83L4 21.41c.39.39.9.59 1.41.59.51 0 1.02-.2 1.41-.59l7.78-7.78 2.81-2.81c.8-.78.8-2.07 0-2.86zM5.41 20L4 18.59l7.72-7.72 1.47 1.35L5.41 20z\"/>\n",
       "  </svg>\n",
       "      </button>\n",
       "      \n",
       "  <style>\n",
       "    .colab-df-container {\n",
       "      display:flex;\n",
       "      flex-wrap:wrap;\n",
       "      gap: 12px;\n",
       "    }\n",
       "\n",
       "    .colab-df-convert {\n",
       "      background-color: #E8F0FE;\n",
       "      border: none;\n",
       "      border-radius: 50%;\n",
       "      cursor: pointer;\n",
       "      display: none;\n",
       "      fill: #1967D2;\n",
       "      height: 32px;\n",
       "      padding: 0 0 0 0;\n",
       "      width: 32px;\n",
       "    }\n",
       "\n",
       "    .colab-df-convert:hover {\n",
       "      background-color: #E2EBFA;\n",
       "      box-shadow: 0px 1px 2px rgba(60, 64, 67, 0.3), 0px 1px 3px 1px rgba(60, 64, 67, 0.15);\n",
       "      fill: #174EA6;\n",
       "    }\n",
       "\n",
       "    [theme=dark] .colab-df-convert {\n",
       "      background-color: #3B4455;\n",
       "      fill: #D2E3FC;\n",
       "    }\n",
       "\n",
       "    [theme=dark] .colab-df-convert:hover {\n",
       "      background-color: #434B5C;\n",
       "      box-shadow: 0px 1px 3px 1px rgba(0, 0, 0, 0.15);\n",
       "      filter: drop-shadow(0px 1px 2px rgba(0, 0, 0, 0.3));\n",
       "      fill: #FFFFFF;\n",
       "    }\n",
       "  </style>\n",
       "\n",
       "      <script>\n",
       "        const buttonEl =\n",
       "          document.querySelector('#df-645da913-fdec-42e9-84ca-0bd9155f7d99 button.colab-df-convert');\n",
       "        buttonEl.style.display =\n",
       "          google.colab.kernel.accessAllowed ? 'block' : 'none';\n",
       "\n",
       "        async function convertToInteractive(key) {\n",
       "          const element = document.querySelector('#df-645da913-fdec-42e9-84ca-0bd9155f7d99');\n",
       "          const dataTable =\n",
       "            await google.colab.kernel.invokeFunction('convertToInteractive',\n",
       "                                                     [key], {});\n",
       "          if (!dataTable) return;\n",
       "\n",
       "          const docLinkHtml = 'Like what you see? Visit the ' +\n",
       "            '<a target=\"_blank\" href=https://colab.research.google.com/notebooks/data_table.ipynb>data table notebook</a>'\n",
       "            + ' to learn more about interactive tables.';\n",
       "          element.innerHTML = '';\n",
       "          dataTable['output_type'] = 'display_data';\n",
       "          await google.colab.output.renderOutput(dataTable, element);\n",
       "          const docLink = document.createElement('div');\n",
       "          docLink.innerHTML = docLinkHtml;\n",
       "          element.appendChild(docLink);\n",
       "        }\n",
       "      </script>\n",
       "    </div>\n",
       "  </div>\n",
       "  "
      ],
      "text/plain": [
       "                                            cleaned_text  label\n",
       "0      we want to keep the first sentence of the lead...      1\n",
       "1       who cares. goethean is a capuchin monkeys anyway      0\n",
       "2      yes i would say the book source is enough to a...      1\n",
       "3      thanks for your help. i guess i will have to s...      1\n",
       "4               then do the same for the tiger accounts.      1\n",
       "...                                                  ...    ...\n",
       "32445               f*** you i hope you die motherf***er      0\n",
       "32446  september 2009 hello and welcome to wikipedia ...      1\n",
       "32447  welcome hello and welcome to wikipedia thank y...      1\n",
       "32448  dear all three titles utazás faremidóba voyage...      1\n",
       "32449  a butt ugly fugly muthaf***a like you should d...      0\n",
       "\n",
       "[32450 rows x 2 columns]"
      ]
     },
     "execution_count": 16,
     "metadata": {},
     "output_type": "execute_result"
    }
   ],
   "source": [
    "df_downsampled[\"cleaned_text\"] = df_downsampled.comment_text.apply(clean_up_text)\n",
    "modify_text_to_print(df_downsampled[[\"cleaned_text\", \"label\"]],\"cleaned_text\")"
   ]
  },
  {
   "cell_type": "code",
   "execution_count": null,
   "metadata": {
    "colab": {
     "base_uri": "https://localhost:8080/",
     "height": 412
    },
    "id": "eQvMQaVWIEQd",
    "outputId": "336a9778-d165-4106-ff21-ff89699cc554"
   },
   "outputs": [
    {
     "data": {
      "image/png": "[encoded data removed]",
      "text/plain": [
       "<Figure size 720x432 with 1 Axes>"
      ]
     },
     "metadata": {
      "needs_background": "light"
     },
     "output_type": "display_data"
    }
   ],
   "source": [
    "# Calculate word counts\n",
    "df_downsampled['word_count'] = df_downsampled['cleaned_text'].apply(lambda x: len(x.split(' ')))\n",
    "df_toxic = df_downsampled[df_downsampled.label == 0]\n",
    "df_nontoxic = df_downsampled[df_downsampled.label == 1]\n",
    "\n",
    "### Plot the word-count distribution for the toxic texts and the non toxic texts.\n",
    "fig, ax = plt.subplots(figsize=(10, 6))\n",
    "sns.set_style('white')\n",
    "\n",
    "# calculate the bin size based on the range of the data\n",
    "bins = range(min(df_toxic['word_count'].min(), df_nontoxic['word_count'].min()), \n",
    "             max(df_toxic['word_count'].max(), df_nontoxic['word_count'].max()) + 2, 2)\n",
    "\n",
    "# plot the histograms with the same bin size\n",
    "sns.histplot(data=df_toxic, x='word_count', label='Toxic Texts', bins=bins, color='#4285F4', alpha=0.8)\n",
    "sns.histplot(data=df_nontoxic, x='word_count', label='Non-toxic Texts', bins=bins, color='#FDB515', alpha=0.8)\n",
    "\n",
    "# set the axis labels and title\n",
    "ax.set(xlabel='Text Length', ylabel='Count')\n",
    "ax.set_title('Word Count Distribution', fontsize=18)\n",
    "\n",
    "# set the legend and adjust its position\n",
    "plt.legend(fontsize=14)\n",
    "plt.legend(loc='upper right')\n",
    "\n",
    "# set the ticks fontsize\n",
    "ax.tick_params(axis='both', which='major', labelsize=14)\n"
   ]
  },
  {
   "cell_type": "code",
   "execution_count": null,
   "metadata": {
    "colab": {
     "base_uri": "https://localhost:8080/"
    },
    "id": "yoAvhw0BEgKw",
    "outputId": "3a2d44e1-ec37-4263-8d1f-48b87ac86708"
   },
   "outputs": [
    {
     "name": "stdout",
     "output_type": "stream",
     "text": [
      "Train Data Dimension: (25700,)\n",
      "Train Label Dimension: (25700,)\n",
      "Development Data Dimension: (3505,)\n",
      "Development Label Dimension: (3505,)\n",
      "Test Data Dimension: (3245,)\n",
      "Test Label Dimension: (3245,)\n"
     ]
    }
   ],
   "source": [
    "## Train, Val, Test Split\n",
    "X_full =  df_downsampled[\"cleaned_text\"]\n",
    "y_full = df_downsampled[\"label\"]\n",
    "\n",
    "# Split test set\n",
    "X_train_val, X_test, y_train_val, y_test = train_test_split(X_full, y_full, \n",
    "                                                            test_size=0.1,\n",
    "                                                            random_state=42,\n",
    "                                                            stratify=y_full\n",
    "                                                            )\n",
    "\n",
    "# Split train - dev\n",
    "X_train, X_val, y_train, y_val = train_test_split(X_train_val, y_train_val, \n",
    "                                                            test_size=0.12,\n",
    "                                                            random_state=42,\n",
    "                                                            stratify=y_train_val\n",
    "                                                            )\n",
    "\n",
    "print('Train Data Dimension:', X_train.shape)\n",
    "print('Train Label Dimension:', y_train.shape)\n",
    "print('Development Data Dimension:', X_val.shape)\n",
    "print('Development Label Dimension:', y_val.shape)\n",
    "print('Test Data Dimension:', X_test.shape)\n",
    "print('Test Label Dimension:', y_test.shape)"
   ]
  },
  {
   "cell_type": "markdown",
   "metadata": {
    "id": "oYuPySJjHBTx"
   },
   "source": [
    "## 3. Classification Model with DistilBERT - 1 Hidden Layer & Undersampling"
   ]
  },
  {
   "cell_type": "code",
   "execution_count": null,
   "metadata": {
    "id": "1gV0tVTm02yw"
   },
   "outputs": [],
   "source": [
    "# Clear out cuda before training\n",
    "torch.cuda.empty_cache()"
   ]
  },
  {
   "cell_type": "code",
   "execution_count": null,
   "metadata": {
    "colab": {
     "base_uri": "https://localhost:8080/",
     "height": 338,
     "referenced_widgets": [
      "42774b8b1a9246ff8f10597090f99b23",
      "60f84c32e88c4df694fce99486e1fd65",
      "7ad2c9f7d7f44c07afc90f42dd113cc5",
      "0885628f3d0c452b8424ddb185b27138",
      "b8d05a94930145fc8f6b28cc02ecce71",
      "386458017aea44639a54991311dab4e3",
      "793bf2eabb2d4160b12949a402680d77",
      "53895557500a4b17b05175cf6e80aeb2",
      "2a4f1c1adb28477bb84eabee92338db2",
      "e3186ec8579e4414acc63d42d9ff6148",
      "92ad9f6668904bc2930e053051e8081b",
      "c1a4cbe25b5244dd8a5983717cefcd3d",
      "1d24e1337c48416e829e18bd5f701bb1",
      "1af9f0ed12394573937a4349eb95d486",
      "6a267987ae0b4def826d57f8ec273455",
      "c0d9f511274344fb8081f36d4bdec123",
      "ebe1ecd04f8a4134ad586355b9fc4d8e",
      "2d50cadf4ff541888740d8f85b5bef1b",
      "f2f6741ac2e44c8cae346c50fd105ffc",
      "a893c3328702423a936b7615c9f497ea",
      "1230a4a632db43e8bb803bc96d12de42",
      "96835a52aeff40618b50abd54e7506e9",
      "b04f4ac2264243e4b580daab95afb186",
      "bc1ccdc3a059454699a842dcfa09e6b6",
      "e0ed26c5a3bf4f1aac173deaa3f3e19c",
      "c74dff720af24052b11a80b64067b090",
      "71a7626f0fa9466d82122ac97cee1700",
      "d8843635c6ae400f9429ee0bb5393c63",
      "d79d1711dc554d91b3ca96f3d0f6af4e",
      "e711c2dcefef4097ad8c77d314569f95",
      "ba3db6557b724335802cd3161761e2a9",
      "26ec7a9374db438a87a38d124031e69f",
      "c9fbb051131c4d8c865ef9e6a6388940"
     ]
    },
    "id": "K2kcDH5bHAwE",
    "outputId": "94d9083e-d394-471c-dd10-fd5cad891482"
   },
   "outputs": [
    {
     "data": {
      "application/vnd.jupyter.widget-view+json": {
       "model_id": "42774b8b1a9246ff8f10597090f99b23",
       "version_major": 2,
       "version_minor": 0
      },
      "text/plain": [
       "Downloading (…)solve/main/vocab.txt:   0%|          | 0.00/232k [00:00<?, ?B/s]"
      ]
     },
     "metadata": {},
     "output_type": "display_data"
    },
    {
     "data": {
      "application/vnd.jupyter.widget-view+json": {
       "model_id": "c1a4cbe25b5244dd8a5983717cefcd3d",
       "version_major": 2,
       "version_minor": 0
      },
      "text/plain": [
       "Downloading (…)okenizer_config.json:   0%|          | 0.00/28.0 [00:00<?, ?B/s]"
      ]
     },
     "metadata": {},
     "output_type": "display_data"
    },
    {
     "data": {
      "application/vnd.jupyter.widget-view+json": {
       "model_id": "b04f4ac2264243e4b580daab95afb186",
       "version_major": 2,
       "version_minor": 0
      },
      "text/plain": [
       "Downloading (…)lve/main/config.json:   0%|          | 0.00/483 [00:00<?, ?B/s]"
      ]
     },
     "metadata": {},
     "output_type": "display_data"
    },
    {
     "data": {
      "text/plain": [
       "{'input_ids': tensor([[  101,  2019, 23615,  ...,  2095,  1012,   102],\n",
       "        [  101,  2016,  7716,  ...,  1018,   102,     0],\n",
       "        [  101,  6616,  2378,  ...,     0,     0,     0],\n",
       "        ...,\n",
       "        [  101, 24264, 12458,  ...,  1013,  2027,   102],\n",
       "        [  101,  7592,  1998,  ...,  1012,  3046,   102],\n",
       "        [  101,  2115,  3566,  ...,     0,     0,     0]]), 'attention_mask': tensor([[1, 1, 1,  ..., 1, 1, 1],\n",
       "        [1, 1, 1,  ..., 1, 1, 0],\n",
       "        [1, 1, 1,  ..., 0, 0, 0],\n",
       "        ...,\n",
       "        [1, 1, 1,  ..., 1, 1, 1],\n",
       "        [1, 1, 1,  ..., 1, 1, 1],\n",
       "        [1, 1, 1,  ..., 0, 0, 0]])}"
      ]
     },
     "execution_count": 17,
     "metadata": {},
     "output_type": "execute_result"
    }
   ],
   "source": [
    "# Load the BERT tokenizer\n",
    "bert_tokenizer = DistilBertTokenizer.from_pretrained('distilbert-base-uncased')\n",
    "\n",
    "# From the word count distribution, most posts from the pair-wise detoxify dataset are within 32 words.\n",
    "max_length = 64\n",
    "\n",
    "train_encodings = bert_tokenizer(\n",
    "    list(X_train.values), \n",
    "    max_length=max_length,\n",
    "    truncation=True,\n",
    "    pad_to_max_length=True, \n",
    "    return_tensors='pt'\n",
    ")\n",
    "\n",
    "valid_encodings = bert_tokenizer(\n",
    "    list(X_val.values), \n",
    "    max_length=max_length,\n",
    "    truncation=True,\n",
    "    pad_to_max_length=True, \n",
    "    return_tensors='pt'\n",
    ")\n",
    "\n",
    "test_encodings = bert_tokenizer(\n",
    "    list(X_test.values), \n",
    "    max_length=max_length,\n",
    "    truncation=True,\n",
    "    pad_to_max_length=True, \n",
    "    return_tensors='pt'\n",
    ")\n",
    "\n",
    "train_encodings"
   ]
  },
  {
   "cell_type": "code",
   "execution_count": null,
   "metadata": {
    "id": "0Eeh4q5ykpYS"
   },
   "outputs": [],
   "source": [
    "## HYPER-PARAMETERS BLOCKS\n",
    "BATCH_SIZE = 16\n",
    "LR =2e-5\n",
    "WEIGHT_DECAY = 2e-4\n",
    "EPOCHS = 4\n",
    "HIDDEN_SIZE = 768\n",
    "DROP_OUT = 0.1\n",
    "WORKERS = int(os.cpu_count())"
   ]
  },
  {
   "cell_type": "code",
   "execution_count": null,
   "metadata": {
    "id": "VPwW7FurEkrX"
   },
   "outputs": [],
   "source": [
    "## Data Loader\n",
    "train_ids = train_encodings.input_ids\n",
    "train_mask = train_encodings.attention_mask\n",
    "train_labels = torch.tensor(y_train.values) \n",
    "\n",
    "val_ids = valid_encodings.input_ids\n",
    "val_mask = valid_encodings.attention_mask\n",
    "val_labels = torch.tensor(y_val.values)\n",
    "\n",
    "test_ids = test_encodings.input_ids\n",
    "test_mask = test_encodings.attention_mask\n",
    "test_labels = torch.tensor(y_test.values)\n",
    "\n",
    "train_dataset = TensorDataset(train_ids, train_mask, train_labels)\n",
    "train_loader = DataLoader(train_dataset, batch_size=BATCH_SIZE, shuffle=True, num_workers=WORKERS)\n",
    "\n",
    "val_dataset = TensorDataset(val_ids, val_mask, val_labels)\n",
    "val_loader = DataLoader(val_dataset, batch_size=BATCH_SIZE, shuffle=True, num_workers=WORKERS)\n",
    "\n",
    "test_dataset = TensorDataset(test_ids, test_mask, test_labels)\n",
    "test_loader = DataLoader(val_dataset, batch_size=BATCH_SIZE, shuffle=True, num_workers=WORKERS)\n"
   ]
  },
  {
   "cell_type": "code",
   "execution_count": null,
   "metadata": {
    "id": "P7BV5ME4eImU"
   },
   "outputs": [],
   "source": [
    "# BERT Model\n",
    "class BertClassification(nn.Module):\n",
    "    def __init__(self,output_dim=1, hidden_size=768, dropout=0.1):\n",
    "        super(BertClassification, self).__init__()\n",
    "        self.bert_model = DistilBertModel.from_pretrained('distilbert-base-uncased')\n",
    "\n",
    "        self.bert_hidden_size = self.bert_model.config.hidden_size\n",
    "        self.hidden_size = hidden_size\n",
    "        self.hidden_layer = nn.Linear(self.bert_hidden_size, self.hidden_size)\n",
    "\n",
    "        self.drop_out = nn.Dropout(dropout)\n",
    "\n",
    "        self.classification = nn.Linear(self.hidden_size, output_dim)\n",
    "\n",
    "        self.ReLU = nn.ReLU()\n",
    "        self.Sigmoid = nn.Sigmoid()\n",
    "        \n",
    "    def forward(self, input_ids, attention_mask):\n",
    "        bert_output = self.bert_model(input_ids=input_ids, \n",
    "                                      attention_mask=attention_mask)\n",
    "        \n",
    "        # hidden_state = bert_output[0]\n",
    "        cls_token = bert_output[0][:,0]\n",
    "\n",
    "        hidden_ouput = self.ReLU(self.hidden_layer(cls_token))\n",
    "        \n",
    "        hidden_ouput = self.drop_out(hidden_ouput)\n",
    "        output = self.Sigmoid(self.classification(hidden_ouput))\n",
    "        output = output.flatten()\n",
    "\n",
    "        return output"
   ]
  },
  {
   "cell_type": "code",
   "execution_count": null,
   "metadata": {
    "colab": {
     "base_uri": "https://localhost:8080/"
    },
    "id": "8r5IOZFn3VQz",
    "outputId": "4f039de3-f84e-4855-a89c-9b1f370567a9"
   },
   "outputs": [
    {
     "name": "stderr",
     "output_type": "stream",
     "text": [
      "Some weights of the model checkpoint at distilbert-base-uncased were not used when initializing DistilBertModel: ['vocab_projector.weight', 'vocab_layer_norm.weight', 'vocab_transform.weight', 'vocab_layer_norm.bias', 'vocab_projector.bias', 'vocab_transform.bias']\n",
      "- This IS expected if you are initializing DistilBertModel from the checkpoint of a model trained on another task or with another architecture (e.g. initializing a BertForSequenceClassification model from a BertForPreTraining model).\n",
      "- This IS NOT expected if you are initializing DistilBertModel from the checkpoint of a model that you expect to be exactly identical (initializing a BertForSequenceClassification model from a BertForSequenceClassification model).\n"
     ]
    }
   ],
   "source": [
    "# Initialize model\n",
    "model = BertClassification(hidden_size=HIDDEN_SIZE, dropout=DROP_OUT)\n",
    "model = model.to(device)"
   ]
  },
  {
   "cell_type": "code",
   "execution_count": null,
   "metadata": {
    "id": "QI9U4m8l6qc3"
   },
   "outputs": [],
   "source": [
    "# Initiate loss to Binary Cross Entropy\n",
    "criterion = nn.BCELoss()\n",
    "\n",
    "# Optimizer\n",
    "optimizer = optim.Adam(model.parameters(), lr=LR, weight_decay=WEIGHT_DECAY)\n",
    "\n",
    "# Create learning rate scheduler.\n",
    "T_max = EPOCHS*len(train_loader)\n",
    "scheduler = optim.lr_scheduler.CosineAnnealingLR(optimizer, T_max=T_max)"
   ]
  },
  {
   "cell_type": "code",
   "execution_count": 47,
   "metadata": {
    "id": "uP-KXlIKlnKH"
   },
   "outputs": [],
   "source": [
    "def format_time(seconds):\n",
    "    return str(datetime.timedelta(seconds=int(round(seconds))))"
   ]
  },
  {
   "cell_type": "code",
   "execution_count": 48,
   "metadata": {
    "id": "Ep92k9ioEZYM"
   },
   "outputs": [],
   "source": [
    "## Define train function\n",
    "def train(train_loader, model, criterion, optimizer, verbose=True):  \n",
    "    # reset total loss for each epoch\n",
    "    total_loss = 0\n",
    "\n",
    "    # switch model to train mode\n",
    "    model.train()\n",
    "\n",
    "    # start time\n",
    "    t0 = time.time()\n",
    "\n",
    "    for step, data in enumerate(train_loader): \n",
    "        # send the data to cuda device\n",
    "        ids = data[0].to(device, dtype = torch.long)\n",
    "        mask = data[1].to(device, dtype = torch.long)\n",
    "        target = data[2].float().to(device)\n",
    "    \n",
    "        # compute output\n",
    "        output = model(input_ids=ids, \n",
    "                      attention_mask=mask)\n",
    "\n",
    "        # compute loss \n",
    "        loss = criterion(output, target)\n",
    "\n",
    "        # Accumulate the training loss over all of the batches \n",
    "        total_loss += loss.item()\n",
    "\n",
    "        # zero out gradients in the optimizer each step\n",
    "        optimizer.zero_grad()\n",
    "\n",
    "        # Report progress every 100 batches\n",
    "        if step % 100 == 0 and not step == 0 and verbose==True:\n",
    "            print('Batch {:>5,}  of  {:>5,}.  Loss {:0.4f}  Elapsed: {:}.'.format(\n",
    "                 step, \n",
    "                 len(train_loader),\n",
    "                 loss.item(),\n",
    "                 format_time(time.time() - t0))) \n",
    "        \n",
    "        # compute gradient and do SGD\n",
    "        # backprop!\n",
    "        loss.backward()\n",
    "        \n",
    "        # update the weights!\n",
    "        optimizer.step()\n",
    "\n",
    "        # update learning rate\n",
    "        scheduler.step()\n",
    "\n",
    "    avg_train_loss = total_loss / len(train_loader) \n",
    "    elapsed_time = time.time() - t0\n",
    "    if verbose:\n",
    "      print (\"\\nAvg Training Loss {:0.4f}, Completed in {:} \\n\".format(\n",
    "          avg_train_loss,\n",
    "          format_time(elapsed_time)\n",
    "            ))\n",
    "    \n",
    "    # return model, avg_train_loss, elapsed_time\n",
    "    return avg_train_loss, elapsed_time"
   ]
  },
  {
   "cell_type": "code",
   "execution_count": 49,
   "metadata": {
    "id": "Hshh9NSl2EKR"
   },
   "outputs": [],
   "source": [
    "## Define validate function\n",
    "def validate(val_loader, model, criterion, verbose=True):\n",
    "    # Initialize\n",
    "    targets=[]\n",
    "    outputs=[]\n",
    "    t0 = time.time()\n",
    "    total_val_loss = 0\n",
    "\n",
    "    # switch to evaluate mode\n",
    "    model.eval()\n",
    "\n",
    "    with torch.no_grad():\n",
    "        for step, data in enumerate(val_loader):\n",
    "            \n",
    "            # send the data to cuda device\n",
    "            ids = data[0].to(device, dtype = torch.long)\n",
    "            mask = data[1].to(device, dtype = torch.long)\n",
    "            target = data[2].float().to(device)\n",
    "\n",
    "            # compute output\n",
    "            output = model(input_ids=ids,\n",
    "                           attention_mask=mask)\n",
    "\n",
    "            # compute loss\n",
    "            loss = criterion(output, target)\n",
    "\n",
    "            # Accumulate the validation loss over all of the batches to calculate average loss\n",
    "            total_val_loss += loss.item()\n",
    "\n",
    "            targets.extend(target.cpu().detach().numpy().tolist())\n",
    "            outputs.extend(output.cpu().detach().numpy().tolist())\n",
    "\n",
    "            if step % 100 == 0 and not step == 0 and verbose==True:\n",
    "                print('Batch {:>5,}  of  {:>5,}.  Loss {:0.4f}  Elapsed: {:}.'.format(\n",
    "                    step, \n",
    "                    len(val_loader),\n",
    "                    loss.item(),\n",
    "                    format_time(time.time() - t0)))        \n",
    "\n",
    "    avg_val_loss = total_val_loss / len(val_loader)\n",
    "    elapsed_time = time.time() - t0\n",
    "    if verbose:\n",
    "      print (\"\\nAvg Validation Loss {:0.4f}, Completed in {:}\".format(\n",
    "          avg_val_loss,\n",
    "          format_time(elapsed_time)\n",
    "            ))\n",
    "    \n",
    "    return outputs, targets, avg_val_loss, elapsed_time\n"
   ]
  },
  {
   "cell_type": "code",
   "execution_count": 50,
   "metadata": {
    "id": "B4DQ7J1lJsQq"
   },
   "outputs": [],
   "source": [
    "# calculate the F1 score, auc, accuracy of our predictions vs labels\n",
    "from sklearn.metrics import f1_score, roc_auc_score, accuracy_score\n",
    "\n",
    "def compute_metrics(outputs, targets):\n",
    "    y_pred = (np.array(outputs) >= 0.5).astype(float)\n",
    "    y_true = np.array(targets)\n",
    "\n",
    "    # metrics\n",
    "    f1 = f1_score(y_true= y_true, y_pred=y_pred)\n",
    "    roc_auc = roc_auc_score(y_true, y_pred)\n",
    "    accuracy = accuracy_score(y_true, y_pred)\n",
    "    # accuracy = np.sum(y_pred == y_true) / len(y_true)\n",
    "\n",
    "    print (\"F1 Score {:0.4f}, ROC AUC {:0.4f}, Accuracy {:0.4f} \\n\".format(f1, roc_auc, accuracy))\n",
    "    \n",
    "    return f1, roc_auc, accuracy"
   ]
  },
  {
   "cell_type": "code",
   "execution_count": null,
   "metadata": {
    "colab": {
     "base_uri": "https://localhost:8080/"
    },
    "id": "0m6lkVKuZJif",
    "outputId": "5f544105-4f47-4d22-a74d-56ab02ff1cc2"
   },
   "outputs": [
    {
     "name": "stdout",
     "output_type": "stream",
     "text": [
      "######  Epoch 1/4 ######\n",
      "-----  Training -----\n",
      "Batch   100  of  1,607.  Loss 0.2415  Elapsed: 0:00:11.\n",
      "Batch   200  of  1,607.  Loss 0.1343  Elapsed: 0:00:21.\n",
      "Batch   300  of  1,607.  Loss 0.0687  Elapsed: 0:00:31.\n",
      "Batch   400  of  1,607.  Loss 0.1819  Elapsed: 0:00:41.\n",
      "Batch   500  of  1,607.  Loss 0.0646  Elapsed: 0:00:51.\n",
      "Batch   600  of  1,607.  Loss 0.1945  Elapsed: 0:01:02.\n",
      "Batch   700  of  1,607.  Loss 0.2496  Elapsed: 0:01:12.\n",
      "Batch   800  of  1,607.  Loss 0.3159  Elapsed: 0:01:22.\n",
      "Batch   900  of  1,607.  Loss 0.0408  Elapsed: 0:01:32.\n",
      "Batch 1,000  of  1,607.  Loss 0.1136  Elapsed: 0:01:43.\n",
      "Batch 1,100  of  1,607.  Loss 0.4201  Elapsed: 0:01:53.\n",
      "Batch 1,200  of  1,607.  Loss 0.0943  Elapsed: 0:02:03.\n",
      "Batch 1,300  of  1,607.  Loss 0.1677  Elapsed: 0:02:15.\n",
      "Batch 1,400  of  1,607.  Loss 0.2138  Elapsed: 0:02:26.\n",
      "Batch 1,500  of  1,607.  Loss 0.1142  Elapsed: 0:02:36.\n",
      "Batch 1,600  of  1,607.  Loss 0.3076  Elapsed: 0:02:46.\n",
      "\n",
      "Avg Training Loss 0.2205, Completed in 0:02:47 \n",
      "\n",
      "-----  Validation -----\n",
      "Batch   100  of    220.  Loss 0.4503  Elapsed: 0:00:03.\n",
      "Batch   200  of    220.  Loss 0.2270  Elapsed: 0:00:06.\n",
      "\n",
      "Avg Validation Loss 0.1897, Completed in 0:00:07\n",
      "F1 Score 0.9329, ROC AUC 0.9332, Accuracy 0.9332 \n",
      "\n",
      "######  Epoch 2/4 ######\n",
      "-----  Training -----\n",
      "Batch   100  of  1,607.  Loss 0.0608  Elapsed: 0:00:11.\n",
      "Batch   200  of  1,607.  Loss 0.0789  Elapsed: 0:00:22.\n",
      "Batch   300  of  1,607.  Loss 0.1734  Elapsed: 0:00:32.\n",
      "Batch   400  of  1,607.  Loss 0.0141  Elapsed: 0:00:42.\n",
      "Batch   500  of  1,607.  Loss 0.3183  Elapsed: 0:00:52.\n",
      "Batch   600  of  1,607.  Loss 0.1485  Elapsed: 0:01:02.\n",
      "Batch   700  of  1,607.  Loss 0.1113  Elapsed: 0:01:13.\n",
      "Batch   800  of  1,607.  Loss 0.2044  Elapsed: 0:01:23.\n",
      "Batch   900  of  1,607.  Loss 0.0427  Elapsed: 0:01:33.\n",
      "Batch 1,000  of  1,607.  Loss 0.1025  Elapsed: 0:01:43.\n",
      "Batch 1,100  of  1,607.  Loss 0.2109  Elapsed: 0:01:53.\n",
      "Batch 1,200  of  1,607.  Loss 0.5319  Elapsed: 0:02:04.\n",
      "Batch 1,300  of  1,607.  Loss 0.0399  Elapsed: 0:02:14.\n",
      "Batch 1,400  of  1,607.  Loss 0.4998  Elapsed: 0:02:24.\n",
      "Batch 1,500  of  1,607.  Loss 0.2647  Elapsed: 0:02:35.\n",
      "Batch 1,600  of  1,607.  Loss 0.2055  Elapsed: 0:02:45.\n",
      "\n",
      "Avg Training Loss 0.1298, Completed in 0:02:45 \n",
      "\n",
      "-----  Validation -----\n",
      "Batch   100  of    220.  Loss 0.0603  Elapsed: 0:00:03.\n",
      "Batch   200  of    220.  Loss 0.0782  Elapsed: 0:00:06.\n",
      "\n",
      "Avg Validation Loss 0.1980, Completed in 0:00:06\n",
      "F1 Score 0.9290, ROC AUC 0.9272, Accuracy 0.9272 \n",
      "\n",
      "######  Epoch 3/4 ######\n",
      "-----  Training -----\n",
      "Batch   100  of  1,607.  Loss 0.1929  Elapsed: 0:00:10.\n",
      "Batch   200  of  1,607.  Loss 0.0023  Elapsed: 0:00:21.\n",
      "Batch   300  of  1,607.  Loss 0.0030  Elapsed: 0:00:31.\n",
      "Batch   400  of  1,607.  Loss 0.4070  Elapsed: 0:00:41.\n",
      "Batch   500  of  1,607.  Loss 0.0172  Elapsed: 0:00:51.\n",
      "Batch   600  of  1,607.  Loss 0.0509  Elapsed: 0:01:01.\n",
      "Batch   700  of  1,607.  Loss 0.0982  Elapsed: 0:01:12.\n",
      "Batch   800  of  1,607.  Loss 0.0244  Elapsed: 0:01:22.\n",
      "Batch   900  of  1,607.  Loss 0.0062  Elapsed: 0:01:32.\n",
      "Batch 1,000  of  1,607.  Loss 0.2047  Elapsed: 0:01:42.\n",
      "Batch 1,100  of  1,607.  Loss 0.0054  Elapsed: 0:01:52.\n",
      "Batch 1,200  of  1,607.  Loss 0.0076  Elapsed: 0:02:03.\n",
      "Batch 1,300  of  1,607.  Loss 0.3579  Elapsed: 0:02:13.\n",
      "Batch 1,400  of  1,607.  Loss 0.0665  Elapsed: 0:02:23.\n",
      "Batch 1,500  of  1,607.  Loss 0.3532  Elapsed: 0:02:33.\n",
      "Batch 1,600  of  1,607.  Loss 0.1212  Elapsed: 0:02:43.\n",
      "\n",
      "Avg Training Loss 0.0644, Completed in 0:02:44 \n",
      "\n",
      "-----  Validation -----\n",
      "Batch   100  of    220.  Loss 0.1810  Elapsed: 0:00:03.\n",
      "Batch   200  of    220.  Loss 0.1080  Elapsed: 0:00:06.\n",
      "\n",
      "Avg Validation Loss 0.2435, Completed in 0:00:07\n",
      "F1 Score 0.9250, ROC AUC 0.9244, Accuracy 0.9244 \n",
      "\n",
      "######  Epoch 4/4 ######\n",
      "-----  Training -----\n",
      "Batch   100  of  1,607.  Loss 0.0047  Elapsed: 0:00:10.\n",
      "Batch   200  of  1,607.  Loss 0.0081  Elapsed: 0:00:21.\n",
      "Batch   300  of  1,607.  Loss 0.0058  Elapsed: 0:00:31.\n",
      "Batch   400  of  1,607.  Loss 0.0052  Elapsed: 0:00:41.\n",
      "Batch   500  of  1,607.  Loss 0.0070  Elapsed: 0:00:51.\n",
      "Batch   600  of  1,607.  Loss 0.0029  Elapsed: 0:01:01.\n",
      "Batch   700  of  1,607.  Loss 0.0027  Elapsed: 0:01:12.\n",
      "Batch   800  of  1,607.  Loss 0.0138  Elapsed: 0:01:22.\n",
      "Batch   900  of  1,607.  Loss 0.0040  Elapsed: 0:01:32.\n",
      "Batch 1,000  of  1,607.  Loss 0.0020  Elapsed: 0:01:42.\n",
      "Batch 1,100  of  1,607.  Loss 0.0077  Elapsed: 0:01:52.\n",
      "Batch 1,200  of  1,607.  Loss 0.0127  Elapsed: 0:02:03.\n",
      "Batch 1,300  of  1,607.  Loss 0.4061  Elapsed: 0:02:13.\n",
      "Batch 1,400  of  1,607.  Loss 0.0098  Elapsed: 0:02:23.\n",
      "Batch 1,500  of  1,607.  Loss 0.0031  Elapsed: 0:02:33.\n",
      "Batch 1,600  of  1,607.  Loss 0.0028  Elapsed: 0:02:43.\n",
      "\n",
      "Avg Training Loss 0.0328, Completed in 0:02:44 \n",
      "\n",
      "-----  Validation -----\n",
      "Batch   100  of    220.  Loss 0.0181  Elapsed: 0:00:03.\n",
      "Batch   200  of    220.  Loss 0.0069  Elapsed: 0:00:06.\n",
      "\n",
      "Avg Validation Loss 0.2729, Completed in 0:00:07\n",
      "F1 Score 0.9258, ROC AUC 0.9258, Accuracy 0.9258 \n",
      "\n"
     ]
    }
   ],
   "source": [
    "# Store the average loss after each epoch so we can plot them.\n",
    "train_loss_values = []\n",
    "val_loss_values = []\n",
    "\n",
    "for epoch in range(EPOCHS):\n",
    "    print ('######  Epoch {}/{} ######'.format(epoch+1, EPOCHS))\n",
    "    print ('-----  Training -----')\n",
    "    train_loss, train_time = train(train_loader, model, criterion, optimizer)\n",
    "    train_loss_values.append(train_loss)\n",
    "\n",
    "    print ('-----  Validation -----')\n",
    "    val_outputs, val_targets, val_loss, val_time = validate(val_loader, model, criterion)\n",
    "    val_loss_values.append(val_loss)\n",
    "    val_f1, val_roc_auc, val_accuracy = compute_metrics(val_outputs, val_targets)\n"
   ]
  },
  {
   "cell_type": "code",
   "execution_count": null,
   "metadata": {
    "colab": {
     "base_uri": "https://localhost:8080/",
     "height": 412
    },
    "id": "y1mtMsZXH4nt",
    "outputId": "d31513fa-bbc0-4725-d7d6-0cb980df64ef"
   },
   "outputs": [
    {
     "data": {
      "image/png": "[encoded data removed]",
      "text/plain": [
       "<Figure size 720x432 with 1 Axes>"
      ]
     },
     "metadata": {},
     "output_type": "display_data"
    }
   ],
   "source": [
    "### Plot Training & Validation Loss\n",
    "data = {'Epoch': range(1, 5), 'Training Loss': train_loss_values, 'Validation Loss': val_loss_values}\n",
    "df = pd.DataFrame(data)\n",
    "\n",
    "fig, ax = plt.subplots(figsize=(10, 6))\n",
    "sns.set_style('whitegrid')\n",
    "sns.set(font_scale=1.5)\n",
    "\n",
    "# Plot train & val loss\n",
    "sns.lineplot(data=df, x=\"Epoch\", y=\"Training Loss\", label=\"Training Loss\", marker='o')\n",
    "sns.lineplot(data=df, x=\"Epoch\", y=\"Validation Loss\", label=\"Validation Loss\", marker='o')\n",
    "\n",
    "# set the axis labels and title\n",
    "ax.set(xlabel='Epoch', ylabel='Loss')\n",
    "ax.set_title('Training and Validation Loss', fontsize=18)\n",
    "\n",
    "# set the legend and adjust its position\n",
    "plt.legend(fontsize=14)\n",
    "\n",
    "# set the ticks fontsize\n",
    "ax.tick_params(axis='both', which='major', labelsize=14)\n",
    "# ax.grid(True, which='both', linestyle='--', color='lightgray')"
   ]
  },
  {
   "cell_type": "code",
   "execution_count": null,
   "metadata": {
    "colab": {
     "base_uri": "https://localhost:8080/"
    },
    "id": "xOgfYitj4VFl",
    "outputId": "f4aee992-9e14-4970-acaa-788a37fb8fb6"
   },
   "outputs": [
    {
     "name": "stdout",
     "output_type": "stream",
     "text": [
      "\n",
      "Evaluation metrics for Test Set:\n",
      "F1 Score 0.9258, ROC AUC 0.9258, Accuracy 0.9258 \n",
      "\n"
     ]
    }
   ],
   "source": [
    "# Predicting with Test Set\n",
    "test_outputs, test_targets, test_loss, test_time = validate(test_loader, model, criterion, verbose=False)\n",
    "print('\\nEvaluation metrics for Test Set:')\n",
    "test_f1, test_roc_auc, test_accuracy = compute_metrics(test_outputs, test_targets)"
   ]
  },
  {
   "cell_type": "code",
   "execution_count": null,
   "metadata": {
    "id": "kLRAUKPG2VRV"
   },
   "outputs": [],
   "source": [
    "torch.save(model.state_dict(), 'models/DistilBertToxicClassification4.pth')"
   ]
  },
  {
   "cell_type": "markdown",
   "metadata": {
    "id": "RBTEiwmzGrDL"
   },
   "source": [
    "## 4. Classification Model with DistilBERT - 2 Hidden Layers & Undersampling"
   ]
  },
  {
   "cell_type": "code",
   "execution_count": 46,
   "metadata": {
    "id": "SRiNWIZbHogt"
   },
   "outputs": [],
   "source": [
    "# BERT Model\n",
    "class UnfreezeBertClassification(nn.Module):\n",
    "    def __init__(self,output_dim=1, hidden_size=256, hidden_size2=32, dropout=0.1, unfreeze=False):\n",
    "        super(UnfreezeBertClassification, self).__init__()\n",
    "        self.bert_model = DistilBertModel.from_pretrained('distilbert-base-uncased')\n",
    "\n",
    "        # Unfreeze the last DistilBERT transformer layer\n",
    "        if unfreeze:\n",
    "            for name, param in self.bert_model.named_parameters():\n",
    "                if 'transformer.layer.5.' in name:\n",
    "                    param.requires_grad = True\n",
    "                else:\n",
    "                    param.requires_grad = False\n",
    "\n",
    "        self.bert_hidden_size = self.bert_model.config.hidden_size\n",
    "        self.hidden_size = hidden_size\n",
    "        self.hidden_size2 = hidden_size2\n",
    "        self.hidden_layer = nn.Linear(self.bert_hidden_size, self.hidden_size)\n",
    "        self.hidden_layer2 = nn.Linear(self.hidden_size, self.hidden_size2)\n",
    "\n",
    "        self.drop_out = nn.Dropout(dropout)\n",
    "\n",
    "        self.classification = nn.Linear(self.hidden_size2, output_dim)\n",
    "\n",
    "        self.GeLU = nn.GELU()\n",
    "        self.Sigmoid = nn.Sigmoid()\n",
    "        \n",
    "    def forward(self, input_ids, attention_mask):\n",
    "        bert_output = self.bert_model(input_ids=input_ids, \n",
    "                                      attention_mask=attention_mask)\n",
    "        \n",
    "        # hidden_state = bert_output[0]\n",
    "        cls_token = bert_output[0][:,0]\n",
    "\n",
    "        hidden_ouput = self.GeLU(self.hidden_layer(cls_token))\n",
    "        hidden_ouput = self.drop_out(hidden_ouput)\n",
    "        hidden_ouput = self.GeLU(self.hidden_layer2(hidden_ouput))\n",
    "        hidden_ouput = self.drop_out(hidden_ouput)\n",
    "\n",
    "        output = self.Sigmoid(self.classification(hidden_ouput))\n",
    "        output = output.flatten()\n",
    "\n",
    "        return output"
   ]
  },
  {
   "cell_type": "code",
   "execution_count": null,
   "metadata": {
    "id": "sedbo3e6Qfbe"
   },
   "outputs": [],
   "source": [
    "HIDDEN_SIZE = 256\n",
    "HIDDEN_SIZE2 = 32\n",
    "DROP_OUT = 0.1\n",
    "EPOCHS = 2"
   ]
  },
  {
   "cell_type": "code",
   "execution_count": null,
   "metadata": {
    "colab": {
     "base_uri": "https://localhost:8080/"
    },
    "id": "ddOXapy1IMfM",
    "outputId": "1cb92678-926b-4780-b15e-2a970fdee210"
   },
   "outputs": [
    {
     "name": "stderr",
     "output_type": "stream",
     "text": [
      "Some weights of the model checkpoint at distilbert-base-uncased were not used when initializing DistilBertModel: ['vocab_transform.weight', 'vocab_layer_norm.weight', 'vocab_projector.bias', 'vocab_transform.bias', 'vocab_projector.weight', 'vocab_layer_norm.bias']\n",
      "- This IS expected if you are initializing DistilBertModel from the checkpoint of a model trained on another task or with another architecture (e.g. initializing a BertForSequenceClassification model from a BertForPreTraining model).\n",
      "- This IS NOT expected if you are initializing DistilBertModel from the checkpoint of a model that you expect to be exactly identical (initializing a BertForSequenceClassification model from a BertForSequenceClassification model).\n"
     ]
    }
   ],
   "source": [
    "# Initialize model\n",
    "unfreeze_model = UnfreezeBertClassification(hidden_size=HIDDEN_SIZE, hidden_size2=HIDDEN_SIZE2, dropout=DROP_OUT)\n",
    "unfreeze_model = unfreeze_model.to(device)"
   ]
  },
  {
   "cell_type": "code",
   "execution_count": null,
   "metadata": {
    "colab": {
     "base_uri": "https://localhost:8080/"
    },
    "id": "fDIMBHi9VxMk",
    "outputId": "7c00790f-7a1e-4f2c-81ee-24d0db0a2e4a"
   },
   "outputs": [
    {
     "name": "stdout",
     "output_type": "stream",
     "text": [
      "This DistilBERT model has 106 named parameters.\n",
      "\n",
      "==== Embedding Layer ====\n",
      "\n",
      "bert_model.embeddings.word_embeddings.weight            (30522, 768)\n",
      "bert_model.embeddings.position_embeddings.weight          (512, 768)\n",
      "bert_model.embeddings.LayerNorm.weight                        (768,)\n",
      "bert_model.embeddings.LayerNorm.bias                          (768,)\n",
      "\n",
      "==== First Transformer ====\n",
      "\n",
      "bert_model.transformer.layer.0.attention.q_lin.weight     (768, 768)\n",
      "bert_model.transformer.layer.0.attention.q_lin.bias           (768,)\n",
      "bert_model.transformer.layer.0.attention.k_lin.weight     (768, 768)\n",
      "bert_model.transformer.layer.0.attention.k_lin.bias           (768,)\n",
      "bert_model.transformer.layer.0.attention.v_lin.weight     (768, 768)\n",
      "bert_model.transformer.layer.0.attention.v_lin.bias           (768,)\n",
      "bert_model.transformer.layer.0.attention.out_lin.weight   (768, 768)\n",
      "bert_model.transformer.layer.0.attention.out_lin.bias         (768,)\n",
      "bert_model.transformer.layer.0.sa_layer_norm.weight           (768,)\n",
      "bert_model.transformer.layer.0.sa_layer_norm.bias             (768,)\n",
      "bert_model.transformer.layer.0.ffn.lin1.weight           (3072, 768)\n",
      "bert_model.transformer.layer.0.ffn.lin1.bias                 (3072,)\n",
      "bert_model.transformer.layer.0.ffn.lin2.weight           (768, 3072)\n",
      "bert_model.transformer.layer.0.ffn.lin2.bias                  (768,)\n",
      "bert_model.transformer.layer.0.output_layer_norm.weight       (768,)\n",
      "bert_model.transformer.layer.0.output_layer_norm.bias         (768,)\n",
      "\n",
      "==== Last 15 Layer ====\n",
      "\n",
      "bert_model.transformer.layer.5.attention.out_lin.bias         (768,)\n",
      "bert_model.transformer.layer.5.sa_layer_norm.weight           (768,)\n",
      "bert_model.transformer.layer.5.sa_layer_norm.bias             (768,)\n",
      "bert_model.transformer.layer.5.ffn.lin1.weight           (3072, 768)\n",
      "bert_model.transformer.layer.5.ffn.lin1.bias                 (3072,)\n",
      "bert_model.transformer.layer.5.ffn.lin2.weight           (768, 3072)\n",
      "bert_model.transformer.layer.5.ffn.lin2.bias                  (768,)\n",
      "bert_model.transformer.layer.5.output_layer_norm.weight       (768,)\n",
      "bert_model.transformer.layer.5.output_layer_norm.bias         (768,)\n",
      "hidden_layer.weight                                       (256, 768)\n",
      "hidden_layer.bias                                             (256,)\n",
      "hidden_layer2.weight                                       (32, 256)\n",
      "hidden_layer2.bias                                             (32,)\n",
      "classification.weight                                        (1, 32)\n",
      "classification.bias                                             (1,)\n"
     ]
    }
   ],
   "source": [
    "# Get all of the model's parameters as a list of tuples.\n",
    "params = list(unfreeze_model.named_parameters())\n",
    "\n",
    "print('This DistilBERT model has {:} named parameters.\\n'.format(len(params)))\n",
    "\n",
    "print('==== Embedding Layer ====\\n')\n",
    "\n",
    "for p in params[0:4]:\n",
    "    print(\"{:<55} {:>12}\".format(p[0], str(tuple(p[1].size()))))\n",
    "\n",
    "print('\\n==== First Transformer ====\\n')\n",
    "\n",
    "for p in params[4:20]:\n",
    "    print(\"{:<55} {:>12}\".format(p[0], str(tuple(p[1].size()))))\n",
    "\n",
    "print('\\n==== Last 15 Layer ====\\n')\n",
    "\n",
    "for p in params[-15:]:\n",
    "    print(\"{:<55} {:>12}\".format(p[0], str(tuple(p[1].size()))))"
   ]
  },
  {
   "cell_type": "code",
   "execution_count": null,
   "metadata": {
    "id": "uUsZmj8iImGp"
   },
   "outputs": [],
   "source": [
    "# Initiate loss to Binary Cross Entropy\n",
    "criterion = nn.BCELoss()\n",
    "\n",
    "# Optimizer\n",
    "optimizer = optim.Adam(unfreeze_model.parameters(), lr=LR, weight_decay=WEIGHT_DECAY)\n",
    "\n",
    "# Create learning rate scheduler.\n",
    "T_max = EPOCHS*len(train_loader)\n",
    "scheduler = optim.lr_scheduler.CosineAnnealingLR(optimizer, T_max=T_max)"
   ]
  },
  {
   "cell_type": "code",
   "execution_count": null,
   "metadata": {
    "colab": {
     "base_uri": "https://localhost:8080/"
    },
    "id": "bakKmVMKIZev",
    "outputId": "de1c84c4-96db-480a-b3c7-9c64fe10c5df"
   },
   "outputs": [
    {
     "name": "stdout",
     "output_type": "stream",
     "text": [
      "######  Epoch 1/2 ######\n",
      "-----  Training -----\n",
      "Batch   100  of  1,607.  Loss 0.2271  Elapsed: 0:00:11.\n",
      "Batch   200  of  1,607.  Loss 0.2821  Elapsed: 0:00:21.\n",
      "Batch   300  of  1,607.  Loss 0.3557  Elapsed: 0:00:31.\n",
      "Batch   400  of  1,607.  Loss 0.3967  Elapsed: 0:00:41.\n",
      "Batch   500  of  1,607.  Loss 0.3396  Elapsed: 0:00:51.\n",
      "Batch   600  of  1,607.  Loss 0.3842  Elapsed: 0:01:01.\n",
      "Batch   700  of  1,607.  Loss 0.2367  Elapsed: 0:01:11.\n",
      "Batch   800  of  1,607.  Loss 0.1479  Elapsed: 0:01:21.\n",
      "Batch   900  of  1,607.  Loss 0.0920  Elapsed: 0:01:31.\n",
      "Batch 1,000  of  1,607.  Loss 0.3340  Elapsed: 0:01:41.\n",
      "Batch 1,100  of  1,607.  Loss 0.3712  Elapsed: 0:01:51.\n",
      "Batch 1,200  of  1,607.  Loss 0.4444  Elapsed: 0:02:01.\n",
      "Batch 1,300  of  1,607.  Loss 0.3087  Elapsed: 0:02:11.\n",
      "Batch 1,400  of  1,607.  Loss 0.1548  Elapsed: 0:02:21.\n",
      "Batch 1,500  of  1,607.  Loss 0.1379  Elapsed: 0:02:31.\n",
      "Batch 1,600  of  1,607.  Loss 0.4743  Elapsed: 0:02:41.\n",
      "\n",
      "Avg Training Loss 0.2338, Completed in 0:02:42 \n",
      "\n",
      "-----  Validation -----\n",
      "Batch   100  of    220.  Loss 0.0883  Elapsed: 0:00:03.\n",
      "Batch   200  of    220.  Loss 0.0613  Elapsed: 0:00:06.\n",
      "\n",
      "Avg Validation Loss 0.1856, Completed in 0:00:06\n",
      "F1 Score 0.9293, ROC AUC 0.9278, Accuracy 0.9278 \n",
      "\n",
      "######  Epoch 2/2 ######\n",
      "-----  Training -----\n",
      "Batch   100  of  1,607.  Loss 0.0555  Elapsed: 0:00:10.\n",
      "Batch   200  of  1,607.  Loss 0.2531  Elapsed: 0:00:20.\n",
      "Batch   300  of  1,607.  Loss 0.2771  Elapsed: 0:00:30.\n",
      "Batch   400  of  1,607.  Loss 0.1091  Elapsed: 0:00:40.\n",
      "Batch   500  of  1,607.  Loss 0.0407  Elapsed: 0:00:50.\n",
      "Batch   600  of  1,607.  Loss 0.0452  Elapsed: 0:01:00.\n",
      "Batch   700  of  1,607.  Loss 0.0179  Elapsed: 0:01:10.\n",
      "Batch   800  of  1,607.  Loss 0.1762  Elapsed: 0:01:20.\n",
      "Batch   900  of  1,607.  Loss 0.0179  Elapsed: 0:01:30.\n",
      "Batch 1,000  of  1,607.  Loss 0.0140  Elapsed: 0:01:40.\n",
      "Batch 1,100  of  1,607.  Loss 0.1372  Elapsed: 0:01:50.\n",
      "Batch 1,200  of  1,607.  Loss 0.4006  Elapsed: 0:02:00.\n",
      "Batch 1,300  of  1,607.  Loss 0.0244  Elapsed: 0:02:10.\n",
      "Batch 1,400  of  1,607.  Loss 0.1135  Elapsed: 0:02:21.\n",
      "Batch 1,500  of  1,607.  Loss 0.0232  Elapsed: 0:02:31.\n",
      "Batch 1,600  of  1,607.  Loss 0.0833  Elapsed: 0:02:41.\n",
      "\n",
      "Avg Training Loss 0.1304, Completed in 0:02:41 \n",
      "\n",
      "-----  Validation -----\n",
      "Batch   100  of    220.  Loss 0.1326  Elapsed: 0:00:03.\n",
      "Batch   200  of    220.  Loss 0.2412  Elapsed: 0:00:06.\n",
      "\n",
      "Avg Validation Loss 0.1883, Completed in 0:00:06\n",
      "F1 Score 0.9301, ROC AUC 0.9298, Accuracy 0.9298 \n",
      "\n"
     ]
    }
   ],
   "source": [
    "# Store the average loss after each epoch so we can plot them.\n",
    "unfreeze_train_loss_values = []\n",
    "unfreeze_val_loss_values = []\n",
    "\n",
    "for epoch in range(EPOCHS):\n",
    "    print ('######  Epoch {}/{} ######'.format(epoch+1, EPOCHS))\n",
    "    print ('-----  Training -----')\n",
    "    unfreeze_train_loss, unfreeze_train_time = train(train_loader, unfreeze_model, criterion, optimizer)\n",
    "    unfreeze_train_loss_values.append(unfreeze_train_loss)\n",
    "\n",
    "    print ('-----  Validation -----')\n",
    "    unfreeze_val_outputs, unfreeze_val_targets, unfreeze_val_loss, unfreeze_val_time = validate(val_loader, unfreeze_model, criterion)\n",
    "    unfreeze_val_loss_values.append(unfreeze_val_loss)\n",
    "    unfreeze_val_f1, unfreeze_val_roc_auc, unfreeze_val_accuracy = compute_metrics(unfreeze_val_outputs, unfreeze_val_targets)"
   ]
  },
  {
   "cell_type": "code",
   "execution_count": null,
   "metadata": {
    "colab": {
     "base_uri": "https://localhost:8080/",
     "height": 423
    },
    "id": "DMu98gaoSDsi",
    "outputId": "ebe2d488-7b4e-4cc5-d99d-e0de0e065fb4"
   },
   "outputs": [
    {
     "data": {
      "image/png": "[encoded data removed]",
      "text/plain": [
       "<Figure size 720x432 with 1 Axes>"
      ]
     },
     "metadata": {},
     "output_type": "display_data"
    }
   ],
   "source": [
    "### Plot Training & Validation Loss\n",
    "data = {'Epoch': range(1, 3), 'Training Loss': unfreeze_train_loss_values, 'Validation Loss': unfreeze_val_loss_values}\n",
    "df = pd.DataFrame(data)\n",
    "\n",
    "fig, ax = plt.subplots(figsize=(10, 6))\n",
    "sns.set_style('whitegrid')\n",
    "sns.set(font_scale=1.5)\n",
    "\n",
    "# Plot train & val loss\n",
    "sns.lineplot(data=df, x=\"Epoch\", y=\"Training Loss\", label=\"Training Loss\", marker='o')\n",
    "sns.lineplot(data=df, x=\"Epoch\", y=\"Validation Loss\", label=\"Validation Loss\", marker='o')\n",
    "\n",
    "# set the axis labels and title\n",
    "ax.set(xlabel='Epoch', ylabel='Loss')\n",
    "ax.set_title('Training and Validation Loss', fontsize=18)\n",
    "\n",
    "# set the legend and adjust its position\n",
    "plt.legend(fontsize=14)\n",
    "\n",
    "# set the ticks fontsize\n",
    "ax.tick_params(axis='both', which='major', labelsize=14)\n",
    "# ax.grid(True, which='both', linestyle='--', color='lightgray')"
   ]
  },
  {
   "cell_type": "code",
   "execution_count": null,
   "metadata": {
    "colab": {
     "base_uri": "https://localhost:8080/"
    },
    "id": "mZaL15gdSdCe",
    "outputId": "62520c3d-299b-4718-ab9f-8cd8da00247e"
   },
   "outputs": [
    {
     "name": "stdout",
     "output_type": "stream",
     "text": [
      "\n",
      "Evaluation metrics for Test Set:\n",
      "F1 Score 0.9301, ROC AUC 0.9298, Accuracy 0.9298 \n",
      "\n"
     ]
    }
   ],
   "source": [
    "# Predicting with Test Set\n",
    "unfreeze_test_outputs, unfreeze_test_targets, unfreeze_test_loss, unfreeze_test_time = validate(test_loader, unfreeze_model, criterion, verbose=False)\n",
    "print('\\nEvaluation metrics for Test Set:')\n",
    "unfreeze_test_f1, unfreeze_test_roc_auc, unfreeze_test_accuracy = compute_metrics(unfreeze_test_outputs, unfreeze_test_targets)"
   ]
  },
  {
   "cell_type": "code",
   "execution_count": null,
   "metadata": {
    "id": "VGy2Z1cySl7X"
   },
   "outputs": [],
   "source": [
    "torch.save(unfreeze_model.state_dict(), 'models/DistilBertToxicClassification5.pth')"
   ]
  },
  {
   "cell_type": "markdown",
   "metadata": {
    "id": "4bOfksm4Bd67"
   },
   "source": [
    "## 5. DistilBERT 2 hidden layers & Upsampling with Data Augmentation"
   ]
  },
  {
   "cell_type": "markdown",
   "metadata": {
    "id": "4meD5fnn1xBy"
   },
   "source": [
    "### Balancing Data with Augmentation"
   ]
  },
  {
   "cell_type": "markdown",
   "metadata": {
    "id": "WEAOpXhxCL_J"
   },
   "source": [
    "Plan: generate new sentences for the minority class (toxic) by replacing approximately 10% of all words in a given post ($\\alpha = 0.1$), using nlpaug library word-level augmentation for DistilBERT "
   ]
  },
  {
   "cell_type": "code",
   "execution_count": 10,
   "metadata": {
    "id": "Zzkj2qxxy9gw"
   },
   "outputs": [],
   "source": [
    "## HYPER-PARAMETERS BLOCKS\n",
    "BATCH_SIZE = 16\n",
    "LR =2e-5\n",
    "WEIGHT_DECAY = 2e-4\n",
    "HIDDEN_SIZE = 256\n",
    "HIDDEN_SIZE2 = 32\n",
    "DROP_OUT = 0.1\n",
    "EPOCHS = 2\n",
    "WORKERS = int(os.cpu_count())"
   ]
  },
  {
   "cell_type": "code",
   "execution_count": 11,
   "metadata": {
    "id": "DfMGTBStXreQ"
   },
   "outputs": [],
   "source": [
    "import nlpaug.augmenter.word as nlpaw\n",
    "\n",
    "def augment_sentence(sentence, aug, num_thread=WORKERS):\n",
    "    \"\"\"\n",
    "    Constructs a new sentence via text augmentation.\n",
    "    \"\"\"\n",
    "    if device == \"cuda\":\n",
    "        return aug.augment(sentence, n=1)\n",
    "    else:\n",
    "        return aug.augment(sentence, n=1, num_thread=num_thread)\n",
    "    "
   ]
  },
  {
   "cell_type": "code",
   "execution_count": 12,
   "metadata": {
    "id": "KxoYu5GWX3Mu"
   },
   "outputs": [],
   "source": [
    "# Define nlpaug augmentation object \n",
    "aug10p = nlpaw.ContextualWordEmbsAug(model_path='distilbert-base-uncased', \n",
    "                                     aug_min=1, \n",
    "                                     aug_p=0.1, \n",
    "                                     action=\"substitute\",\n",
    "                                     device='cuda',\n",
    "                                     batch_size=32\n",
    "                                    )"
   ]
  },
  {
   "cell_type": "code",
   "execution_count": 13,
   "metadata": {
    "colab": {
     "base_uri": "https://localhost:8080/",
     "height": 71
    },
    "id": "kw5F-WbSyEaQ",
    "outputId": "88572bbb-e74e-4933-dc24-584e3ddfae97"
   },
   "outputs": [
    {
     "data": {
      "text/plain": [
       "['COCKSUCKER BEFORE YOU PISS AROUND ON MY WORK',\n",
       " 'Hey... what is it..\\n@ | talk .\\nWhat is it... an exclusive group of some WP TALIBANS...who are good at destroying, self-appointed purist who GANG UP any one who asks them questions abt their ANTI-SOCIAL and DESTRUCTIVE (non)-contribution at WP?\\n\\nAsk Sityush to clean up his behavior than issue me nonsensical warnings...',\n",
       " \"Bye! \\n\\nDon't look, come or think of comming back! Tosser.\",\n",
       " \"You are gay or antisemmitian? \\n\\nArchangel WHite Tiger\\n\\nMeow! Greetingshhh!\\n\\nUh, there are two ways, why you do erased my comment about WW2, that holocaust was brutally slaying of Jews and not gays/Gypsys/Slavs/anyone...\\n\\n1 - If you are anti-semitian, than shave your head bald and go to the skinhead meetings!\\n\\n2 - If you doubt words of the Bible, that homosexuality is a deadly sin, make a pentagram tatoo on your forehead go to the satanistic masses with your gay pals!\\n\\n3 - First and last warning, you fucking gay - I won't appreciate if any more nazi shwain would write in my page! I don't wish to talk to you anymore!\\n\\nBeware of the Dark Side!\",\n",
       " 'FUCK YOUR FILTHY MOTHER IN THE ASS, DRY!']"
      ]
     },
     "execution_count": 13,
     "metadata": {},
     "output_type": "execute_result"
    }
   ],
   "source": [
    "list(df[df['label']==0]['comment_text'].values[:5])"
   ]
  },
  {
   "cell_type": "code",
   "execution_count": 14,
   "metadata": {
    "colab": {
     "base_uri": "https://localhost:8080/"
    },
    "id": "p3JZ1u-fXuzq",
    "outputId": "22fbd99d-0fa4-457b-92fd-efa1d39fe47e"
   },
   "outputs": [
    {
     "name": "stdout",
     "output_type": "stream",
     "text": [
      "### Test Sentences ###\n",
      " ['COCKSUCKER BEFORE YOU PISS AROUND ON MY WORK', 'Hey... what is it..\\n@ | talk .\\nWhat is it... an exclusive group of some WP TALIBANS...who are good at destroying, self-appointed purist who GANG UP any one who asks them questions abt their ANTI-SOCIAL and DESTRUCTIVE (non)-contribution at WP?\\n\\nAsk Sityush to clean up his behavior than issue me nonsensical warnings...', \"Bye! \\n\\nDon't look, come or think of comming back! Tosser.\", \"You are gay or antisemmitian? \\n\\nArchangel WHite Tiger\\n\\nMeow! Greetingshhh!\\n\\nUh, there are two ways, why you do erased my comment about WW2, that holocaust was brutally slaying of Jews and not gays/Gypsys/Slavs/anyone...\\n\\n1 - If you are anti-semitian, than shave your head bald and go to the skinhead meetings!\\n\\n2 - If you doubt words of the Bible, that homosexuality is a deadly sin, make a pentagram tatoo on your forehead go to the satanistic masses with your gay pals!\\n\\n3 - First and last warning, you fucking gay - I won't appreciate if any more nazi shwain would write in my page! I don't wish to talk to you anymore!\\n\\nBeware of the Dark Side!\", 'FUCK YOUR FILTHY MOTHER IN THE ASS, DRY!']\n",
      "\n",
      "### Augmentation 1 ### \n",
      "['cocksucker before you poke around on my work', 'hey... what is it.. @ | talk. what gives it... an exclusive group concerning some wp talibans... who are adept at destroying, self - righteous purist who gang up any one who denies them questions abt their anti - social duty anti ( non ) - contribution at wp? ask sityush to clean through his behavior than issue me sincere warnings...', \"bye! don't look, come or come of comming out! tosser.\", \"you are gay or antisemmitian? archangel white tiger meow! greetingshhh! uh, we are two ways, why you do erased my comment about ww2, that holocaust was brutally slaying of jews and not gays / gypsys / slavs / anyone... 1 - if you are anti - semitian, than turning your heads bald and going to the skinhead meetings! 2 - if you tell words of the bible, that homosexuality is absolutely deadly sin, make a pentagram tatoo on your forehead go to the satanistic masses with your gay pals! 3 - reply and third warning, you fucking gay - i won't appreciate if any more nazi shwain would write in my page! i don't wish to talk with them anymore! beware of the dark side!\", 'fuck your filthy mother in the ass, asshole!']\n",
      "\n",
      "### Augmentation 2 ### \n",
      "['cocksucker before you messing around on my work', 'wow... what is it.. @ | talk. what is it... an honourable group of some wp talibans... who are good at destroying, loosely - appointed guards who gang violently except one who asks them questions abt their anti - aggression and destructive ( non ) - contribution at wp? ask sityush to clean off his behavior than issue me nonsensical apologies...', \"bye! don't look, come or out of comming back! b.\", \"you are gay or antisemmitian? archangel white tiger meow! greetingshhh! uh, there are several ways, why you do erased my comment about aids, that holocaust was brutally slaying of arabs and not gays / gypsys / slavs / anyone... 1 - if you are anti - semitian, than shave yourself head bald and go to the skinhead meetings! 2 - then you doubt much of the bible, that homosexuality is a deadly sin, make a pentagram tatoo on your forehead go to the satanistic masses with your gay ego! 3 - first and last warning, you re gay - i won't care if any more nazi shwain would write in my page! i don't wish to talk to anybody anymore! beware of the dark side!\", 'fuck your filthy mother in the ass, dammit!']\n"
     ]
    }
   ],
   "source": [
    "# test augment_sentence output\n",
    "test_sentences = list(df[df['label']==0]['comment_text'].values[:5])\n",
    "print('### Test Sentences ###\\n',test_sentences)\n",
    "\n",
    "# augmentation 2 times\n",
    "num_times = 2\n",
    "for i in range(num_times):\n",
    "    new_sentences = augment_sentence(test_sentences, aug10p)\n",
    "    print(f'\\n### Augmentation {i+1} ### \\n{new_sentences}')"
   ]
  },
  {
   "cell_type": "code",
   "execution_count": 15,
   "metadata": {
    "id": "rbZdlnEDBq1U"
   },
   "outputs": [],
   "source": [
    "def augment_text(df, aug, num_threads, num_times):\n",
    "    \"\"\"\n",
    "    Takes a pandas DataFrame, balance the dataset by:\n",
    "    - Performing undersampling of majority class \n",
    "    - Oversampling of minority class with augments its text data.\n",
    "    \n",
    "    Input:\n",
    "        - df:            A pandas DataFrame containing the columns:\n",
    "                                - 'comment_text' containing strings of text to augment.\n",
    "                                - 'label' binary target variable containing 0's and 1's.\n",
    "        - aug:           Augmentation object defined by the nlpaug library.\n",
    "        - num_threads:   Integer controlling number of threads to use if augmenting\n",
    "                         text via CPU\n",
    "        - num_times:     Integer representing the number of times to augment text.\n",
    "    Output:\n",
    "        - aug_df:        New DataFrame with augmented data  \n",
    "                         appended to it and with rows randomly shuffled.\n",
    "    \"\"\"\n",
    "    # Separate majority and minority classes\n",
    "    df_majority = df[df[\"label\"] == 1][[\"comment_text\", \"label\"]]\n",
    "    df_minority = df[df[\"label\"] == 0][[\"comment_text\", \"label\"]] \n",
    "\n",
    "    # Undersample majority class to minority class plus a number of time augumented \n",
    "    df_majority_downsampled = resample(df_majority,\n",
    "                                      replace=False,     # sample without replacement\n",
    "                                      n_samples=(num_times+1)*round(len(df_minority)), \n",
    "                                      random_state=42) \n",
    "\n",
    "    # Get rows of data of the minority class to augment\n",
    "    to_augmentX = list(df_minority['comment_text'].values)\n",
    "    to_augmentY = np.zeros(len(to_augmentX) * num_times)\n",
    "    \n",
    "    # Build up dictionary containing augmented data\n",
    "    aug_dict = {'comment_text':[], 'label':to_augmentY}\n",
    "    for i in range(num_times):\n",
    "        # augX = [augment_sentence(x, aug, num_threads) for x in to_augmentX]\n",
    "        augX = augment_sentence(to_augmentX, aug, num_threads)\n",
    "        aug_dict['comment_text'].extend(augX)\n",
    "    \n",
    "    # Build DataFrame containing augmented data\n",
    "    aug_df = pd.DataFrame.from_dict(aug_dict)\n",
    "\n",
    "    # Add the inital minority df and the new agumented df to the majority downsampled df\n",
    "    df_majority_downsampled = df_majority_downsampled.append(df_minority, ignore_index=True)\n",
    "    df_majority_downsampled = df_majority_downsampled.append(aug_df, ignore_index=True)\n",
    "    df_majority_downsampled['label'] = df_majority_downsampled['label'].astype(int)\n",
    "    \n",
    "    return df_majority_downsampled"
   ]
  },
  {
   "cell_type": "code",
   "execution_count": null,
   "metadata": {},
   "outputs": [],
   "source": [
    "# Upsample minority class ('label' == 0) to create a 50-50 class distribution\n",
    "balanced_df = augment_text(df, aug10p, num_threads=WORKERS, num_times=1)"
   ]
  },
  {
   "cell_type": "code",
   "execution_count": 19,
   "metadata": {},
   "outputs": [
    {
     "data": {
      "text/html": [
       "<div>\n",
       "<style scoped>\n",
       "    .dataframe tbody tr th:only-of-type {\n",
       "        vertical-align: middle;\n",
       "    }\n",
       "\n",
       "    .dataframe tbody tr th {\n",
       "        vertical-align: top;\n",
       "    }\n",
       "\n",
       "    .dataframe thead th {\n",
       "        text-align: right;\n",
       "    }\n",
       "</style>\n",
       "<table border=\"1\" class=\"dataframe\">\n",
       "  <thead>\n",
       "    <tr style=\"text-align: right;\">\n",
       "      <th></th>\n",
       "      <th>comment_text</th>\n",
       "      <th>label</th>\n",
       "    </tr>\n",
       "  </thead>\n",
       "  <tbody>\n",
       "    <tr>\n",
       "      <th>0</th>\n",
       "      <td>\"\\n\\nOh, don't worry about me, Sandstein. I'm ...</td>\n",
       "      <td>1</td>\n",
       "    </tr>\n",
       "    <tr>\n",
       "      <th>1</th>\n",
       "      <td>Are you trying to dispute that fact?</td>\n",
       "      <td>1</td>\n",
       "    </tr>\n",
       "    <tr>\n",
       "      <th>2</th>\n",
       "      <td>SWOT analysis \\n\\nThis source – Align Technolo...</td>\n",
       "      <td>1</td>\n",
       "    </tr>\n",
       "    <tr>\n",
       "      <th>3</th>\n",
       "      <td>cover \\n\\nso, do we want a current or older co...</td>\n",
       "      <td>1</td>\n",
       "    </tr>\n",
       "    <tr>\n",
       "      <th>4</th>\n",
       "      <td>P.S. It's probably worth setting up a template...</td>\n",
       "      <td>1</td>\n",
       "    </tr>\n",
       "    <tr>\n",
       "      <th>...</th>\n",
       "      <td>...</td>\n",
       "      <td>...</td>\n",
       "    </tr>\n",
       "    <tr>\n",
       "      <th>64895</th>\n",
       "      <td>\" our previous conversation you fucking shit e...</td>\n",
       "      <td>0</td>\n",
       "    </tr>\n",
       "    <tr>\n",
       "      <th>64896</th>\n",
       "      <td>you are exhibiting mischievious pubic hair</td>\n",
       "      <td>0</td>\n",
       "    </tr>\n",
       "    <tr>\n",
       "      <th>64897</th>\n",
       "      <td>your absurd edits your bullshit edits on great...</td>\n",
       "      <td>0</td>\n",
       "    </tr>\n",
       "    <tr>\n",
       "      <th>64898</th>\n",
       "      <td>\" hey listen don't you ever!!!! delete my edit...</td>\n",
       "      <td>0</td>\n",
       "    </tr>\n",
       "    <tr>\n",
       "      <th>64899</th>\n",
       "      <td>and i'm going v keep posting the stuff you del...</td>\n",
       "      <td>0</td>\n",
       "    </tr>\n",
       "  </tbody>\n",
       "</table>\n",
       "<p>64900 rows × 2 columns</p>\n",
       "</div>"
      ],
      "text/plain": [
       "                                            comment_text  label\n",
       "0      \"\\n\\nOh, don't worry about me, Sandstein. I'm ...      1\n",
       "1                   Are you trying to dispute that fact?      1\n",
       "2      SWOT analysis \\n\\nThis source – Align Technolo...      1\n",
       "3      cover \\n\\nso, do we want a current or older co...      1\n",
       "4      P.S. It's probably worth setting up a template...      1\n",
       "...                                                  ...    ...\n",
       "64895  \" our previous conversation you fucking shit e...      0\n",
       "64896         you are exhibiting mischievious pubic hair      0\n",
       "64897  your absurd edits your bullshit edits on great...      0\n",
       "64898  \" hey listen don't you ever!!!! delete my edit...      0\n",
       "64899  and i'm going v keep posting the stuff you del...      0\n",
       "\n",
       "[64900 rows x 2 columns]"
      ]
     },
     "execution_count": 19,
     "metadata": {},
     "output_type": "execute_result"
    }
   ],
   "source": [
    "balanced_df"
   ]
  },
  {
   "cell_type": "code",
   "execution_count": 23,
   "metadata": {
    "id": "EYWX_ViTWclu"
   },
   "outputs": [
    {
     "data": {
      "text/plain": [
       "1    32450\n",
       "0    32450\n",
       "Name: label, dtype: int64"
      ]
     },
     "execution_count": 23,
     "metadata": {},
     "output_type": "execute_result"
    }
   ],
   "source": [
    "balanced_df.label.value_counts()"
   ]
  },
  {
   "cell_type": "code",
   "execution_count": 25,
   "metadata": {},
   "outputs": [
    {
     "data": {
      "text/html": [
       "<div>\n",
       "<style scoped>\n",
       "    .dataframe tbody tr th:only-of-type {\n",
       "        vertical-align: middle;\n",
       "    }\n",
       "\n",
       "    .dataframe tbody tr th {\n",
       "        vertical-align: top;\n",
       "    }\n",
       "\n",
       "    .dataframe thead th {\n",
       "        text-align: right;\n",
       "    }\n",
       "</style>\n",
       "<table border=\"1\" class=\"dataframe\">\n",
       "  <thead>\n",
       "    <tr style=\"text-align: right;\">\n",
       "      <th></th>\n",
       "      <th>offensive-text</th>\n",
       "      <th>style-transferred-text</th>\n",
       "    </tr>\n",
       "  </thead>\n",
       "  <tbody>\n",
       "    <tr>\n",
       "      <th>0</th>\n",
       "      <td>Pussy nobody asked for your input.</td>\n",
       "      <td>Nobody asked for your input</td>\n",
       "    </tr>\n",
       "    <tr>\n",
       "      <th>1</th>\n",
       "      <td>Ok, this makes no sense. This will create vigi...</td>\n",
       "      <td>Ok, this makes no sense. This will create vigi...</td>\n",
       "    </tr>\n",
       "    <tr>\n",
       "      <th>2</th>\n",
       "      <td>so fucking true. the amount of up and coming r...</td>\n",
       "      <td>so true. the amount of up and coming rappers t...</td>\n",
       "    </tr>\n",
       "    <tr>\n",
       "      <th>3</th>\n",
       "      <td>Go f yourself Republican scum who put us here ...</td>\n",
       "      <td>Republicans put us in this situation. I would ...</td>\n",
       "    </tr>\n",
       "    <tr>\n",
       "      <th>4</th>\n",
       "      <td>Dumb fucking take. People want to do things.</td>\n",
       "      <td>That's not a smart take. People want to do thi...</td>\n",
       "    </tr>\n",
       "    <tr>\n",
       "      <th>...</th>\n",
       "      <td>...</td>\n",
       "      <td>...</td>\n",
       "    </tr>\n",
       "    <tr>\n",
       "      <th>1579</th>\n",
       "      <td>The View! And this crap hits my front page!? l...</td>\n",
       "      <td>This must be mostly bots but still, it's stran...</td>\n",
       "    </tr>\n",
       "    <tr>\n",
       "      <th>1580</th>\n",
       "      <td>That’s racist.</td>\n",
       "      <td>Those actions are racist.</td>\n",
       "    </tr>\n",
       "    <tr>\n",
       "      <th>1581</th>\n",
       "      <td>Cultural Marxism isn't a thing you weird fuck.</td>\n",
       "      <td>Cultural Marxism isn't a thing.</td>\n",
       "    </tr>\n",
       "    <tr>\n",
       "      <th>1582</th>\n",
       "      <td>LOL, anyone that questions the Democrat progra...</td>\n",
       "      <td>LOL, anyone that questions the Democrat progra...</td>\n",
       "    </tr>\n",
       "    <tr>\n",
       "      <th>1583</th>\n",
       "      <td>How about you guys actually read the bill, if ...</td>\n",
       "      <td>I wish everyone actually read the bill.</td>\n",
       "    </tr>\n",
       "  </tbody>\n",
       "</table>\n",
       "<p>1584 rows × 2 columns</p>\n",
       "</div>"
      ],
      "text/plain": [
       "                                         offensive-text  \\\n",
       "0                    Pussy nobody asked for your input.   \n",
       "1     Ok, this makes no sense. This will create vigi...   \n",
       "2     so fucking true. the amount of up and coming r...   \n",
       "3     Go f yourself Republican scum who put us here ...   \n",
       "4          Dumb fucking take. People want to do things.   \n",
       "...                                                 ...   \n",
       "1579  The View! And this crap hits my front page!? l...   \n",
       "1580                                     That’s racist.   \n",
       "1581     Cultural Marxism isn't a thing you weird fuck.   \n",
       "1582  LOL, anyone that questions the Democrat progra...   \n",
       "1583  How about you guys actually read the bill, if ...   \n",
       "\n",
       "                                 style-transferred-text  \n",
       "0                           Nobody asked for your input  \n",
       "1     Ok, this makes no sense. This will create vigi...  \n",
       "2     so true. the amount of up and coming rappers t...  \n",
       "3     Republicans put us in this situation. I would ...  \n",
       "4     That's not a smart take. People want to do thi...  \n",
       "...                                                 ...  \n",
       "1579  This must be mostly bots but still, it's stran...  \n",
       "1580                          Those actions are racist.  \n",
       "1581                    Cultural Marxism isn't a thing.  \n",
       "1582  LOL, anyone that questions the Democrat progra...  \n",
       "1583            I wish everyone actually read the bill.  \n",
       "\n",
       "[1584 rows x 2 columns]"
      ]
     },
     "execution_count": 25,
     "metadata": {},
     "output_type": "execute_result"
    }
   ],
   "source": [
    "# Add training data from APPDIA dataset to Jigsaw dataset for fine-tuning\n",
    "train_file = 'data/original-train.tsv'\n",
    "df_train_appdia = pd.read_csv(train_file, sep='\\t')\n",
    "df_train_appdia"
   ]
  },
  {
   "cell_type": "code",
   "execution_count": 27,
   "metadata": {},
   "outputs": [],
   "source": [
    "# df_balance_copy = balanced_df.copy()"
   ]
  },
  {
   "cell_type": "code",
   "execution_count": 38,
   "metadata": {
    "id": "Yv7SLkhRnPFT"
   },
   "outputs": [
    {
     "name": "stdout",
     "output_type": "stream",
     "text": [
      "Number of class in balanced dataset:\n",
      "0    34034\n",
      "1    34034\n",
      "Name: label, dtype: int64\n"
     ]
    },
    {
     "data": {
      "text/html": [
       "<div>\n",
       "<style scoped>\n",
       "    .dataframe tbody tr th:only-of-type {\n",
       "        vertical-align: middle;\n",
       "    }\n",
       "\n",
       "    .dataframe tbody tr th {\n",
       "        vertical-align: top;\n",
       "    }\n",
       "\n",
       "    .dataframe thead th {\n",
       "        text-align: right;\n",
       "    }\n",
       "</style>\n",
       "<table border=\"1\" class=\"dataframe\">\n",
       "  <thead>\n",
       "    <tr style=\"text-align: right;\">\n",
       "      <th></th>\n",
       "      <th>comment_text</th>\n",
       "      <th>label</th>\n",
       "    </tr>\n",
       "  </thead>\n",
       "  <tbody>\n",
       "    <tr>\n",
       "      <th>0</th>\n",
       "      <td>rome is gay \\n\\nrome is gay i hate rome</td>\n",
       "      <td>0</td>\n",
       "    </tr>\n",
       "    <tr>\n",
       "      <th>1</th>\n",
       "      <td>Missed it.  Maybe I will make the next   (talk)</td>\n",
       "      <td>1</td>\n",
       "    </tr>\n",
       "    <tr>\n",
       "      <th>2</th>\n",
       "      <td>There's a good test of big bang. Big bang pred...</td>\n",
       "      <td>1</td>\n",
       "    </tr>\n",
       "    <tr>\n",
       "      <th>3</th>\n",
       "      <td>major intelligence coup that raised the presti...</td>\n",
       "      <td>1</td>\n",
       "    </tr>\n",
       "    <tr>\n",
       "      <th>4</th>\n",
       "      <td>\"Please, sign anything you post here with your...</td>\n",
       "      <td>1</td>\n",
       "    </tr>\n",
       "    <tr>\n",
       "      <th>...</th>\n",
       "      <td>...</td>\n",
       "      <td>...</td>\n",
       "    </tr>\n",
       "    <tr>\n",
       "      <th>68063</th>\n",
       "      <td>You Suck!\\nDear King Shadeed you suck and are ...</td>\n",
       "      <td>0</td>\n",
       "    </tr>\n",
       "    <tr>\n",
       "      <th>68064</th>\n",
       "      <td>What was the theme music? \\n\\nSurely it was no...</td>\n",
       "      <td>1</td>\n",
       "    </tr>\n",
       "    <tr>\n",
       "      <th>68065</th>\n",
       "      <td>if you are having trouble with yourself, then ...</td>\n",
       "      <td>0</td>\n",
       "    </tr>\n",
       "    <tr>\n",
       "      <th>68066</th>\n",
       "      <td>Welcome!\\n\\nHello, , and welcome to Wikipedia!...</td>\n",
       "      <td>1</td>\n",
       "    </tr>\n",
       "    <tr>\n",
       "      <th>68067</th>\n",
       "      <td>Dear ,\\n\\nAll three titles\\n Utazás Faremidóba...</td>\n",
       "      <td>1</td>\n",
       "    </tr>\n",
       "  </tbody>\n",
       "</table>\n",
       "<p>68068 rows × 2 columns</p>\n",
       "</div>"
      ],
      "text/plain": [
       "                                            comment_text  label\n",
       "0                rome is gay \\n\\nrome is gay i hate rome      0\n",
       "1        Missed it.  Maybe I will make the next   (talk)      1\n",
       "2      There's a good test of big bang. Big bang pred...      1\n",
       "3      major intelligence coup that raised the presti...      1\n",
       "4      \"Please, sign anything you post here with your...      1\n",
       "...                                                  ...    ...\n",
       "68063  You Suck!\\nDear King Shadeed you suck and are ...      0\n",
       "68064  What was the theme music? \\n\\nSurely it was no...      1\n",
       "68065  if you are having trouble with yourself, then ...      0\n",
       "68066  Welcome!\\n\\nHello, , and welcome to Wikipedia!...      1\n",
       "68067  Dear ,\\n\\nAll three titles\\n Utazás Faremidóba...      1\n",
       "\n",
       "[68068 rows x 2 columns]"
      ]
     },
     "execution_count": 38,
     "metadata": {},
     "output_type": "execute_result"
    }
   ],
   "source": [
    "# Add the offensive, toxic texts to the balanced df\n",
    "toxic_texts = list(df_train_appdia[\"offensive-text\"].values)\n",
    "toxic_labels = np.zeros(len(toxic_texts))\n",
    "toxic_df = pd.DataFrame({'comment_text': toxic_texts, 'label': toxic_labels})\n",
    "balanced_df = balanced_df.append(toxic_df, ignore_index=True)\n",
    "\n",
    "# Add the annotated non-toxic texts to the balanced df\n",
    "nontoxic_texts = list(df_train_appdia[\"style-transferred-text\"].values)\n",
    "nontoxic_labels = np.ones(len(nontoxic_texts))\n",
    "nontoxic_df = pd.DataFrame({'comment_text': nontoxic_texts, 'label': nontoxic_labels})\n",
    "balanced_df = balanced_df.append(nontoxic_df, ignore_index=True)\n",
    "\n",
    "# Shuffle balanced df\n",
    "balanced_df['label'] = balanced_df['label'].astype(int)\n",
    "balanced_df = balanced_df.sample(frac=1, random_state=42)\n",
    "balanced_df = balanced_df.reset_index()\n",
    "balanced_df = balanced_df[[\"comment_text\", \"label\"]]\n",
    "\n",
    "print(\"Number of class in balanced dataset:\")\n",
    "print(balanced_df['label'].value_counts())\n",
    "balanced_df"
   ]
  },
  {
   "cell_type": "code",
   "execution_count": 39,
   "metadata": {
    "id": "DCNwcb4P2b_k"
   },
   "outputs": [],
   "source": [
    "# Save balanced dataset to drive\n",
    "balanced_df.to_csv('data/upsampling_classification_data.csv',sep='\\t',index=False)"
   ]
  },
  {
   "cell_type": "code",
   "execution_count": null,
   "metadata": {
    "id": "fdqzSE4Wt_ln"
   },
   "outputs": [],
   "source": [
    "# # Clean up text, remove line breaks & special characters\n",
    "# balanced_df[\"cleaned_text\"] = balanced_df.comment_text.apply(clean_up_text)\n",
    "# modify_text_to_print(balanced_df[[\"cleaned_text\", \"label\"]],\"cleaned_text\")"
   ]
  },
  {
   "cell_type": "markdown",
   "metadata": {
    "id": "qpW_qbxJ2H5T"
   },
   "source": [
    "### Data Splitting & Data Loader"
   ]
  },
  {
   "cell_type": "code",
   "execution_count": 40,
   "metadata": {
    "id": "z7wlH5JyaIyT"
   },
   "outputs": [],
   "source": [
    "# Split data to train, test, split\n",
    "\n",
    "## Train, Val, Test Split\n",
    "X_full = balanced_df[\"comment_text\"]\n",
    "y_full = balanced_df[\"label\"]\n",
    "\n",
    "# Split test set\n",
    "X_train_val, X_test, y_train_val, y_test = train_test_split(X_full, y_full, \n",
    "                                                            test_size=0.12,\n",
    "                                                            random_state=42,\n",
    "                                                            stratify=y_full\n",
    "                                                            )\n",
    "\n",
    "# Split train - dev\n",
    "X_train, X_val, y_train, y_val = train_test_split(X_train_val, y_train_val, \n",
    "                                                            test_size=0.15,\n",
    "                                                            random_state=42,\n",
    "                                                            stratify=y_train_val\n",
    "                                                            )"
   ]
  },
  {
   "cell_type": "code",
   "execution_count": 41,
   "metadata": {
    "id": "snuMP1SGm_dK"
   },
   "outputs": [
    {
     "name": "stdout",
     "output_type": "stream",
     "text": [
      "Train Data Dimension: (50914,)\n",
      "Train Label Dimension: (50914,)\n",
      "Development Data Dimension: (8985,)\n",
      "Development Label Dimension: (8985,)\n",
      "Test Data Dimension: (8169,)\n",
      "Test Label Dimension: (8169,)\n"
     ]
    }
   ],
   "source": [
    "print('Train Data Dimension:', X_train.shape)\n",
    "print('Train Label Dimension:', y_train.shape)\n",
    "print('Development Data Dimension:', X_val.shape)\n",
    "print('Development Label Dimension:', y_val.shape)\n",
    "print('Test Data Dimension:', X_test.shape)\n",
    "print('Test Label Dimension:', y_test.shape)"
   ]
  },
  {
   "cell_type": "code",
   "execution_count": 59,
   "metadata": {
    "id": "S6mxvXsX1sjA"
   },
   "outputs": [],
   "source": [
    "# Load the BERT tokenizer\n",
    "bert_tokenizer = DistilBertTokenizer.from_pretrained('distilbert-base-uncased')\n",
    "max_length = 64\n",
    "\n",
    "def distilBert_loader(X, y, bert_tokenizer, max_length=max_length, batch_size=BATCH_SIZE):\n",
    "    \"\"\"\n",
    "    Convert X, y data to dataloader with tokenizer\n",
    "    \"\"\"\n",
    "    text_encodings = bert_tokenizer(\n",
    "        list(X.values), \n",
    "        max_length=max_length,\n",
    "        truncation=True,\n",
    "        pad_to_max_length=True, \n",
    "        return_tensors='pt'\n",
    "    )\n",
    "\n",
    "    ids = text_encodings.input_ids\n",
    "    mask = text_encodings.attention_mask\n",
    "    labels = torch.tensor(y.values)\n",
    "\n",
    "    dataset = TensorDataset(ids, mask, labels)\n",
    "    loader = DataLoader(dataset, batch_size=batch_size, shuffle=True, num_workers=WORKERS)\n",
    "\n",
    "    return loader"
   ]
  },
  {
   "cell_type": "code",
   "execution_count": 60,
   "metadata": {
    "id": "FlNjRIQM6OLM"
   },
   "outputs": [],
   "source": [
    "train_loader = distilBert_loader(X_train, y_train, bert_tokenizer, max_length, BATCH_SIZE)\n",
    "val_loader = distilBert_loader(X_val, y_val, bert_tokenizer, max_length, BATCH_SIZE)\n",
    "test_loader = distilBert_loader(X_test, y_test, bert_tokenizer, max_length, BATCH_SIZE)"
   ]
  },
  {
   "cell_type": "markdown",
   "metadata": {
    "id": "wWxhcV3x7EzI"
   },
   "source": [
    "### Fine tuning"
   ]
  },
  {
   "cell_type": "code",
   "execution_count": 58,
   "metadata": {
    "id": "0pWDnQiO7EGO"
   },
   "outputs": [],
   "source": [
    "# Clear out cuda before training\n",
    "torch.cuda.empty_cache()"
   ]
  },
  {
   "cell_type": "code",
   "execution_count": 61,
   "metadata": {
    "id": "dEm8Q2ZoaAn-"
   },
   "outputs": [
    {
     "name": "stderr",
     "output_type": "stream",
     "text": [
      "Some weights of the model checkpoint at distilbert-base-uncased were not used when initializing DistilBertModel: ['vocab_projector.weight', 'vocab_projector.bias', 'vocab_layer_norm.weight', 'vocab_layer_norm.bias', 'vocab_transform.weight', 'vocab_transform.bias']\n",
      "- This IS expected if you are initializing DistilBertModel from the checkpoint of a model trained on another task or with another architecture (e.g. initializing a BertForSequenceClassification model from a BertForPreTraining model).\n",
      "- This IS NOT expected if you are initializing DistilBertModel from the checkpoint of a model that you expect to be exactly identical (initializing a BertForSequenceClassification model from a BertForSequenceClassification model).\n"
     ]
    }
   ],
   "source": [
    "# Initialize model\n",
    "model = UnfreezeBertClassification(hidden_size=HIDDEN_SIZE, hidden_size2=HIDDEN_SIZE2, dropout=DROP_OUT)\n",
    "model = model.to(device)\n"
   ]
  },
  {
   "cell_type": "code",
   "execution_count": 62,
   "metadata": {
    "id": "2o1ES5In1pCx"
   },
   "outputs": [],
   "source": [
    "# Initiate loss to Binary Cross Entropy\n",
    "criterion = nn.BCELoss()\n",
    "\n",
    "# Optimizer\n",
    "optimizer = optim.Adam(model.parameters(), lr=LR, weight_decay=WEIGHT_DECAY)\n",
    "\n",
    "# Create learning rate scheduler.\n",
    "T_max = EPOCHS*len(train_loader)\n",
    "scheduler = optim.lr_scheduler.CosineAnnealingLR(optimizer, T_max=T_max)"
   ]
  },
  {
   "cell_type": "code",
   "execution_count": 63,
   "metadata": {},
   "outputs": [],
   "source": [
    "import os\n",
    "os.environ[\"TOKENIZERS_PARALLELISM\"] = \"false\""
   ]
  },
  {
   "cell_type": "code",
   "execution_count": 64,
   "metadata": {
    "id": "EuypZoqH75my"
   },
   "outputs": [
    {
     "name": "stdout",
     "output_type": "stream",
     "text": [
      "######  Epoch 1/2 ######\n",
      "-----  Training -----\n",
      "Batch   100  of  3,183.  Loss 0.4324  Elapsed: 0:00:10.\n",
      "Batch   200  of  3,183.  Loss 0.1438  Elapsed: 0:00:21.\n",
      "Batch   300  of  3,183.  Loss 0.1775  Elapsed: 0:00:31.\n",
      "Batch   400  of  3,183.  Loss 0.3012  Elapsed: 0:00:42.\n",
      "Batch   500  of  3,183.  Loss 0.4235  Elapsed: 0:00:52.\n",
      "Batch   600  of  3,183.  Loss 0.1614  Elapsed: 0:01:03.\n",
      "Batch   700  of  3,183.  Loss 0.0787  Elapsed: 0:01:13.\n",
      "Batch   800  of  3,183.  Loss 0.4487  Elapsed: 0:01:24.\n",
      "Batch   900  of  3,183.  Loss 0.2866  Elapsed: 0:01:35.\n",
      "Batch 1,000  of  3,183.  Loss 0.5783  Elapsed: 0:01:46.\n",
      "Batch 1,100  of  3,183.  Loss 0.0417  Elapsed: 0:01:57.\n",
      "Batch 1,200  of  3,183.  Loss 0.2396  Elapsed: 0:02:08.\n",
      "Batch 1,300  of  3,183.  Loss 0.6535  Elapsed: 0:02:19.\n",
      "Batch 1,400  of  3,183.  Loss 0.4390  Elapsed: 0:02:30.\n",
      "Batch 1,500  of  3,183.  Loss 0.0719  Elapsed: 0:02:41.\n",
      "Batch 1,600  of  3,183.  Loss 0.4646  Elapsed: 0:02:52.\n",
      "Batch 1,700  of  3,183.  Loss 0.1552  Elapsed: 0:03:03.\n",
      "Batch 1,800  of  3,183.  Loss 0.1023  Elapsed: 0:03:13.\n",
      "Batch 1,900  of  3,183.  Loss 0.2184  Elapsed: 0:03:24.\n",
      "Batch 2,000  of  3,183.  Loss 0.1847  Elapsed: 0:03:35.\n",
      "Batch 2,100  of  3,183.  Loss 0.2058  Elapsed: 0:03:46.\n",
      "Batch 2,200  of  3,183.  Loss 0.1460  Elapsed: 0:03:57.\n",
      "Batch 2,300  of  3,183.  Loss 0.3251  Elapsed: 0:04:08.\n",
      "Batch 2,400  of  3,183.  Loss 0.1648  Elapsed: 0:04:19.\n",
      "Batch 2,500  of  3,183.  Loss 0.1018  Elapsed: 0:04:30.\n",
      "Batch 2,600  of  3,183.  Loss 0.0400  Elapsed: 0:04:41.\n",
      "Batch 2,700  of  3,183.  Loss 0.2303  Elapsed: 0:04:52.\n",
      "Batch 2,800  of  3,183.  Loss 0.1418  Elapsed: 0:05:03.\n",
      "Batch 2,900  of  3,183.  Loss 0.2884  Elapsed: 0:05:13.\n",
      "Batch 3,000  of  3,183.  Loss 0.0472  Elapsed: 0:05:24.\n",
      "Batch 3,100  of  3,183.  Loss 0.3545  Elapsed: 0:05:35.\n",
      "\n",
      "Avg Training Loss 0.2312, Completed in 0:05:44 \n",
      "\n",
      "-----  Validation -----\n",
      "Batch   100  of    562.  Loss 0.0825  Elapsed: 0:00:03.\n",
      "Batch   200  of    562.  Loss 0.0773  Elapsed: 0:00:07.\n",
      "Batch   300  of    562.  Loss 0.1946  Elapsed: 0:00:10.\n",
      "Batch   400  of    562.  Loss 0.2449  Elapsed: 0:00:13.\n",
      "Batch   500  of    562.  Loss 0.1030  Elapsed: 0:00:16.\n",
      "\n",
      "Avg Validation Loss 0.1827, Completed in 0:00:18\n",
      "F1 Score 0.9298, ROC AUC 0.9298, Accuracy 0.9298 \n",
      "\n",
      "######  Epoch 2/2 ######\n",
      "-----  Training -----\n",
      "Batch   100  of  3,183.  Loss 0.1024  Elapsed: 0:00:11.\n",
      "Batch   200  of  3,183.  Loss 0.0933  Elapsed: 0:00:22.\n",
      "Batch   300  of  3,183.  Loss 0.0491  Elapsed: 0:00:33.\n",
      "Batch   400  of  3,183.  Loss 0.2615  Elapsed: 0:00:44.\n",
      "Batch   500  of  3,183.  Loss 0.0791  Elapsed: 0:00:55.\n",
      "Batch   600  of  3,183.  Loss 0.1170  Elapsed: 0:01:06.\n",
      "Batch   700  of  3,183.  Loss 0.1261  Elapsed: 0:01:16.\n",
      "Batch   800  of  3,183.  Loss 0.1076  Elapsed: 0:01:27.\n",
      "Batch   900  of  3,183.  Loss 0.1901  Elapsed: 0:01:38.\n",
      "Batch 1,000  of  3,183.  Loss 0.2652  Elapsed: 0:01:49.\n",
      "Batch 1,100  of  3,183.  Loss 0.0633  Elapsed: 0:02:00.\n",
      "Batch 1,200  of  3,183.  Loss 0.0709  Elapsed: 0:02:11.\n",
      "Batch 1,300  of  3,183.  Loss 0.1526  Elapsed: 0:02:22.\n",
      "Batch 1,400  of  3,183.  Loss 0.0519  Elapsed: 0:02:33.\n",
      "Batch 1,500  of  3,183.  Loss 0.1197  Elapsed: 0:02:43.\n",
      "Batch 1,600  of  3,183.  Loss 0.0472  Elapsed: 0:02:54.\n",
      "Batch 1,700  of  3,183.  Loss 0.2773  Elapsed: 0:03:05.\n",
      "Batch 1,800  of  3,183.  Loss 0.0193  Elapsed: 0:03:16.\n",
      "Batch 1,900  of  3,183.  Loss 0.1694  Elapsed: 0:03:27.\n",
      "Batch 2,000  of  3,183.  Loss 0.3627  Elapsed: 0:03:38.\n",
      "Batch 2,100  of  3,183.  Loss 0.0374  Elapsed: 0:03:49.\n",
      "Batch 2,200  of  3,183.  Loss 0.1856  Elapsed: 0:04:00.\n",
      "Batch 2,300  of  3,183.  Loss 0.0308  Elapsed: 0:04:10.\n",
      "Batch 2,400  of  3,183.  Loss 0.0045  Elapsed: 0:04:21.\n",
      "Batch 2,500  of  3,183.  Loss 0.3431  Elapsed: 0:04:32.\n",
      "Batch 2,600  of  3,183.  Loss 0.0603  Elapsed: 0:04:43.\n",
      "Batch 2,700  of  3,183.  Loss 0.0181  Elapsed: 0:04:54.\n",
      "Batch 2,800  of  3,183.  Loss 0.0341  Elapsed: 0:05:05.\n",
      "Batch 2,900  of  3,183.  Loss 0.0554  Elapsed: 0:05:16.\n",
      "Batch 3,000  of  3,183.  Loss 0.1341  Elapsed: 0:05:27.\n",
      "Batch 3,100  of  3,183.  Loss 0.0196  Elapsed: 0:05:37.\n",
      "\n",
      "Avg Training Loss 0.1316, Completed in 0:05:46 \n",
      "\n",
      "-----  Validation -----\n",
      "Batch   100  of    562.  Loss 0.0363  Elapsed: 0:00:03.\n",
      "Batch   200  of    562.  Loss 0.3159  Elapsed: 0:00:07.\n",
      "Batch   300  of    562.  Loss 0.2044  Elapsed: 0:00:10.\n",
      "Batch   400  of    562.  Loss 0.1668  Elapsed: 0:00:13.\n",
      "Batch   500  of    562.  Loss 0.2599  Elapsed: 0:00:16.\n",
      "\n",
      "Avg Validation Loss 0.1858, Completed in 0:00:18\n",
      "F1 Score 0.9309, ROC AUC 0.9304, Accuracy 0.9304 \n",
      "\n"
     ]
    }
   ],
   "source": [
    "# Store the average loss after each epoch so we can plot them.\n",
    "train_loss_values = []\n",
    "val_loss_values = []\n",
    "\n",
    "for epoch in range(EPOCHS):\n",
    "    print ('######  Epoch {}/{} ######'.format(epoch+1, EPOCHS))\n",
    "    print ('-----  Training -----')\n",
    "    train_loss, train_time = train(train_loader, model, criterion, optimizer)\n",
    "    train_loss_values.append(train_loss)\n",
    "\n",
    "    print ('-----  Validation -----')\n",
    "    val_outputs, val_targets, val_loss, val_time = validate(val_loader, model, criterion)\n",
    "    val_loss_values.append(val_loss)\n",
    "    val_f1, val_roc_auc, val_accuracy = compute_metrics(val_outputs, val_targets)"
   ]
  },
  {
   "cell_type": "code",
   "execution_count": 65,
   "metadata": {
    "id": "5BL6wxYF9fL2"
   },
   "outputs": [
    {
     "data": {
      "image/png": "[encoded data removed]",
      "text/plain": [
       "<Figure size 1000x600 with 1 Axes>"
      ]
     },
     "metadata": {},
     "output_type": "display_data"
    }
   ],
   "source": [
    "### Plot Training & Validation Loss\n",
    "data = {'Epoch': range(1, 3), 'Training Loss': train_loss_values, 'Validation Loss': val_loss_values}\n",
    "df = pd.DataFrame(data)\n",
    "\n",
    "fig, ax = plt.subplots(figsize=(10, 6))\n",
    "sns.set_style('whitegrid')\n",
    "sns.set(font_scale=1.5)\n",
    "\n",
    "# Plot train & val loss\n",
    "sns.lineplot(data=df, x=\"Epoch\", y=\"Training Loss\", label=\"Training Loss\", marker='o')\n",
    "sns.lineplot(data=df, x=\"Epoch\", y=\"Validation Loss\", label=\"Validation Loss\", marker='o')\n",
    "\n",
    "# set the axis labels and title\n",
    "ax.set(xlabel='Epoch', ylabel='Loss')\n",
    "ax.set_title('Training and Validation Loss', fontsize=18)\n",
    "\n",
    "# set the legend and adjust its position\n",
    "plt.legend(fontsize=14)\n",
    "\n",
    "# set the ticks fontsize\n",
    "ax.tick_params(axis='both', which='major', labelsize=14)"
   ]
  },
  {
   "cell_type": "code",
   "execution_count": 66,
   "metadata": {
    "id": "J_c04zrw9fB5"
   },
   "outputs": [
    {
     "name": "stdout",
     "output_type": "stream",
     "text": [
      "\n",
      "Evaluation metrics for Test Set:\n",
      "F1 Score 0.9286, ROC AUC 0.9285, Accuracy 0.9285 \n",
      "\n"
     ]
    }
   ],
   "source": [
    "# Predicting with Test Set\n",
    "test_outputs, test_targets, test_loss, test_time = validate(test_loader, model, criterion, verbose=False)\n",
    "print('\\nEvaluation metrics for Test Set:')\n",
    "test_f1, test_roc_auc, test_accuracy = compute_metrics(test_outputs, test_targets)"
   ]
  },
  {
   "cell_type": "code",
   "execution_count": 67,
   "metadata": {
    "id": "x6q8_xml9e1E"
   },
   "outputs": [],
   "source": [
    "torch.save(model.state_dict(), 'models/DistilBertToxicClassification6.pth')"
   ]
  }
 ],
 "metadata": {
  "accelerator": "GPU",
  "colab": {
   "provenance": [],
   "toc_visible": true
  },
  "gpuClass": "standard",
  "kernelspec": {
   "display_name": "Python 3 (ipykernel)",
   "language": "python",
   "name": "python3"
  },
  "language_info": {
   "codemirror_mode": {
    "name": "ipython",
    "version": 3
   },
   "file_extension": ".py",
   "mimetype": "text/x-python",
   "name": "python",
   "nbconvert_exporter": "python",
   "pygments_lexer": "ipython3",
   "version": "3.9.16"
  },
  "widgets": {
   "application/vnd.jupyter.widget-state+json": {
    "0885628f3d0c452b8424ddb185b27138": {
     "model_module": "@jupyter-widgets/controls",
     "model_module_version": "1.5.0",
     "model_name": "HTMLModel",
     "state": {
      "_dom_classes": [],
      "_model_module": "@jupyter-widgets/controls",
      "_model_module_version": "1.5.0",
      "_model_name": "HTMLModel",
      "_view_count": null,
      "_view_module": "@jupyter-widgets/controls",
      "_view_module_version": "1.5.0",
      "_view_name": "HTMLView",
      "description": "",
      "description_tooltip": null,
      "layout": "IPY_MODEL_e3186ec8579e4414acc63d42d9ff6148",
      "placeholder": "​",
      "style": "IPY_MODEL_92ad9f6668904bc2930e053051e8081b",
      "value": " 232k/232k [00:00&lt;00:00, 1.84MB/s]"
     }
    },
    "1230a4a632db43e8bb803bc96d12de42": {
     "model_module": "@jupyter-widgets/base",
     "model_module_version": "1.2.0",
     "model_name": "LayoutModel",
     "state": {
      "_model_module": "@jupyter-widgets/base",
      "_model_module_version": "1.2.0",
      "_model_name": "LayoutModel",
      "_view_count": null,
      "_view_module": "@jupyter-widgets/base",
      "_view_module_version": "1.2.0",
      "_view_name": "LayoutView",
      "align_content": null,
      "align_items": null,
      "align_self": null,
      "border": null,
      "bottom": null,
      "display": null,
      "flex": null,
      "flex_flow": null,
      "grid_area": null,
      "grid_auto_columns": null,
      "grid_auto_flow": null,
      "grid_auto_rows": null,
      "grid_column": null,
      "grid_gap": null,
      "grid_row": null,
      "grid_template_areas": null,
      "grid_template_columns": null,
      "grid_template_rows": null,
      "height": null,
      "justify_content": null,
      "justify_items": null,
      "left": null,
      "margin": null,
      "max_height": null,
      "max_width": null,
      "min_height": null,
      "min_width": null,
      "object_fit": null,
      "object_position": null,
      "order": null,
      "overflow": null,
      "overflow_x": null,
      "overflow_y": null,
      "padding": null,
      "right": null,
      "top": null,
      "visibility": null,
      "width": null
     }
    },
    "1af9f0ed12394573937a4349eb95d486": {
     "model_module": "@jupyter-widgets/controls",
     "model_module_version": "1.5.0",
     "model_name": "FloatProgressModel",
     "state": {
      "_dom_classes": [],
      "_model_module": "@jupyter-widgets/controls",
      "_model_module_version": "1.5.0",
      "_model_name": "FloatProgressModel",
      "_view_count": null,
      "_view_module": "@jupyter-widgets/controls",
      "_view_module_version": "1.5.0",
      "_view_name": "ProgressView",
      "bar_style": "success",
      "description": "",
      "description_tooltip": null,
      "layout": "IPY_MODEL_f2f6741ac2e44c8cae346c50fd105ffc",
      "max": 28,
      "min": 0,
      "orientation": "horizontal",
      "style": "IPY_MODEL_a893c3328702423a936b7615c9f497ea",
      "value": 28
     }
    },
    "1d24e1337c48416e829e18bd5f701bb1": {
     "model_module": "@jupyter-widgets/controls",
     "model_module_version": "1.5.0",
     "model_name": "HTMLModel",
     "state": {
      "_dom_classes": [],
      "_model_module": "@jupyter-widgets/controls",
      "_model_module_version": "1.5.0",
      "_model_name": "HTMLModel",
      "_view_count": null,
      "_view_module": "@jupyter-widgets/controls",
      "_view_module_version": "1.5.0",
      "_view_name": "HTMLView",
      "description": "",
      "description_tooltip": null,
      "layout": "IPY_MODEL_ebe1ecd04f8a4134ad586355b9fc4d8e",
      "placeholder": "​",
      "style": "IPY_MODEL_2d50cadf4ff541888740d8f85b5bef1b",
      "value": "Downloading (…)okenizer_config.json: 100%"
     }
    },
    "26ec7a9374db438a87a38d124031e69f": {
     "model_module": "@jupyter-widgets/base",
     "model_module_version": "1.2.0",
     "model_name": "LayoutModel",
     "state": {
      "_model_module": "@jupyter-widgets/base",
      "_model_module_version": "1.2.0",
      "_model_name": "LayoutModel",
      "_view_count": null,
      "_view_module": "@jupyter-widgets/base",
      "_view_module_version": "1.2.0",
      "_view_name": "LayoutView",
      "align_content": null,
      "align_items": null,
      "align_self": null,
      "border": null,
      "bottom": null,
      "display": null,
      "flex": null,
      "flex_flow": null,
      "grid_area": null,
      "grid_auto_columns": null,
      "grid_auto_flow": null,
      "grid_auto_rows": null,
      "grid_column": null,
      "grid_gap": null,
      "grid_row": null,
      "grid_template_areas": null,
      "grid_template_columns": null,
      "grid_template_rows": null,
      "height": null,
      "justify_content": null,
      "justify_items": null,
      "left": null,
      "margin": null,
      "max_height": null,
      "max_width": null,
      "min_height": null,
      "min_width": null,
      "object_fit": null,
      "object_position": null,
      "order": null,
      "overflow": null,
      "overflow_x": null,
      "overflow_y": null,
      "padding": null,
      "right": null,
      "top": null,
      "visibility": null,
      "width": null
     }
    },
    "2a4f1c1adb28477bb84eabee92338db2": {
     "model_module": "@jupyter-widgets/controls",
     "model_module_version": "1.5.0",
     "model_name": "ProgressStyleModel",
     "state": {
      "_model_module": "@jupyter-widgets/controls",
      "_model_module_version": "1.5.0",
      "_model_name": "ProgressStyleModel",
      "_view_count": null,
      "_view_module": "@jupyter-widgets/base",
      "_view_module_version": "1.2.0",
      "_view_name": "StyleView",
      "bar_color": null,
      "description_width": ""
     }
    },
    "2d50cadf4ff541888740d8f85b5bef1b": {
     "model_module": "@jupyter-widgets/controls",
     "model_module_version": "1.5.0",
     "model_name": "DescriptionStyleModel",
     "state": {
      "_model_module": "@jupyter-widgets/controls",
      "_model_module_version": "1.5.0",
      "_model_name": "DescriptionStyleModel",
      "_view_count": null,
      "_view_module": "@jupyter-widgets/base",
      "_view_module_version": "1.2.0",
      "_view_name": "StyleView",
      "description_width": ""
     }
    },
    "386458017aea44639a54991311dab4e3": {
     "model_module": "@jupyter-widgets/base",
     "model_module_version": "1.2.0",
     "model_name": "LayoutModel",
     "state": {
      "_model_module": "@jupyter-widgets/base",
      "_model_module_version": "1.2.0",
      "_model_name": "LayoutModel",
      "_view_count": null,
      "_view_module": "@jupyter-widgets/base",
      "_view_module_version": "1.2.0",
      "_view_name": "LayoutView",
      "align_content": null,
      "align_items": null,
      "align_self": null,
      "border": null,
      "bottom": null,
      "display": null,
      "flex": null,
      "flex_flow": null,
      "grid_area": null,
      "grid_auto_columns": null,
      "grid_auto_flow": null,
      "grid_auto_rows": null,
      "grid_column": null,
      "grid_gap": null,
      "grid_row": null,
      "grid_template_areas": null,
      "grid_template_columns": null,
      "grid_template_rows": null,
      "height": null,
      "justify_content": null,
      "justify_items": null,
      "left": null,
      "margin": null,
      "max_height": null,
      "max_width": null,
      "min_height": null,
      "min_width": null,
      "object_fit": null,
      "object_position": null,
      "order": null,
      "overflow": null,
      "overflow_x": null,
      "overflow_y": null,
      "padding": null,
      "right": null,
      "top": null,
      "visibility": null,
      "width": null
     }
    },
    "42774b8b1a9246ff8f10597090f99b23": {
     "model_module": "@jupyter-widgets/controls",
     "model_module_version": "1.5.0",
     "model_name": "HBoxModel",
     "state": {
      "_dom_classes": [],
      "_model_module": "@jupyter-widgets/controls",
      "_model_module_version": "1.5.0",
      "_model_name": "HBoxModel",
      "_view_count": null,
      "_view_module": "@jupyter-widgets/controls",
      "_view_module_version": "1.5.0",
      "_view_name": "HBoxView",
      "box_style": "",
      "children": [
       "IPY_MODEL_60f84c32e88c4df694fce99486e1fd65",
       "IPY_MODEL_7ad2c9f7d7f44c07afc90f42dd113cc5",
       "IPY_MODEL_0885628f3d0c452b8424ddb185b27138"
      ],
      "layout": "IPY_MODEL_b8d05a94930145fc8f6b28cc02ecce71"
     }
    },
    "53895557500a4b17b05175cf6e80aeb2": {
     "model_module": "@jupyter-widgets/base",
     "model_module_version": "1.2.0",
     "model_name": "LayoutModel",
     "state": {
      "_model_module": "@jupyter-widgets/base",
      "_model_module_version": "1.2.0",
      "_model_name": "LayoutModel",
      "_view_count": null,
      "_view_module": "@jupyter-widgets/base",
      "_view_module_version": "1.2.0",
      "_view_name": "LayoutView",
      "align_content": null,
      "align_items": null,
      "align_self": null,
      "border": null,
      "bottom": null,
      "display": null,
      "flex": null,
      "flex_flow": null,
      "grid_area": null,
      "grid_auto_columns": null,
      "grid_auto_flow": null,
      "grid_auto_rows": null,
      "grid_column": null,
      "grid_gap": null,
      "grid_row": null,
      "grid_template_areas": null,
      "grid_template_columns": null,
      "grid_template_rows": null,
      "height": null,
      "justify_content": null,
      "justify_items": null,
      "left": null,
      "margin": null,
      "max_height": null,
      "max_width": null,
      "min_height": null,
      "min_width": null,
      "object_fit": null,
      "object_position": null,
      "order": null,
      "overflow": null,
      "overflow_x": null,
      "overflow_y": null,
      "padding": null,
      "right": null,
      "top": null,
      "visibility": null,
      "width": null
     }
    },
    "60f84c32e88c4df694fce99486e1fd65": {
     "model_module": "@jupyter-widgets/controls",
     "model_module_version": "1.5.0",
     "model_name": "HTMLModel",
     "state": {
      "_dom_classes": [],
      "_model_module": "@jupyter-widgets/controls",
      "_model_module_version": "1.5.0",
      "_model_name": "HTMLModel",
      "_view_count": null,
      "_view_module": "@jupyter-widgets/controls",
      "_view_module_version": "1.5.0",
      "_view_name": "HTMLView",
      "description": "",
      "description_tooltip": null,
      "layout": "IPY_MODEL_386458017aea44639a54991311dab4e3",
      "placeholder": "​",
      "style": "IPY_MODEL_793bf2eabb2d4160b12949a402680d77",
      "value": "Downloading (…)solve/main/vocab.txt: 100%"
     }
    },
    "6a267987ae0b4def826d57f8ec273455": {
     "model_module": "@jupyter-widgets/controls",
     "model_module_version": "1.5.0",
     "model_name": "HTMLModel",
     "state": {
      "_dom_classes": [],
      "_model_module": "@jupyter-widgets/controls",
      "_model_module_version": "1.5.0",
      "_model_name": "HTMLModel",
      "_view_count": null,
      "_view_module": "@jupyter-widgets/controls",
      "_view_module_version": "1.5.0",
      "_view_name": "HTMLView",
      "description": "",
      "description_tooltip": null,
      "layout": "IPY_MODEL_1230a4a632db43e8bb803bc96d12de42",
      "placeholder": "​",
      "style": "IPY_MODEL_96835a52aeff40618b50abd54e7506e9",
      "value": " 28.0/28.0 [00:00&lt;00:00, 630B/s]"
     }
    },
    "71a7626f0fa9466d82122ac97cee1700": {
     "model_module": "@jupyter-widgets/base",
     "model_module_version": "1.2.0",
     "model_name": "LayoutModel",
     "state": {
      "_model_module": "@jupyter-widgets/base",
      "_model_module_version": "1.2.0",
      "_model_name": "LayoutModel",
      "_view_count": null,
      "_view_module": "@jupyter-widgets/base",
      "_view_module_version": "1.2.0",
      "_view_name": "LayoutView",
      "align_content": null,
      "align_items": null,
      "align_self": null,
      "border": null,
      "bottom": null,
      "display": null,
      "flex": null,
      "flex_flow": null,
      "grid_area": null,
      "grid_auto_columns": null,
      "grid_auto_flow": null,
      "grid_auto_rows": null,
      "grid_column": null,
      "grid_gap": null,
      "grid_row": null,
      "grid_template_areas": null,
      "grid_template_columns": null,
      "grid_template_rows": null,
      "height": null,
      "justify_content": null,
      "justify_items": null,
      "left": null,
      "margin": null,
      "max_height": null,
      "max_width": null,
      "min_height": null,
      "min_width": null,
      "object_fit": null,
      "object_position": null,
      "order": null,
      "overflow": null,
      "overflow_x": null,
      "overflow_y": null,
      "padding": null,
      "right": null,
      "top": null,
      "visibility": null,
      "width": null
     }
    },
    "793bf2eabb2d4160b12949a402680d77": {
     "model_module": "@jupyter-widgets/controls",
     "model_module_version": "1.5.0",
     "model_name": "DescriptionStyleModel",
     "state": {
      "_model_module": "@jupyter-widgets/controls",
      "_model_module_version": "1.5.0",
      "_model_name": "DescriptionStyleModel",
      "_view_count": null,
      "_view_module": "@jupyter-widgets/base",
      "_view_module_version": "1.2.0",
      "_view_name": "StyleView",
      "description_width": ""
     }
    },
    "7ad2c9f7d7f44c07afc90f42dd113cc5": {
     "model_module": "@jupyter-widgets/controls",
     "model_module_version": "1.5.0",
     "model_name": "FloatProgressModel",
     "state": {
      "_dom_classes": [],
      "_model_module": "@jupyter-widgets/controls",
      "_model_module_version": "1.5.0",
      "_model_name": "FloatProgressModel",
      "_view_count": null,
      "_view_module": "@jupyter-widgets/controls",
      "_view_module_version": "1.5.0",
      "_view_name": "ProgressView",
      "bar_style": "success",
      "description": "",
      "description_tooltip": null,
      "layout": "IPY_MODEL_53895557500a4b17b05175cf6e80aeb2",
      "max": 231508,
      "min": 0,
      "orientation": "horizontal",
      "style": "IPY_MODEL_2a4f1c1adb28477bb84eabee92338db2",
      "value": 231508
     }
    },
    "92ad9f6668904bc2930e053051e8081b": {
     "model_module": "@jupyter-widgets/controls",
     "model_module_version": "1.5.0",
     "model_name": "DescriptionStyleModel",
     "state": {
      "_model_module": "@jupyter-widgets/controls",
      "_model_module_version": "1.5.0",
      "_model_name": "DescriptionStyleModel",
      "_view_count": null,
      "_view_module": "@jupyter-widgets/base",
      "_view_module_version": "1.2.0",
      "_view_name": "StyleView",
      "description_width": ""
     }
    },
    "96835a52aeff40618b50abd54e7506e9": {
     "model_module": "@jupyter-widgets/controls",
     "model_module_version": "1.5.0",
     "model_name": "DescriptionStyleModel",
     "state": {
      "_model_module": "@jupyter-widgets/controls",
      "_model_module_version": "1.5.0",
      "_model_name": "DescriptionStyleModel",
      "_view_count": null,
      "_view_module": "@jupyter-widgets/base",
      "_view_module_version": "1.2.0",
      "_view_name": "StyleView",
      "description_width": ""
     }
    },
    "a893c3328702423a936b7615c9f497ea": {
     "model_module": "@jupyter-widgets/controls",
     "model_module_version": "1.5.0",
     "model_name": "ProgressStyleModel",
     "state": {
      "_model_module": "@jupyter-widgets/controls",
      "_model_module_version": "1.5.0",
      "_model_name": "ProgressStyleModel",
      "_view_count": null,
      "_view_module": "@jupyter-widgets/base",
      "_view_module_version": "1.2.0",
      "_view_name": "StyleView",
      "bar_color": null,
      "description_width": ""
     }
    },
    "b04f4ac2264243e4b580daab95afb186": {
     "model_module": "@jupyter-widgets/controls",
     "model_module_version": "1.5.0",
     "model_name": "HBoxModel",
     "state": {
      "_dom_classes": [],
      "_model_module": "@jupyter-widgets/controls",
      "_model_module_version": "1.5.0",
      "_model_name": "HBoxModel",
      "_view_count": null,
      "_view_module": "@jupyter-widgets/controls",
      "_view_module_version": "1.5.0",
      "_view_name": "HBoxView",
      "box_style": "",
      "children": [
       "IPY_MODEL_bc1ccdc3a059454699a842dcfa09e6b6",
       "IPY_MODEL_e0ed26c5a3bf4f1aac173deaa3f3e19c",
       "IPY_MODEL_c74dff720af24052b11a80b64067b090"
      ],
      "layout": "IPY_MODEL_71a7626f0fa9466d82122ac97cee1700"
     }
    },
    "b8d05a94930145fc8f6b28cc02ecce71": {
     "model_module": "@jupyter-widgets/base",
     "model_module_version": "1.2.0",
     "model_name": "LayoutModel",
     "state": {
      "_model_module": "@jupyter-widgets/base",
      "_model_module_version": "1.2.0",
      "_model_name": "LayoutModel",
      "_view_count": null,
      "_view_module": "@jupyter-widgets/base",
      "_view_module_version": "1.2.0",
      "_view_name": "LayoutView",
      "align_content": null,
      "align_items": null,
      "align_self": null,
      "border": null,
      "bottom": null,
      "display": null,
      "flex": null,
      "flex_flow": null,
      "grid_area": null,
      "grid_auto_columns": null,
      "grid_auto_flow": null,
      "grid_auto_rows": null,
      "grid_column": null,
      "grid_gap": null,
      "grid_row": null,
      "grid_template_areas": null,
      "grid_template_columns": null,
      "grid_template_rows": null,
      "height": null,
      "justify_content": null,
      "justify_items": null,
      "left": null,
      "margin": null,
      "max_height": null,
      "max_width": null,
      "min_height": null,
      "min_width": null,
      "object_fit": null,
      "object_position": null,
      "order": null,
      "overflow": null,
      "overflow_x": null,
      "overflow_y": null,
      "padding": null,
      "right": null,
      "top": null,
      "visibility": null,
      "width": null
     }
    },
    "ba3db6557b724335802cd3161761e2a9": {
     "model_module": "@jupyter-widgets/controls",
     "model_module_version": "1.5.0",
     "model_name": "ProgressStyleModel",
     "state": {
      "_model_module": "@jupyter-widgets/controls",
      "_model_module_version": "1.5.0",
      "_model_name": "ProgressStyleModel",
      "_view_count": null,
      "_view_module": "@jupyter-widgets/base",
      "_view_module_version": "1.2.0",
      "_view_name": "StyleView",
      "bar_color": null,
      "description_width": ""
     }
    },
    "bc1ccdc3a059454699a842dcfa09e6b6": {
     "model_module": "@jupyter-widgets/controls",
     "model_module_version": "1.5.0",
     "model_name": "HTMLModel",
     "state": {
      "_dom_classes": [],
      "_model_module": "@jupyter-widgets/controls",
      "_model_module_version": "1.5.0",
      "_model_name": "HTMLModel",
      "_view_count": null,
      "_view_module": "@jupyter-widgets/controls",
      "_view_module_version": "1.5.0",
      "_view_name": "HTMLView",
      "description": "",
      "description_tooltip": null,
      "layout": "IPY_MODEL_d8843635c6ae400f9429ee0bb5393c63",
      "placeholder": "​",
      "style": "IPY_MODEL_d79d1711dc554d91b3ca96f3d0f6af4e",
      "value": "Downloading (…)lve/main/config.json: 100%"
     }
    },
    "c0d9f511274344fb8081f36d4bdec123": {
     "model_module": "@jupyter-widgets/base",
     "model_module_version": "1.2.0",
     "model_name": "LayoutModel",
     "state": {
      "_model_module": "@jupyter-widgets/base",
      "_model_module_version": "1.2.0",
      "_model_name": "LayoutModel",
      "_view_count": null,
      "_view_module": "@jupyter-widgets/base",
      "_view_module_version": "1.2.0",
      "_view_name": "LayoutView",
      "align_content": null,
      "align_items": null,
      "align_self": null,
      "border": null,
      "bottom": null,
      "display": null,
      "flex": null,
      "flex_flow": null,
      "grid_area": null,
      "grid_auto_columns": null,
      "grid_auto_flow": null,
      "grid_auto_rows": null,
      "grid_column": null,
      "grid_gap": null,
      "grid_row": null,
      "grid_template_areas": null,
      "grid_template_columns": null,
      "grid_template_rows": null,
      "height": null,
      "justify_content": null,
      "justify_items": null,
      "left": null,
      "margin": null,
      "max_height": null,
      "max_width": null,
      "min_height": null,
      "min_width": null,
      "object_fit": null,
      "object_position": null,
      "order": null,
      "overflow": null,
      "overflow_x": null,
      "overflow_y": null,
      "padding": null,
      "right": null,
      "top": null,
      "visibility": null,
      "width": null
     }
    },
    "c1a4cbe25b5244dd8a5983717cefcd3d": {
     "model_module": "@jupyter-widgets/controls",
     "model_module_version": "1.5.0",
     "model_name": "HBoxModel",
     "state": {
      "_dom_classes": [],
      "_model_module": "@jupyter-widgets/controls",
      "_model_module_version": "1.5.0",
      "_model_name": "HBoxModel",
      "_view_count": null,
      "_view_module": "@jupyter-widgets/controls",
      "_view_module_version": "1.5.0",
      "_view_name": "HBoxView",
      "box_style": "",
      "children": [
       "IPY_MODEL_1d24e1337c48416e829e18bd5f701bb1",
       "IPY_MODEL_1af9f0ed12394573937a4349eb95d486",
       "IPY_MODEL_6a267987ae0b4def826d57f8ec273455"
      ],
      "layout": "IPY_MODEL_c0d9f511274344fb8081f36d4bdec123"
     }
    },
    "c74dff720af24052b11a80b64067b090": {
     "model_module": "@jupyter-widgets/controls",
     "model_module_version": "1.5.0",
     "model_name": "HTMLModel",
     "state": {
      "_dom_classes": [],
      "_model_module": "@jupyter-widgets/controls",
      "_model_module_version": "1.5.0",
      "_model_name": "HTMLModel",
      "_view_count": null,
      "_view_module": "@jupyter-widgets/controls",
      "_view_module_version": "1.5.0",
      "_view_name": "HTMLView",
      "description": "",
      "description_tooltip": null,
      "layout": "IPY_MODEL_26ec7a9374db438a87a38d124031e69f",
      "placeholder": "​",
      "style": "IPY_MODEL_c9fbb051131c4d8c865ef9e6a6388940",
      "value": " 483/483 [00:00&lt;00:00, 15.9kB/s]"
     }
    },
    "c9fbb051131c4d8c865ef9e6a6388940": {
     "model_module": "@jupyter-widgets/controls",
     "model_module_version": "1.5.0",
     "model_name": "DescriptionStyleModel",
     "state": {
      "_model_module": "@jupyter-widgets/controls",
      "_model_module_version": "1.5.0",
      "_model_name": "DescriptionStyleModel",
      "_view_count": null,
      "_view_module": "@jupyter-widgets/base",
      "_view_module_version": "1.2.0",
      "_view_name": "StyleView",
      "description_width": ""
     }
    },
    "d79d1711dc554d91b3ca96f3d0f6af4e": {
     "model_module": "@jupyter-widgets/controls",
     "model_module_version": "1.5.0",
     "model_name": "DescriptionStyleModel",
     "state": {
      "_model_module": "@jupyter-widgets/controls",
      "_model_module_version": "1.5.0",
      "_model_name": "DescriptionStyleModel",
      "_view_count": null,
      "_view_module": "@jupyter-widgets/base",
      "_view_module_version": "1.2.0",
      "_view_name": "StyleView",
      "description_width": ""
     }
    },
    "d8843635c6ae400f9429ee0bb5393c63": {
     "model_module": "@jupyter-widgets/base",
     "model_module_version": "1.2.0",
     "model_name": "LayoutModel",
     "state": {
      "_model_module": "@jupyter-widgets/base",
      "_model_module_version": "1.2.0",
      "_model_name": "LayoutModel",
      "_view_count": null,
      "_view_module": "@jupyter-widgets/base",
      "_view_module_version": "1.2.0",
      "_view_name": "LayoutView",
      "align_content": null,
      "align_items": null,
      "align_self": null,
      "border": null,
      "bottom": null,
      "display": null,
      "flex": null,
      "flex_flow": null,
      "grid_area": null,
      "grid_auto_columns": null,
      "grid_auto_flow": null,
      "grid_auto_rows": null,
      "grid_column": null,
      "grid_gap": null,
      "grid_row": null,
      "grid_template_areas": null,
      "grid_template_columns": null,
      "grid_template_rows": null,
      "height": null,
      "justify_content": null,
      "justify_items": null,
      "left": null,
      "margin": null,
      "max_height": null,
      "max_width": null,
      "min_height": null,
      "min_width": null,
      "object_fit": null,
      "object_position": null,
      "order": null,
      "overflow": null,
      "overflow_x": null,
      "overflow_y": null,
      "padding": null,
      "right": null,
      "top": null,
      "visibility": null,
      "width": null
     }
    },
    "e0ed26c5a3bf4f1aac173deaa3f3e19c": {
     "model_module": "@jupyter-widgets/controls",
     "model_module_version": "1.5.0",
     "model_name": "FloatProgressModel",
     "state": {
      "_dom_classes": [],
      "_model_module": "@jupyter-widgets/controls",
      "_model_module_version": "1.5.0",
      "_model_name": "FloatProgressModel",
      "_view_count": null,
      "_view_module": "@jupyter-widgets/controls",
      "_view_module_version": "1.5.0",
      "_view_name": "ProgressView",
      "bar_style": "success",
      "description": "",
      "description_tooltip": null,
      "layout": "IPY_MODEL_e711c2dcefef4097ad8c77d314569f95",
      "max": 483,
      "min": 0,
      "orientation": "horizontal",
      "style": "IPY_MODEL_ba3db6557b724335802cd3161761e2a9",
      "value": 483
     }
    },
    "e3186ec8579e4414acc63d42d9ff6148": {
     "model_module": "@jupyter-widgets/base",
     "model_module_version": "1.2.0",
     "model_name": "LayoutModel",
     "state": {
      "_model_module": "@jupyter-widgets/base",
      "_model_module_version": "1.2.0",
      "_model_name": "LayoutModel",
      "_view_count": null,
      "_view_module": "@jupyter-widgets/base",
      "_view_module_version": "1.2.0",
      "_view_name": "LayoutView",
      "align_content": null,
      "align_items": null,
      "align_self": null,
      "border": null,
      "bottom": null,
      "display": null,
      "flex": null,
      "flex_flow": null,
      "grid_area": null,
      "grid_auto_columns": null,
      "grid_auto_flow": null,
      "grid_auto_rows": null,
      "grid_column": null,
      "grid_gap": null,
      "grid_row": null,
      "grid_template_areas": null,
      "grid_template_columns": null,
      "grid_template_rows": null,
      "height": null,
      "justify_content": null,
      "justify_items": null,
      "left": null,
      "margin": null,
      "max_height": null,
      "max_width": null,
      "min_height": null,
      "min_width": null,
      "object_fit": null,
      "object_position": null,
      "order": null,
      "overflow": null,
      "overflow_x": null,
      "overflow_y": null,
      "padding": null,
      "right": null,
      "top": null,
      "visibility": null,
      "width": null
     }
    },
    "e711c2dcefef4097ad8c77d314569f95": {
     "model_module": "@jupyter-widgets/base",
     "model_module_version": "1.2.0",
     "model_name": "LayoutModel",
     "state": {
      "_model_module": "@jupyter-widgets/base",
      "_model_module_version": "1.2.0",
      "_model_name": "LayoutModel",
      "_view_count": null,
      "_view_module": "@jupyter-widgets/base",
      "_view_module_version": "1.2.0",
      "_view_name": "LayoutView",
      "align_content": null,
      "align_items": null,
      "align_self": null,
      "border": null,
      "bottom": null,
      "display": null,
      "flex": null,
      "flex_flow": null,
      "grid_area": null,
      "grid_auto_columns": null,
      "grid_auto_flow": null,
      "grid_auto_rows": null,
      "grid_column": null,
      "grid_gap": null,
      "grid_row": null,
      "grid_template_areas": null,
      "grid_template_columns": null,
      "grid_template_rows": null,
      "height": null,
      "justify_content": null,
      "justify_items": null,
      "left": null,
      "margin": null,
      "max_height": null,
      "max_width": null,
      "min_height": null,
      "min_width": null,
      "object_fit": null,
      "object_position": null,
      "order": null,
      "overflow": null,
      "overflow_x": null,
      "overflow_y": null,
      "padding": null,
      "right": null,
      "top": null,
      "visibility": null,
      "width": null
     }
    },
    "ebe1ecd04f8a4134ad586355b9fc4d8e": {
     "model_module": "@jupyter-widgets/base",
     "model_module_version": "1.2.0",
     "model_name": "LayoutModel",
     "state": {
      "_model_module": "@jupyter-widgets/base",
      "_model_module_version": "1.2.0",
      "_model_name": "LayoutModel",
      "_view_count": null,
      "_view_module": "@jupyter-widgets/base",
      "_view_module_version": "1.2.0",
      "_view_name": "LayoutView",
      "align_content": null,
      "align_items": null,
      "align_self": null,
      "border": null,
      "bottom": null,
      "display": null,
      "flex": null,
      "flex_flow": null,
      "grid_area": null,
      "grid_auto_columns": null,
      "grid_auto_flow": null,
      "grid_auto_rows": null,
      "grid_column": null,
      "grid_gap": null,
      "grid_row": null,
      "grid_template_areas": null,
      "grid_template_columns": null,
      "grid_template_rows": null,
      "height": null,
      "justify_content": null,
      "justify_items": null,
      "left": null,
      "margin": null,
      "max_height": null,
      "max_width": null,
      "min_height": null,
      "min_width": null,
      "object_fit": null,
      "object_position": null,
      "order": null,
      "overflow": null,
      "overflow_x": null,
      "overflow_y": null,
      "padding": null,
      "right": null,
      "top": null,
      "visibility": null,
      "width": null
     }
    },
    "f2f6741ac2e44c8cae346c50fd105ffc": {
     "model_module": "@jupyter-widgets/base",
     "model_module_version": "1.2.0",
     "model_name": "LayoutModel",
     "state": {
      "_model_module": "@jupyter-widgets/base",
      "_model_module_version": "1.2.0",
      "_model_name": "LayoutModel",
      "_view_count": null,
      "_view_module": "@jupyter-widgets/base",
      "_view_module_version": "1.2.0",
      "_view_name": "LayoutView",
      "align_content": null,
      "align_items": null,
      "align_self": null,
      "border": null,
      "bottom": null,
      "display": null,
      "flex": null,
      "flex_flow": null,
      "grid_area": null,
      "grid_auto_columns": null,
      "grid_auto_flow": null,
      "grid_auto_rows": null,
      "grid_column": null,
      "grid_gap": null,
      "grid_row": null,
      "grid_template_areas": null,
      "grid_template_columns": null,
      "grid_template_rows": null,
      "height": null,
      "justify_content": null,
      "justify_items": null,
      "left": null,
      "margin": null,
      "max_height": null,
      "max_width": null,
      "min_height": null,
      "min_width": null,
      "object_fit": null,
      "object_position": null,
      "order": null,
      "overflow": null,
      "overflow_x": null,
      "overflow_y": null,
      "padding": null,
      "right": null,
      "top": null,
      "visibility": null,
      "width": null
     }
    }
   }
  }
 },
 "nbformat": 4,
 "nbformat_minor": 4
}
